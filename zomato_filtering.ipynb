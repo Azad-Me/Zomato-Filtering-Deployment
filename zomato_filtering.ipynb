{
  "cells": [
    {
      "cell_type": "markdown",
      "metadata": {
        "id": "view-in-github",
        "colab_type": "text"
      },
      "source": [
        "<a href=\"https://colab.research.google.com/github/Azad-Me/Zomato-Filtering-Deployment/blob/main/zomato_filtering.ipynb\" target=\"_parent\"><img src=\"https://colab.research.google.com/assets/colab-badge.svg\" alt=\"Open In Colab\"/></a>"
      ]
    },
    {
      "cell_type": "markdown",
      "metadata": {
        "id": "vncDsAP0Gaoa"
      },
      "source": [
        "# **Project Name**    -\n",
        "\n"
      ]
    },
    {
      "cell_type": "markdown",
      "metadata": {
        "id": "beRrZCGUAJYm"
      },
      "source": [
        "##### **Project Type**    - EDA/Regression/Classification/Unsupervised\n",
        "##### **Contribution**    - Individual/Team\n",
        "##### **Team Member 1 -**\n",
        "##### **Team Member 2 -**\n",
        "##### **Team Member 3 -**\n",
        "##### **Team Member 4 -**"
      ]
    },
    {
      "cell_type": "markdown",
      "metadata": {
        "id": "FJNUwmbgGyua"
      },
      "source": [
        "# **Project Summary -**"
      ]
    },
    {
      "cell_type": "markdown",
      "metadata": {
        "id": "F6v_1wHtG2nS"
      },
      "source": [
        "Write the summary here within 500-600 words."
      ]
    },
    {
      "cell_type": "markdown",
      "metadata": {
        "id": "w6K7xa23Elo4"
      },
      "source": [
        "# **GitHub Link -**"
      ]
    },
    {
      "cell_type": "markdown",
      "metadata": {
        "id": "h1o69JH3Eqqn"
      },
      "source": [
        "Provide your GitHub Link here."
      ]
    },
    {
      "cell_type": "markdown",
      "metadata": {
        "id": "yQaldy8SH6Dl"
      },
      "source": [
        "# **Problem Statement**\n"
      ]
    },
    {
      "cell_type": "markdown",
      "metadata": {
        "id": "DpeJGUA3kjGy"
      },
      "source": [
        "**Write Problem Statement Here.**"
      ]
    },
    {
      "cell_type": "markdown",
      "metadata": {
        "id": "O_i_v8NEhb9l"
      },
      "source": [
        "# ***Let's Begin !***"
      ]
    },
    {
      "cell_type": "markdown",
      "metadata": {
        "id": "HhfV-JJviCcP"
      },
      "source": [
        "## ***1. Know Your Data***"
      ]
    },
    {
      "cell_type": "markdown",
      "metadata": {
        "id": "Y3lxredqlCYt"
      },
      "source": [
        "### Import Libraries"
      ]
    },
    {
      "cell_type": "code",
      "execution_count": null,
      "metadata": {
        "id": "M8Vqi-pPk-HR"
      },
      "outputs": [],
      "source": [
        "# Import Libraries\n",
        "import numpy as np\n",
        "import pandas as pd\n",
        "import seaborn as sns\n",
        "import matplotlib.pyplot as plt\n",
        "\n",
        "from sklearn.naive_bayes import GaussianNB,MultinomialNB, BernoulliNB\n",
        "from sklearn.model_selection import train_test_split\n",
        "from sklearn.metrics import roc_auc_score, confusion_matrix, accuracy_score\n",
        "from sklearn.metrics import classification_report\n",
        "from xgboost import XGBClassifier\n",
        "from sklearn.ensemble import RandomForestClassifier\n",
        "from sklearn.model_selection import RandomizedSearchCV\n",
        "\n",
        "import warnings\n",
        "warnings.filterwarnings('ignore')"
      ]
    },
    {
      "cell_type": "code",
      "execution_count": null,
      "metadata": {
        "colab": {
          "base_uri": "https://localhost:8080/"
        },
        "id": "szKmDVXyn9qt",
        "outputId": "e25f54c2-ea33-4f2f-8b29-c197f4370b11"
      },
      "outputs": [
        {
          "output_type": "stream",
          "name": "stdout",
          "text": [
            "Looking in indexes: https://pypi.org/simple, https://us-python.pkg.dev/colab-wheels/public/simple/\n",
            "Collecting contractions\n",
            "  Downloading contractions-0.1.73-py2.py3-none-any.whl (8.7 kB)\n",
            "Collecting textsearch>=0.0.21 (from contractions)\n",
            "  Downloading textsearch-0.0.24-py2.py3-none-any.whl (7.6 kB)\n",
            "Collecting anyascii (from textsearch>=0.0.21->contractions)\n",
            "  Downloading anyascii-0.3.2-py3-none-any.whl (289 kB)\n",
            "\u001b[2K     \u001b[90m━━━━━━━━━━━━━━━━━━━━━━━━━━━━━━━━━━━━━━━\u001b[0m \u001b[32m289.9/289.9 kB\u001b[0m \u001b[31m6.2 MB/s\u001b[0m eta \u001b[36m0:00:00\u001b[0m\n",
            "\u001b[?25hCollecting pyahocorasick (from textsearch>=0.0.21->contractions)\n",
            "  Downloading pyahocorasick-2.0.0-cp310-cp310-manylinux_2_5_x86_64.manylinux1_x86_64.manylinux_2_12_x86_64.manylinux2010_x86_64.whl (110 kB)\n",
            "\u001b[2K     \u001b[90m━━━━━━━━━━━━━━━━━━━━━━━━━━━━━━━━━━━━━━\u001b[0m \u001b[32m110.8/110.8 kB\u001b[0m \u001b[31m13.6 MB/s\u001b[0m eta \u001b[36m0:00:00\u001b[0m\n",
            "\u001b[?25hInstalling collected packages: pyahocorasick, anyascii, textsearch, contractions\n",
            "Successfully installed anyascii-0.3.2 contractions-0.1.73 pyahocorasick-2.0.0 textsearch-0.0.24\n"
          ]
        }
      ],
      "source": [
        "pip install contractions"
      ]
    },
    {
      "cell_type": "code",
      "execution_count": null,
      "metadata": {
        "colab": {
          "base_uri": "https://localhost:8080/"
        },
        "id": "5ilfb-zrn7fe",
        "outputId": "12ec13d1-22f4-473f-d1a4-ecaf52ff97f8"
      },
      "outputs": [
        {
          "output_type": "stream",
          "name": "stderr",
          "text": [
            "[nltk_data] Downloading package stopwords to /root/nltk_data...\n",
            "[nltk_data]   Unzipping corpora/stopwords.zip.\n",
            "[nltk_data] Downloading package wordnet to /root/nltk_data...\n",
            "[nltk_data] Downloading package punkt to /root/nltk_data...\n",
            "[nltk_data]   Unzipping tokenizers/punkt.zip.\n"
          ]
        },
        {
          "output_type": "execute_result",
          "data": {
            "text/plain": [
              "True"
            ]
          },
          "metadata": {},
          "execution_count": 3
        }
      ],
      "source": [
        "import nltk\n",
        "import string\n",
        "nltk.download('stopwords')\n",
        "from nltk.corpus import stopwords\n",
        "import re\n",
        "from sklearn.feature_extraction.text import TfidfVectorizer\n",
        "from nltk.stem.wordnet import WordNetLemmatizer\n",
        "nltk.download('wordnet')\n",
        "from nltk.corpus import wordnet\n",
        "import contractions\n",
        "from nltk.tokenize import word_tokenize\n",
        "nltk.download('punkt')"
      ]
    },
    {
      "cell_type": "markdown",
      "metadata": {
        "id": "3RnN4peoiCZX"
      },
      "source": [
        "### Dataset Loading"
      ]
    },
    {
      "cell_type": "code",
      "execution_count": null,
      "metadata": {
        "colab": {
          "base_uri": "https://localhost:8080/"
        },
        "id": "4CkvbW_SlZ_R",
        "outputId": "117835e0-afed-449e-f454-ac6540175fc1"
      },
      "outputs": [
        {
          "output_type": "stream",
          "name": "stdout",
          "text": [
            "Mounted at /content/drive\n"
          ]
        }
      ],
      "source": [
        "# Load Dataset\n",
        "from google.colab import drive\n",
        "drive.mount('/content/drive')"
      ]
    },
    {
      "cell_type": "code",
      "execution_count": null,
      "metadata": {
        "id": "IYpIbTnKyggt"
      },
      "outputs": [],
      "source": [
        "first_df = pd.read_csv('/content/drive/MyDrive/dat/Dataset/zomato/Zomato Restaurant names and Metadata.csv')\n",
        "second_df = pd.read_csv('/content/drive/MyDrive/dat/Dataset/zomato/Zomato Restaurant reviews.csv')"
      ]
    },
    {
      "cell_type": "code",
      "source": [
        "import pandas as pd\n",
        "print(pd.__version__)\n"
      ],
      "metadata": {
        "colab": {
          "base_uri": "https://localhost:8080/"
        },
        "id": "ZODrs5jrQVds",
        "outputId": "5fa4d396-a243-4228-a461-2e0988bfa85e"
      },
      "execution_count": null,
      "outputs": [
        {
          "output_type": "stream",
          "name": "stdout",
          "text": [
            "1.5.3\n"
          ]
        }
      ]
    },
    {
      "cell_type": "code",
      "source": [
        "import pickle\n",
        "pickle.dump(first_df,open('df.pkl','wb'))"
      ],
      "metadata": {
        "id": "MxEtyDFiROH4"
      },
      "execution_count": null,
      "outputs": []
    },
    {
      "cell_type": "code",
      "source": [
        "data = pickle.load(open('df.pkl','rb'))"
      ],
      "metadata": {
        "id": "Q-1XlfiORjr8"
      },
      "execution_count": null,
      "outputs": []
    },
    {
      "cell_type": "code",
      "source": [
        "data.iloc[0]"
      ],
      "metadata": {
        "colab": {
          "base_uri": "https://localhost:8080/"
        },
        "id": "Ls5QC9lSRvjV",
        "outputId": "6abfe3a0-c486-423a-c12f-66f31d5f9008"
      },
      "execution_count": null,
      "outputs": [
        {
          "output_type": "execute_result",
          "data": {
            "text/plain": [
              "Name                                             Beyond Flavours\n",
              "Links          https://www.zomato.com/hyderabad/beyond-flavou...\n",
              "Cost                                                         800\n",
              "Collections    Food Hygiene Rated Restaurants in Hyderabad, C...\n",
              "Cuisines       Chinese, Continental, Kebab, European, South I...\n",
              "Timings            12noon to 3:30pm, 6:30pm to 11:30pm (Mon-Sun)\n",
              "Name: 0, dtype: object"
            ]
          },
          "metadata": {},
          "execution_count": 9
        }
      ]
    },
    {
      "cell_type": "markdown",
      "metadata": {
        "id": "x71ZqKXriCWQ"
      },
      "source": [
        "### Dataset First View"
      ]
    },
    {
      "cell_type": "code",
      "execution_count": null,
      "metadata": {
        "colab": {
          "base_uri": "https://localhost:8080/"
        },
        "id": "LWNFOSvLl09H",
        "outputId": "19d4ed9a-3e28-4f38-e8ce-c6cac889e1a9"
      },
      "outputs": [
        {
          "output_type": "execute_result",
          "data": {
            "text/plain": [
              "                                       Name  \\\n",
              "0                           Beyond Flavours   \n",
              "1                                  Paradise   \n",
              "2                                  Flechazo   \n",
              "3            Shah Ghouse Hotel & Restaurant   \n",
              "4                Over The Moon Brew Company   \n",
              "..                                      ...   \n",
              "100                               IndiBlaze   \n",
              "101                            Sweet Basket   \n",
              "102                        Angaara Counts 3   \n",
              "103                             Wich Please   \n",
              "104  Republic Of Noodles - Lemon Tree Hotel   \n",
              "\n",
              "                                                 Links   Cost  \\\n",
              "0    https://www.zomato.com/hyderabad/beyond-flavou...    800   \n",
              "1    https://www.zomato.com/hyderabad/paradise-gach...    800   \n",
              "2    https://www.zomato.com/hyderabad/flechazo-gach...  1,300   \n",
              "3    https://www.zomato.com/hyderabad/shah-ghouse-h...    800   \n",
              "4    https://www.zomato.com/hyderabad/over-the-moon...  1,200   \n",
              "..                                                 ...    ...   \n",
              "100  https://www.zomato.com/hyderabad/indiblaze-gac...    600   \n",
              "101  https://www.zomato.com/hyderabad/sweet-basket-...    200   \n",
              "102  https://www.zomato.com/hyderabad/angaara-count...    500   \n",
              "103  https://www.zomato.com/hyderabad/wich-please-1...    250   \n",
              "104  https://www.zomato.com/hyderabad/republic-of-n...  1,700   \n",
              "\n",
              "                                           Collections  \\\n",
              "0    Food Hygiene Rated Restaurants in Hyderabad, C...   \n",
              "1                                  Hyderabad's Hottest   \n",
              "2                   Great Buffets, Hyderabad's Hottest   \n",
              "3                               Late Night Restaurants   \n",
              "4    Best Bars & Pubs, Food Hygiene Rated Restauran...   \n",
              "..                                                 ...   \n",
              "100                                                NaN   \n",
              "101                                                NaN   \n",
              "102                                                NaN   \n",
              "103                                                NaN   \n",
              "104                               Pan-Asian Delicacies   \n",
              "\n",
              "                                              Cuisines  \\\n",
              "0    Chinese, Continental, Kebab, European, South I...   \n",
              "1                       Biryani, North Indian, Chinese   \n",
              "2         Asian, Mediterranean, North Indian, Desserts   \n",
              "3    Biryani, North Indian, Chinese, Seafood, Bever...   \n",
              "4    Asian, Continental, North Indian, Chinese, Med...   \n",
              "..                                                 ...   \n",
              "100                                   Fast Food, Salad   \n",
              "101                                     Bakery, Mithai   \n",
              "102                     North Indian, Biryani, Chinese   \n",
              "103                                          Fast Food   \n",
              "104                    Thai, Asian, Chinese, Malaysian   \n",
              "\n",
              "                                               Timings  \n",
              "0        12noon to 3:30pm, 6:30pm to 11:30pm (Mon-Sun)  \n",
              "1                                       11 AM to 11 PM  \n",
              "2                11:30 AM to 4:30 PM, 6:30 PM to 11 PM  \n",
              "3                                      12 Noon to 2 AM  \n",
              "4    12noon to 11pm (Mon, Tue, Wed, Thu, Sun), 12no...  \n",
              "..                                                 ...  \n",
              "100                                     11 AM to 11 PM  \n",
              "101  10 AM to 10 PM (Mon-Thu), 8 AM to 10:30 PM (Fr...  \n",
              "102                                   12 Noon to 11 PM  \n",
              "103                           8am to 12:30AM (Mon-Sun)  \n",
              "104              11:30 AM to 3 PM, 7 PM to 12 Midnight  \n",
              "\n",
              "[105 rows x 6 columns]"
            ],
            "text/html": [
              "\n",
              "  <div id=\"df-8a29d3de-a788-43de-b09c-739c87419b44\">\n",
              "    <div class=\"colab-df-container\">\n",
              "      <div>\n",
              "<style scoped>\n",
              "    .dataframe tbody tr th:only-of-type {\n",
              "        vertical-align: middle;\n",
              "    }\n",
              "\n",
              "    .dataframe tbody tr th {\n",
              "        vertical-align: top;\n",
              "    }\n",
              "\n",
              "    .dataframe thead th {\n",
              "        text-align: right;\n",
              "    }\n",
              "</style>\n",
              "<table border=\"1\" class=\"dataframe\">\n",
              "  <thead>\n",
              "    <tr style=\"text-align: right;\">\n",
              "      <th></th>\n",
              "      <th>Name</th>\n",
              "      <th>Links</th>\n",
              "      <th>Cost</th>\n",
              "      <th>Collections</th>\n",
              "      <th>Cuisines</th>\n",
              "      <th>Timings</th>\n",
              "    </tr>\n",
              "  </thead>\n",
              "  <tbody>\n",
              "    <tr>\n",
              "      <th>0</th>\n",
              "      <td>Beyond Flavours</td>\n",
              "      <td>https://www.zomato.com/hyderabad/beyond-flavou...</td>\n",
              "      <td>800</td>\n",
              "      <td>Food Hygiene Rated Restaurants in Hyderabad, C...</td>\n",
              "      <td>Chinese, Continental, Kebab, European, South I...</td>\n",
              "      <td>12noon to 3:30pm, 6:30pm to 11:30pm (Mon-Sun)</td>\n",
              "    </tr>\n",
              "    <tr>\n",
              "      <th>1</th>\n",
              "      <td>Paradise</td>\n",
              "      <td>https://www.zomato.com/hyderabad/paradise-gach...</td>\n",
              "      <td>800</td>\n",
              "      <td>Hyderabad's Hottest</td>\n",
              "      <td>Biryani, North Indian, Chinese</td>\n",
              "      <td>11 AM to 11 PM</td>\n",
              "    </tr>\n",
              "    <tr>\n",
              "      <th>2</th>\n",
              "      <td>Flechazo</td>\n",
              "      <td>https://www.zomato.com/hyderabad/flechazo-gach...</td>\n",
              "      <td>1,300</td>\n",
              "      <td>Great Buffets, Hyderabad's Hottest</td>\n",
              "      <td>Asian, Mediterranean, North Indian, Desserts</td>\n",
              "      <td>11:30 AM to 4:30 PM, 6:30 PM to 11 PM</td>\n",
              "    </tr>\n",
              "    <tr>\n",
              "      <th>3</th>\n",
              "      <td>Shah Ghouse Hotel &amp; Restaurant</td>\n",
              "      <td>https://www.zomato.com/hyderabad/shah-ghouse-h...</td>\n",
              "      <td>800</td>\n",
              "      <td>Late Night Restaurants</td>\n",
              "      <td>Biryani, North Indian, Chinese, Seafood, Bever...</td>\n",
              "      <td>12 Noon to 2 AM</td>\n",
              "    </tr>\n",
              "    <tr>\n",
              "      <th>4</th>\n",
              "      <td>Over The Moon Brew Company</td>\n",
              "      <td>https://www.zomato.com/hyderabad/over-the-moon...</td>\n",
              "      <td>1,200</td>\n",
              "      <td>Best Bars &amp; Pubs, Food Hygiene Rated Restauran...</td>\n",
              "      <td>Asian, Continental, North Indian, Chinese, Med...</td>\n",
              "      <td>12noon to 11pm (Mon, Tue, Wed, Thu, Sun), 12no...</td>\n",
              "    </tr>\n",
              "    <tr>\n",
              "      <th>...</th>\n",
              "      <td>...</td>\n",
              "      <td>...</td>\n",
              "      <td>...</td>\n",
              "      <td>...</td>\n",
              "      <td>...</td>\n",
              "      <td>...</td>\n",
              "    </tr>\n",
              "    <tr>\n",
              "      <th>100</th>\n",
              "      <td>IndiBlaze</td>\n",
              "      <td>https://www.zomato.com/hyderabad/indiblaze-gac...</td>\n",
              "      <td>600</td>\n",
              "      <td>NaN</td>\n",
              "      <td>Fast Food, Salad</td>\n",
              "      <td>11 AM to 11 PM</td>\n",
              "    </tr>\n",
              "    <tr>\n",
              "      <th>101</th>\n",
              "      <td>Sweet Basket</td>\n",
              "      <td>https://www.zomato.com/hyderabad/sweet-basket-...</td>\n",
              "      <td>200</td>\n",
              "      <td>NaN</td>\n",
              "      <td>Bakery, Mithai</td>\n",
              "      <td>10 AM to 10 PM (Mon-Thu), 8 AM to 10:30 PM (Fr...</td>\n",
              "    </tr>\n",
              "    <tr>\n",
              "      <th>102</th>\n",
              "      <td>Angaara Counts 3</td>\n",
              "      <td>https://www.zomato.com/hyderabad/angaara-count...</td>\n",
              "      <td>500</td>\n",
              "      <td>NaN</td>\n",
              "      <td>North Indian, Biryani, Chinese</td>\n",
              "      <td>12 Noon to 11 PM</td>\n",
              "    </tr>\n",
              "    <tr>\n",
              "      <th>103</th>\n",
              "      <td>Wich Please</td>\n",
              "      <td>https://www.zomato.com/hyderabad/wich-please-1...</td>\n",
              "      <td>250</td>\n",
              "      <td>NaN</td>\n",
              "      <td>Fast Food</td>\n",
              "      <td>8am to 12:30AM (Mon-Sun)</td>\n",
              "    </tr>\n",
              "    <tr>\n",
              "      <th>104</th>\n",
              "      <td>Republic Of Noodles - Lemon Tree Hotel</td>\n",
              "      <td>https://www.zomato.com/hyderabad/republic-of-n...</td>\n",
              "      <td>1,700</td>\n",
              "      <td>Pan-Asian Delicacies</td>\n",
              "      <td>Thai, Asian, Chinese, Malaysian</td>\n",
              "      <td>11:30 AM to 3 PM, 7 PM to 12 Midnight</td>\n",
              "    </tr>\n",
              "  </tbody>\n",
              "</table>\n",
              "<p>105 rows × 6 columns</p>\n",
              "</div>\n",
              "      <button class=\"colab-df-convert\" onclick=\"convertToInteractive('df-8a29d3de-a788-43de-b09c-739c87419b44')\"\n",
              "              title=\"Convert this dataframe to an interactive table.\"\n",
              "              style=\"display:none;\">\n",
              "        \n",
              "  <svg xmlns=\"http://www.w3.org/2000/svg\" height=\"24px\"viewBox=\"0 0 24 24\"\n",
              "       width=\"24px\">\n",
              "    <path d=\"M0 0h24v24H0V0z\" fill=\"none\"/>\n",
              "    <path d=\"M18.56 5.44l.94 2.06.94-2.06 2.06-.94-2.06-.94-.94-2.06-.94 2.06-2.06.94zm-11 1L8.5 8.5l.94-2.06 2.06-.94-2.06-.94L8.5 2.5l-.94 2.06-2.06.94zm10 10l.94 2.06.94-2.06 2.06-.94-2.06-.94-.94-2.06-.94 2.06-2.06.94z\"/><path d=\"M17.41 7.96l-1.37-1.37c-.4-.4-.92-.59-1.43-.59-.52 0-1.04.2-1.43.59L10.3 9.45l-7.72 7.72c-.78.78-.78 2.05 0 2.83L4 21.41c.39.39.9.59 1.41.59.51 0 1.02-.2 1.41-.59l7.78-7.78 2.81-2.81c.8-.78.8-2.07 0-2.86zM5.41 20L4 18.59l7.72-7.72 1.47 1.35L5.41 20z\"/>\n",
              "  </svg>\n",
              "      </button>\n",
              "      \n",
              "  <style>\n",
              "    .colab-df-container {\n",
              "      display:flex;\n",
              "      flex-wrap:wrap;\n",
              "      gap: 12px;\n",
              "    }\n",
              "\n",
              "    .colab-df-convert {\n",
              "      background-color: #E8F0FE;\n",
              "      border: none;\n",
              "      border-radius: 50%;\n",
              "      cursor: pointer;\n",
              "      display: none;\n",
              "      fill: #1967D2;\n",
              "      height: 32px;\n",
              "      padding: 0 0 0 0;\n",
              "      width: 32px;\n",
              "    }\n",
              "\n",
              "    .colab-df-convert:hover {\n",
              "      background-color: #E2EBFA;\n",
              "      box-shadow: 0px 1px 2px rgba(60, 64, 67, 0.3), 0px 1px 3px 1px rgba(60, 64, 67, 0.15);\n",
              "      fill: #174EA6;\n",
              "    }\n",
              "\n",
              "    [theme=dark] .colab-df-convert {\n",
              "      background-color: #3B4455;\n",
              "      fill: #D2E3FC;\n",
              "    }\n",
              "\n",
              "    [theme=dark] .colab-df-convert:hover {\n",
              "      background-color: #434B5C;\n",
              "      box-shadow: 0px 1px 3px 1px rgba(0, 0, 0, 0.15);\n",
              "      filter: drop-shadow(0px 1px 2px rgba(0, 0, 0, 0.3));\n",
              "      fill: #FFFFFF;\n",
              "    }\n",
              "  </style>\n",
              "\n",
              "      <script>\n",
              "        const buttonEl =\n",
              "          document.querySelector('#df-8a29d3de-a788-43de-b09c-739c87419b44 button.colab-df-convert');\n",
              "        buttonEl.style.display =\n",
              "          google.colab.kernel.accessAllowed ? 'block' : 'none';\n",
              "\n",
              "        async function convertToInteractive(key) {\n",
              "          const element = document.querySelector('#df-8a29d3de-a788-43de-b09c-739c87419b44');\n",
              "          const dataTable =\n",
              "            await google.colab.kernel.invokeFunction('convertToInteractive',\n",
              "                                                     [key], {});\n",
              "          if (!dataTable) return;\n",
              "\n",
              "          const docLinkHtml = 'Like what you see? Visit the ' +\n",
              "            '<a target=\"_blank\" href=https://colab.research.google.com/notebooks/data_table.ipynb>data table notebook</a>'\n",
              "            + ' to learn more about interactive tables.';\n",
              "          element.innerHTML = '';\n",
              "          dataTable['output_type'] = 'display_data';\n",
              "          await google.colab.output.renderOutput(dataTable, element);\n",
              "          const docLink = document.createElement('div');\n",
              "          docLink.innerHTML = docLinkHtml;\n",
              "          element.appendChild(docLink);\n",
              "        }\n",
              "      </script>\n",
              "    </div>\n",
              "  </div>\n",
              "  "
            ]
          },
          "metadata": {},
          "execution_count": 10
        }
      ],
      "source": [
        "# Dataset First Look\n",
        "first_df"
      ]
    },
    {
      "cell_type": "code",
      "execution_count": null,
      "metadata": {
        "colab": {
          "base_uri": "https://localhost:8080/"
        },
        "id": "AmYqpeKGz7rT",
        "outputId": "65418577-b36a-4b9c-91c0-35076ae299a7"
      },
      "outputs": [
        {
          "output_type": "execute_result",
          "data": {
            "text/plain": [
              "            Restaurant              Reviewer  \\\n",
              "0      Beyond Flavours     Rusha Chakraborty   \n",
              "1      Beyond Flavours  Anusha Tirumalaneedi   \n",
              "2      Beyond Flavours       Ashok Shekhawat   \n",
              "3      Beyond Flavours        Swapnil Sarkar   \n",
              "4      Beyond Flavours                Dileep   \n",
              "...                ...                   ...   \n",
              "9995  Chinese Pavilion      Abhishek Mahajan   \n",
              "9996  Chinese Pavilion        Sharad Agrawal   \n",
              "9997  Chinese Pavilion             Ramandeep   \n",
              "9998  Chinese Pavilion       Nayana Shanbhag   \n",
              "9999  Chinese Pavilion      Bhargava Krishna   \n",
              "\n",
              "                                                 Review Rating  \\\n",
              "0     The ambience was good, food was quite good . h...      5   \n",
              "1     Ambience is too good for a pleasant evening. S...      5   \n",
              "2     A must try.. great food great ambience. Thnx f...      5   \n",
              "3     Soumen das and Arun was a great guy. Only beca...      5   \n",
              "4     Food is good.we ordered Kodi drumsticks and ba...      5   \n",
              "...                                                 ...    ...   \n",
              "9995  Madhumathi Mahajan Well to start with nice cou...      3   \n",
              "9996  This place has never disappointed us.. The foo...    4.5   \n",
              "9997  Bad rating is mainly because of \"Chicken Bone ...    1.5   \n",
              "9998  I personally love and prefer Chinese Food. Had...      4   \n",
              "9999  Checked in here to try some delicious chinese ...    3.5   \n",
              "\n",
              "                          Metadata             Time  Pictures  \n",
              "0           1 Review , 2 Followers  5/25/2019 15:54         0  \n",
              "1          3 Reviews , 2 Followers  5/25/2019 14:20         0  \n",
              "2          2 Reviews , 3 Followers  5/24/2019 22:54         0  \n",
              "3            1 Review , 1 Follower  5/24/2019 22:11         0  \n",
              "4          3 Reviews , 2 Followers  5/24/2019 21:37         0  \n",
              "...                            ...              ...       ...  \n",
              "9995     53 Reviews , 54 Followers    6/5/2016 0:08         0  \n",
              "9996      2 Reviews , 53 Followers   6/4/2016 22:01         0  \n",
              "9997    65 Reviews , 423 Followers   6/3/2016 10:37         3  \n",
              "9998    13 Reviews , 144 Followers  5/31/2016 17:22         0  \n",
              "9999  472 Reviews , 1302 Followers  5/31/2016 16:41         6  \n",
              "\n",
              "[10000 rows x 7 columns]"
            ],
            "text/html": [
              "\n",
              "  <div id=\"df-6209bf57-b762-4f95-87b1-301433526017\">\n",
              "    <div class=\"colab-df-container\">\n",
              "      <div>\n",
              "<style scoped>\n",
              "    .dataframe tbody tr th:only-of-type {\n",
              "        vertical-align: middle;\n",
              "    }\n",
              "\n",
              "    .dataframe tbody tr th {\n",
              "        vertical-align: top;\n",
              "    }\n",
              "\n",
              "    .dataframe thead th {\n",
              "        text-align: right;\n",
              "    }\n",
              "</style>\n",
              "<table border=\"1\" class=\"dataframe\">\n",
              "  <thead>\n",
              "    <tr style=\"text-align: right;\">\n",
              "      <th></th>\n",
              "      <th>Restaurant</th>\n",
              "      <th>Reviewer</th>\n",
              "      <th>Review</th>\n",
              "      <th>Rating</th>\n",
              "      <th>Metadata</th>\n",
              "      <th>Time</th>\n",
              "      <th>Pictures</th>\n",
              "    </tr>\n",
              "  </thead>\n",
              "  <tbody>\n",
              "    <tr>\n",
              "      <th>0</th>\n",
              "      <td>Beyond Flavours</td>\n",
              "      <td>Rusha Chakraborty</td>\n",
              "      <td>The ambience was good, food was quite good . h...</td>\n",
              "      <td>5</td>\n",
              "      <td>1 Review , 2 Followers</td>\n",
              "      <td>5/25/2019 15:54</td>\n",
              "      <td>0</td>\n",
              "    </tr>\n",
              "    <tr>\n",
              "      <th>1</th>\n",
              "      <td>Beyond Flavours</td>\n",
              "      <td>Anusha Tirumalaneedi</td>\n",
              "      <td>Ambience is too good for a pleasant evening. S...</td>\n",
              "      <td>5</td>\n",
              "      <td>3 Reviews , 2 Followers</td>\n",
              "      <td>5/25/2019 14:20</td>\n",
              "      <td>0</td>\n",
              "    </tr>\n",
              "    <tr>\n",
              "      <th>2</th>\n",
              "      <td>Beyond Flavours</td>\n",
              "      <td>Ashok Shekhawat</td>\n",
              "      <td>A must try.. great food great ambience. Thnx f...</td>\n",
              "      <td>5</td>\n",
              "      <td>2 Reviews , 3 Followers</td>\n",
              "      <td>5/24/2019 22:54</td>\n",
              "      <td>0</td>\n",
              "    </tr>\n",
              "    <tr>\n",
              "      <th>3</th>\n",
              "      <td>Beyond Flavours</td>\n",
              "      <td>Swapnil Sarkar</td>\n",
              "      <td>Soumen das and Arun was a great guy. Only beca...</td>\n",
              "      <td>5</td>\n",
              "      <td>1 Review , 1 Follower</td>\n",
              "      <td>5/24/2019 22:11</td>\n",
              "      <td>0</td>\n",
              "    </tr>\n",
              "    <tr>\n",
              "      <th>4</th>\n",
              "      <td>Beyond Flavours</td>\n",
              "      <td>Dileep</td>\n",
              "      <td>Food is good.we ordered Kodi drumsticks and ba...</td>\n",
              "      <td>5</td>\n",
              "      <td>3 Reviews , 2 Followers</td>\n",
              "      <td>5/24/2019 21:37</td>\n",
              "      <td>0</td>\n",
              "    </tr>\n",
              "    <tr>\n",
              "      <th>...</th>\n",
              "      <td>...</td>\n",
              "      <td>...</td>\n",
              "      <td>...</td>\n",
              "      <td>...</td>\n",
              "      <td>...</td>\n",
              "      <td>...</td>\n",
              "      <td>...</td>\n",
              "    </tr>\n",
              "    <tr>\n",
              "      <th>9995</th>\n",
              "      <td>Chinese Pavilion</td>\n",
              "      <td>Abhishek Mahajan</td>\n",
              "      <td>Madhumathi Mahajan Well to start with nice cou...</td>\n",
              "      <td>3</td>\n",
              "      <td>53 Reviews , 54 Followers</td>\n",
              "      <td>6/5/2016 0:08</td>\n",
              "      <td>0</td>\n",
              "    </tr>\n",
              "    <tr>\n",
              "      <th>9996</th>\n",
              "      <td>Chinese Pavilion</td>\n",
              "      <td>Sharad Agrawal</td>\n",
              "      <td>This place has never disappointed us.. The foo...</td>\n",
              "      <td>4.5</td>\n",
              "      <td>2 Reviews , 53 Followers</td>\n",
              "      <td>6/4/2016 22:01</td>\n",
              "      <td>0</td>\n",
              "    </tr>\n",
              "    <tr>\n",
              "      <th>9997</th>\n",
              "      <td>Chinese Pavilion</td>\n",
              "      <td>Ramandeep</td>\n",
              "      <td>Bad rating is mainly because of \"Chicken Bone ...</td>\n",
              "      <td>1.5</td>\n",
              "      <td>65 Reviews , 423 Followers</td>\n",
              "      <td>6/3/2016 10:37</td>\n",
              "      <td>3</td>\n",
              "    </tr>\n",
              "    <tr>\n",
              "      <th>9998</th>\n",
              "      <td>Chinese Pavilion</td>\n",
              "      <td>Nayana Shanbhag</td>\n",
              "      <td>I personally love and prefer Chinese Food. Had...</td>\n",
              "      <td>4</td>\n",
              "      <td>13 Reviews , 144 Followers</td>\n",
              "      <td>5/31/2016 17:22</td>\n",
              "      <td>0</td>\n",
              "    </tr>\n",
              "    <tr>\n",
              "      <th>9999</th>\n",
              "      <td>Chinese Pavilion</td>\n",
              "      <td>Bhargava Krishna</td>\n",
              "      <td>Checked in here to try some delicious chinese ...</td>\n",
              "      <td>3.5</td>\n",
              "      <td>472 Reviews , 1302 Followers</td>\n",
              "      <td>5/31/2016 16:41</td>\n",
              "      <td>6</td>\n",
              "    </tr>\n",
              "  </tbody>\n",
              "</table>\n",
              "<p>10000 rows × 7 columns</p>\n",
              "</div>\n",
              "      <button class=\"colab-df-convert\" onclick=\"convertToInteractive('df-6209bf57-b762-4f95-87b1-301433526017')\"\n",
              "              title=\"Convert this dataframe to an interactive table.\"\n",
              "              style=\"display:none;\">\n",
              "        \n",
              "  <svg xmlns=\"http://www.w3.org/2000/svg\" height=\"24px\"viewBox=\"0 0 24 24\"\n",
              "       width=\"24px\">\n",
              "    <path d=\"M0 0h24v24H0V0z\" fill=\"none\"/>\n",
              "    <path d=\"M18.56 5.44l.94 2.06.94-2.06 2.06-.94-2.06-.94-.94-2.06-.94 2.06-2.06.94zm-11 1L8.5 8.5l.94-2.06 2.06-.94-2.06-.94L8.5 2.5l-.94 2.06-2.06.94zm10 10l.94 2.06.94-2.06 2.06-.94-2.06-.94-.94-2.06-.94 2.06-2.06.94z\"/><path d=\"M17.41 7.96l-1.37-1.37c-.4-.4-.92-.59-1.43-.59-.52 0-1.04.2-1.43.59L10.3 9.45l-7.72 7.72c-.78.78-.78 2.05 0 2.83L4 21.41c.39.39.9.59 1.41.59.51 0 1.02-.2 1.41-.59l7.78-7.78 2.81-2.81c.8-.78.8-2.07 0-2.86zM5.41 20L4 18.59l7.72-7.72 1.47 1.35L5.41 20z\"/>\n",
              "  </svg>\n",
              "      </button>\n",
              "      \n",
              "  <style>\n",
              "    .colab-df-container {\n",
              "      display:flex;\n",
              "      flex-wrap:wrap;\n",
              "      gap: 12px;\n",
              "    }\n",
              "\n",
              "    .colab-df-convert {\n",
              "      background-color: #E8F0FE;\n",
              "      border: none;\n",
              "      border-radius: 50%;\n",
              "      cursor: pointer;\n",
              "      display: none;\n",
              "      fill: #1967D2;\n",
              "      height: 32px;\n",
              "      padding: 0 0 0 0;\n",
              "      width: 32px;\n",
              "    }\n",
              "\n",
              "    .colab-df-convert:hover {\n",
              "      background-color: #E2EBFA;\n",
              "      box-shadow: 0px 1px 2px rgba(60, 64, 67, 0.3), 0px 1px 3px 1px rgba(60, 64, 67, 0.15);\n",
              "      fill: #174EA6;\n",
              "    }\n",
              "\n",
              "    [theme=dark] .colab-df-convert {\n",
              "      background-color: #3B4455;\n",
              "      fill: #D2E3FC;\n",
              "    }\n",
              "\n",
              "    [theme=dark] .colab-df-convert:hover {\n",
              "      background-color: #434B5C;\n",
              "      box-shadow: 0px 1px 3px 1px rgba(0, 0, 0, 0.15);\n",
              "      filter: drop-shadow(0px 1px 2px rgba(0, 0, 0, 0.3));\n",
              "      fill: #FFFFFF;\n",
              "    }\n",
              "  </style>\n",
              "\n",
              "      <script>\n",
              "        const buttonEl =\n",
              "          document.querySelector('#df-6209bf57-b762-4f95-87b1-301433526017 button.colab-df-convert');\n",
              "        buttonEl.style.display =\n",
              "          google.colab.kernel.accessAllowed ? 'block' : 'none';\n",
              "\n",
              "        async function convertToInteractive(key) {\n",
              "          const element = document.querySelector('#df-6209bf57-b762-4f95-87b1-301433526017');\n",
              "          const dataTable =\n",
              "            await google.colab.kernel.invokeFunction('convertToInteractive',\n",
              "                                                     [key], {});\n",
              "          if (!dataTable) return;\n",
              "\n",
              "          const docLinkHtml = 'Like what you see? Visit the ' +\n",
              "            '<a target=\"_blank\" href=https://colab.research.google.com/notebooks/data_table.ipynb>data table notebook</a>'\n",
              "            + ' to learn more about interactive tables.';\n",
              "          element.innerHTML = '';\n",
              "          dataTable['output_type'] = 'display_data';\n",
              "          await google.colab.output.renderOutput(dataTable, element);\n",
              "          const docLink = document.createElement('div');\n",
              "          docLink.innerHTML = docLinkHtml;\n",
              "          element.appendChild(docLink);\n",
              "        }\n",
              "      </script>\n",
              "    </div>\n",
              "  </div>\n",
              "  "
            ]
          },
          "metadata": {},
          "execution_count": 11
        }
      ],
      "source": [
        "second_df"
      ]
    },
    {
      "cell_type": "code",
      "execution_count": null,
      "metadata": {
        "colab": {
          "base_uri": "https://localhost:8080/"
        },
        "id": "5fers1M-0NyK",
        "outputId": "0e430298-9e2c-42ba-a30a-ebfd6acb286f"
      },
      "outputs": [
        {
          "output_type": "execute_result",
          "data": {
            "text/plain": [
              "100"
            ]
          },
          "metadata": {},
          "execution_count": 12
        }
      ],
      "source": [
        "second_df['Restaurant'].nunique()"
      ]
    },
    {
      "cell_type": "markdown",
      "metadata": {
        "id": "7hBIi_osiCS2"
      },
      "source": [
        "### Dataset Rows & Columns count"
      ]
    },
    {
      "cell_type": "code",
      "execution_count": null,
      "metadata": {
        "colab": {
          "base_uri": "https://localhost:8080/"
        },
        "id": "Kllu7SJgmLij",
        "outputId": "5090600c-0142-4f25-fd5a-91e9e27b8a90"
      },
      "outputs": [
        {
          "output_type": "stream",
          "name": "stdout",
          "text": [
            "The number of rows in first df is 105 and number of columns is 6\n",
            "The number of rows in second df is 10000 and number of columns is 7\n"
          ]
        }
      ],
      "source": [
        "# Dataset Rows & Columns count\n",
        "print('The number of rows in first df is',len(first_df.index),'and number of columns is',len(first_df.columns))\n",
        "print('The number of rows in second df is',len(second_df.index),'and number of columns is',len(second_df.columns))"
      ]
    },
    {
      "cell_type": "markdown",
      "metadata": {
        "id": "JlHwYmJAmNHm"
      },
      "source": [
        "### Dataset Information"
      ]
    },
    {
      "cell_type": "code",
      "execution_count": null,
      "metadata": {
        "colab": {
          "base_uri": "https://localhost:8080/"
        },
        "id": "e9hRXRi6meOf",
        "outputId": "942bd954-c3fc-4efc-8837-666422a17335"
      },
      "outputs": [
        {
          "output_type": "stream",
          "name": "stdout",
          "text": [
            "<class 'pandas.core.frame.DataFrame'>\n",
            "RangeIndex: 105 entries, 0 to 104\n",
            "Data columns (total 6 columns):\n",
            " #   Column       Non-Null Count  Dtype \n",
            "---  ------       --------------  ----- \n",
            " 0   Name         105 non-null    object\n",
            " 1   Links        105 non-null    object\n",
            " 2   Cost         105 non-null    object\n",
            " 3   Collections  51 non-null     object\n",
            " 4   Cuisines     105 non-null    object\n",
            " 5   Timings      104 non-null    object\n",
            "dtypes: object(6)\n",
            "memory usage: 5.0+ KB\n"
          ]
        }
      ],
      "source": [
        "# Dataset Info\n",
        "first_df.info()"
      ]
    },
    {
      "cell_type": "code",
      "execution_count": null,
      "metadata": {
        "colab": {
          "base_uri": "https://localhost:8080/"
        },
        "id": "GC5kEeW151mj",
        "outputId": "43158409-43fd-4293-9d4f-f7a716692da5"
      },
      "outputs": [
        {
          "output_type": "stream",
          "name": "stdout",
          "text": [
            "<class 'pandas.core.frame.DataFrame'>\n",
            "RangeIndex: 10000 entries, 0 to 9999\n",
            "Data columns (total 7 columns):\n",
            " #   Column      Non-Null Count  Dtype \n",
            "---  ------      --------------  ----- \n",
            " 0   Restaurant  10000 non-null  object\n",
            " 1   Reviewer    9962 non-null   object\n",
            " 2   Review      9955 non-null   object\n",
            " 3   Rating      9962 non-null   object\n",
            " 4   Metadata    9962 non-null   object\n",
            " 5   Time        9962 non-null   object\n",
            " 6   Pictures    10000 non-null  int64 \n",
            "dtypes: int64(1), object(6)\n",
            "memory usage: 547.0+ KB\n"
          ]
        }
      ],
      "source": [
        "second_df.info()"
      ]
    },
    {
      "cell_type": "markdown",
      "metadata": {
        "id": "35m5QtbWiB9F"
      },
      "source": [
        "#### Duplicate Values"
      ]
    },
    {
      "cell_type": "code",
      "execution_count": null,
      "metadata": {
        "colab": {
          "base_uri": "https://localhost:8080/"
        },
        "id": "1sLdpKYkmox0",
        "outputId": "b7389fd8-a25c-4678-a586-f6ee0c37078c"
      },
      "outputs": [
        {
          "output_type": "stream",
          "name": "stdout",
          "text": [
            "The number of duplicated values in first df is 0\n",
            "The number of duplicated values in second df is 36\n"
          ]
        }
      ],
      "source": [
        "# Dataset Duplicate Value Count\n",
        "print('The number of duplicated values in first df is',first_df.duplicated().sum())\n",
        "print('The number of duplicated values in second df is',second_df.duplicated().sum())\n"
      ]
    },
    {
      "cell_type": "markdown",
      "metadata": {
        "id": "PoPl-ycgm1ru"
      },
      "source": [
        "#### Missing Values/Null Values"
      ]
    },
    {
      "cell_type": "code",
      "execution_count": null,
      "metadata": {
        "colab": {
          "base_uri": "https://localhost:8080/"
        },
        "id": "GgHWkxvamxVg",
        "outputId": "0966e185-381e-4db5-82b1-8201fe29e292"
      },
      "outputs": [
        {
          "output_type": "execute_result",
          "data": {
            "text/plain": [
              "Name            0\n",
              "Links           0\n",
              "Cost            0\n",
              "Collections    54\n",
              "Cuisines        0\n",
              "Timings         1\n",
              "dtype: int64"
            ]
          },
          "metadata": {},
          "execution_count": 17
        }
      ],
      "source": [
        "# Missing Values/Null Values Count\n",
        "first_df.isnull().sum()\n"
      ]
    },
    {
      "cell_type": "code",
      "execution_count": null,
      "metadata": {
        "colab": {
          "base_uri": "https://localhost:8080/"
        },
        "id": "WwS3uD_u6nO4",
        "outputId": "09022d51-a831-45e6-bc70-5b81a6d9dce2"
      },
      "outputs": [
        {
          "output_type": "execute_result",
          "data": {
            "text/plain": [
              "Restaurant     0\n",
              "Reviewer      38\n",
              "Review        45\n",
              "Rating        38\n",
              "Metadata      38\n",
              "Time          38\n",
              "Pictures       0\n",
              "dtype: int64"
            ]
          },
          "metadata": {},
          "execution_count": 18
        }
      ],
      "source": [
        "second_df.isnull().sum()"
      ]
    },
    {
      "cell_type": "code",
      "execution_count": null,
      "metadata": {
        "id": "3q5wnI3om9sJ"
      },
      "outputs": [],
      "source": [
        "# Visualizing the missing values"
      ]
    },
    {
      "cell_type": "markdown",
      "metadata": {
        "id": "H0kj-8xxnORC"
      },
      "source": [
        "### What did you know about your dataset?"
      ]
    },
    {
      "cell_type": "markdown",
      "metadata": {
        "id": "gfoNAAC-nUe_"
      },
      "source": [
        "Answer Here"
      ]
    },
    {
      "cell_type": "markdown",
      "metadata": {
        "id": "nA9Y7ga8ng1Z"
      },
      "source": [
        "## ***2. Understanding Your Variables***"
      ]
    },
    {
      "cell_type": "code",
      "execution_count": null,
      "metadata": {
        "colab": {
          "base_uri": "https://localhost:8080/"
        },
        "id": "j7xfkqrt5Ag5",
        "outputId": "4cd03841-7f09-43af-f669-afa888dcc61a"
      },
      "outputs": [
        {
          "output_type": "execute_result",
          "data": {
            "text/plain": [
              "Index(['Name', 'Links', 'Cost', 'Collections', 'Cuisines', 'Timings'], dtype='object')"
            ]
          },
          "metadata": {},
          "execution_count": 20
        }
      ],
      "source": [
        "# Dataset Columns\n",
        "first_df.columns"
      ]
    },
    {
      "cell_type": "code",
      "execution_count": null,
      "metadata": {
        "colab": {
          "base_uri": "https://localhost:8080/"
        },
        "id": "m6q2ZF9p7AQ_",
        "outputId": "37aaf272-87bc-4cf1-e9c3-6156758ce651"
      },
      "outputs": [
        {
          "output_type": "execute_result",
          "data": {
            "text/plain": [
              "Index(['Restaurant', 'Reviewer', 'Review', 'Rating', 'Metadata', 'Time',\n",
              "       'Pictures'],\n",
              "      dtype='object')"
            ]
          },
          "metadata": {},
          "execution_count": 21
        }
      ],
      "source": [
        "second_df.columns"
      ]
    },
    {
      "cell_type": "code",
      "execution_count": null,
      "metadata": {
        "colab": {
          "base_uri": "https://localhost:8080/"
        },
        "id": "DnOaZdaE5Q5t",
        "outputId": "295b7351-b4e7-4237-cd51-09f921e19339"
      },
      "outputs": [
        {
          "output_type": "execute_result",
          "data": {
            "text/plain": [
              "                   Name                                              Links  \\\n",
              "count               105                                                105   \n",
              "unique              105                                                105   \n",
              "top     Beyond Flavours  https://www.zomato.com/hyderabad/beyond-flavou...   \n",
              "freq                  1                                                  1   \n",
              "\n",
              "       Cost                                  Collections  \\\n",
              "count   105                                           51   \n",
              "unique   29                                           42   \n",
              "top     500  Food Hygiene Rated Restaurants in Hyderabad   \n",
              "freq     13                                            4   \n",
              "\n",
              "                     Cuisines         Timings  \n",
              "count                     105             104  \n",
              "unique                     92              77  \n",
              "top     North Indian, Chinese  11 AM to 11 PM  \n",
              "freq                        4               6  "
            ],
            "text/html": [
              "\n",
              "  <div id=\"df-11c63d7b-086f-4188-889d-1b6edba001cd\">\n",
              "    <div class=\"colab-df-container\">\n",
              "      <div>\n",
              "<style scoped>\n",
              "    .dataframe tbody tr th:only-of-type {\n",
              "        vertical-align: middle;\n",
              "    }\n",
              "\n",
              "    .dataframe tbody tr th {\n",
              "        vertical-align: top;\n",
              "    }\n",
              "\n",
              "    .dataframe thead th {\n",
              "        text-align: right;\n",
              "    }\n",
              "</style>\n",
              "<table border=\"1\" class=\"dataframe\">\n",
              "  <thead>\n",
              "    <tr style=\"text-align: right;\">\n",
              "      <th></th>\n",
              "      <th>Name</th>\n",
              "      <th>Links</th>\n",
              "      <th>Cost</th>\n",
              "      <th>Collections</th>\n",
              "      <th>Cuisines</th>\n",
              "      <th>Timings</th>\n",
              "    </tr>\n",
              "  </thead>\n",
              "  <tbody>\n",
              "    <tr>\n",
              "      <th>count</th>\n",
              "      <td>105</td>\n",
              "      <td>105</td>\n",
              "      <td>105</td>\n",
              "      <td>51</td>\n",
              "      <td>105</td>\n",
              "      <td>104</td>\n",
              "    </tr>\n",
              "    <tr>\n",
              "      <th>unique</th>\n",
              "      <td>105</td>\n",
              "      <td>105</td>\n",
              "      <td>29</td>\n",
              "      <td>42</td>\n",
              "      <td>92</td>\n",
              "      <td>77</td>\n",
              "    </tr>\n",
              "    <tr>\n",
              "      <th>top</th>\n",
              "      <td>Beyond Flavours</td>\n",
              "      <td>https://www.zomato.com/hyderabad/beyond-flavou...</td>\n",
              "      <td>500</td>\n",
              "      <td>Food Hygiene Rated Restaurants in Hyderabad</td>\n",
              "      <td>North Indian, Chinese</td>\n",
              "      <td>11 AM to 11 PM</td>\n",
              "    </tr>\n",
              "    <tr>\n",
              "      <th>freq</th>\n",
              "      <td>1</td>\n",
              "      <td>1</td>\n",
              "      <td>13</td>\n",
              "      <td>4</td>\n",
              "      <td>4</td>\n",
              "      <td>6</td>\n",
              "    </tr>\n",
              "  </tbody>\n",
              "</table>\n",
              "</div>\n",
              "      <button class=\"colab-df-convert\" onclick=\"convertToInteractive('df-11c63d7b-086f-4188-889d-1b6edba001cd')\"\n",
              "              title=\"Convert this dataframe to an interactive table.\"\n",
              "              style=\"display:none;\">\n",
              "        \n",
              "  <svg xmlns=\"http://www.w3.org/2000/svg\" height=\"24px\"viewBox=\"0 0 24 24\"\n",
              "       width=\"24px\">\n",
              "    <path d=\"M0 0h24v24H0V0z\" fill=\"none\"/>\n",
              "    <path d=\"M18.56 5.44l.94 2.06.94-2.06 2.06-.94-2.06-.94-.94-2.06-.94 2.06-2.06.94zm-11 1L8.5 8.5l.94-2.06 2.06-.94-2.06-.94L8.5 2.5l-.94 2.06-2.06.94zm10 10l.94 2.06.94-2.06 2.06-.94-2.06-.94-.94-2.06-.94 2.06-2.06.94z\"/><path d=\"M17.41 7.96l-1.37-1.37c-.4-.4-.92-.59-1.43-.59-.52 0-1.04.2-1.43.59L10.3 9.45l-7.72 7.72c-.78.78-.78 2.05 0 2.83L4 21.41c.39.39.9.59 1.41.59.51 0 1.02-.2 1.41-.59l7.78-7.78 2.81-2.81c.8-.78.8-2.07 0-2.86zM5.41 20L4 18.59l7.72-7.72 1.47 1.35L5.41 20z\"/>\n",
              "  </svg>\n",
              "      </button>\n",
              "      \n",
              "  <style>\n",
              "    .colab-df-container {\n",
              "      display:flex;\n",
              "      flex-wrap:wrap;\n",
              "      gap: 12px;\n",
              "    }\n",
              "\n",
              "    .colab-df-convert {\n",
              "      background-color: #E8F0FE;\n",
              "      border: none;\n",
              "      border-radius: 50%;\n",
              "      cursor: pointer;\n",
              "      display: none;\n",
              "      fill: #1967D2;\n",
              "      height: 32px;\n",
              "      padding: 0 0 0 0;\n",
              "      width: 32px;\n",
              "    }\n",
              "\n",
              "    .colab-df-convert:hover {\n",
              "      background-color: #E2EBFA;\n",
              "      box-shadow: 0px 1px 2px rgba(60, 64, 67, 0.3), 0px 1px 3px 1px rgba(60, 64, 67, 0.15);\n",
              "      fill: #174EA6;\n",
              "    }\n",
              "\n",
              "    [theme=dark] .colab-df-convert {\n",
              "      background-color: #3B4455;\n",
              "      fill: #D2E3FC;\n",
              "    }\n",
              "\n",
              "    [theme=dark] .colab-df-convert:hover {\n",
              "      background-color: #434B5C;\n",
              "      box-shadow: 0px 1px 3px 1px rgba(0, 0, 0, 0.15);\n",
              "      filter: drop-shadow(0px 1px 2px rgba(0, 0, 0, 0.3));\n",
              "      fill: #FFFFFF;\n",
              "    }\n",
              "  </style>\n",
              "\n",
              "      <script>\n",
              "        const buttonEl =\n",
              "          document.querySelector('#df-11c63d7b-086f-4188-889d-1b6edba001cd button.colab-df-convert');\n",
              "        buttonEl.style.display =\n",
              "          google.colab.kernel.accessAllowed ? 'block' : 'none';\n",
              "\n",
              "        async function convertToInteractive(key) {\n",
              "          const element = document.querySelector('#df-11c63d7b-086f-4188-889d-1b6edba001cd');\n",
              "          const dataTable =\n",
              "            await google.colab.kernel.invokeFunction('convertToInteractive',\n",
              "                                                     [key], {});\n",
              "          if (!dataTable) return;\n",
              "\n",
              "          const docLinkHtml = 'Like what you see? Visit the ' +\n",
              "            '<a target=\"_blank\" href=https://colab.research.google.com/notebooks/data_table.ipynb>data table notebook</a>'\n",
              "            + ' to learn more about interactive tables.';\n",
              "          element.innerHTML = '';\n",
              "          dataTable['output_type'] = 'display_data';\n",
              "          await google.colab.output.renderOutput(dataTable, element);\n",
              "          const docLink = document.createElement('div');\n",
              "          docLink.innerHTML = docLinkHtml;\n",
              "          element.appendChild(docLink);\n",
              "        }\n",
              "      </script>\n",
              "    </div>\n",
              "  </div>\n",
              "  "
            ]
          },
          "metadata": {},
          "execution_count": 22
        }
      ],
      "source": [
        "# Dataset Describe\n",
        "first_df.describe()"
      ]
    },
    {
      "cell_type": "code",
      "execution_count": null,
      "metadata": {
        "colab": {
          "base_uri": "https://localhost:8080/"
        },
        "id": "JxDwowWC7FPt",
        "outputId": "674e4a13-570a-4a9d-cf44-02369405c463"
      },
      "outputs": [
        {
          "output_type": "execute_result",
          "data": {
            "text/plain": [
              "           Pictures\n",
              "count  10000.000000\n",
              "mean       0.748600\n",
              "std        2.570381\n",
              "min        0.000000\n",
              "25%        0.000000\n",
              "50%        0.000000\n",
              "75%        0.000000\n",
              "max       64.000000"
            ],
            "text/html": [
              "\n",
              "  <div id=\"df-749ce385-8d63-47ca-84fb-93ed39b42bb7\">\n",
              "    <div class=\"colab-df-container\">\n",
              "      <div>\n",
              "<style scoped>\n",
              "    .dataframe tbody tr th:only-of-type {\n",
              "        vertical-align: middle;\n",
              "    }\n",
              "\n",
              "    .dataframe tbody tr th {\n",
              "        vertical-align: top;\n",
              "    }\n",
              "\n",
              "    .dataframe thead th {\n",
              "        text-align: right;\n",
              "    }\n",
              "</style>\n",
              "<table border=\"1\" class=\"dataframe\">\n",
              "  <thead>\n",
              "    <tr style=\"text-align: right;\">\n",
              "      <th></th>\n",
              "      <th>Pictures</th>\n",
              "    </tr>\n",
              "  </thead>\n",
              "  <tbody>\n",
              "    <tr>\n",
              "      <th>count</th>\n",
              "      <td>10000.000000</td>\n",
              "    </tr>\n",
              "    <tr>\n",
              "      <th>mean</th>\n",
              "      <td>0.748600</td>\n",
              "    </tr>\n",
              "    <tr>\n",
              "      <th>std</th>\n",
              "      <td>2.570381</td>\n",
              "    </tr>\n",
              "    <tr>\n",
              "      <th>min</th>\n",
              "      <td>0.000000</td>\n",
              "    </tr>\n",
              "    <tr>\n",
              "      <th>25%</th>\n",
              "      <td>0.000000</td>\n",
              "    </tr>\n",
              "    <tr>\n",
              "      <th>50%</th>\n",
              "      <td>0.000000</td>\n",
              "    </tr>\n",
              "    <tr>\n",
              "      <th>75%</th>\n",
              "      <td>0.000000</td>\n",
              "    </tr>\n",
              "    <tr>\n",
              "      <th>max</th>\n",
              "      <td>64.000000</td>\n",
              "    </tr>\n",
              "  </tbody>\n",
              "</table>\n",
              "</div>\n",
              "      <button class=\"colab-df-convert\" onclick=\"convertToInteractive('df-749ce385-8d63-47ca-84fb-93ed39b42bb7')\"\n",
              "              title=\"Convert this dataframe to an interactive table.\"\n",
              "              style=\"display:none;\">\n",
              "        \n",
              "  <svg xmlns=\"http://www.w3.org/2000/svg\" height=\"24px\"viewBox=\"0 0 24 24\"\n",
              "       width=\"24px\">\n",
              "    <path d=\"M0 0h24v24H0V0z\" fill=\"none\"/>\n",
              "    <path d=\"M18.56 5.44l.94 2.06.94-2.06 2.06-.94-2.06-.94-.94-2.06-.94 2.06-2.06.94zm-11 1L8.5 8.5l.94-2.06 2.06-.94-2.06-.94L8.5 2.5l-.94 2.06-2.06.94zm10 10l.94 2.06.94-2.06 2.06-.94-2.06-.94-.94-2.06-.94 2.06-2.06.94z\"/><path d=\"M17.41 7.96l-1.37-1.37c-.4-.4-.92-.59-1.43-.59-.52 0-1.04.2-1.43.59L10.3 9.45l-7.72 7.72c-.78.78-.78 2.05 0 2.83L4 21.41c.39.39.9.59 1.41.59.51 0 1.02-.2 1.41-.59l7.78-7.78 2.81-2.81c.8-.78.8-2.07 0-2.86zM5.41 20L4 18.59l7.72-7.72 1.47 1.35L5.41 20z\"/>\n",
              "  </svg>\n",
              "      </button>\n",
              "      \n",
              "  <style>\n",
              "    .colab-df-container {\n",
              "      display:flex;\n",
              "      flex-wrap:wrap;\n",
              "      gap: 12px;\n",
              "    }\n",
              "\n",
              "    .colab-df-convert {\n",
              "      background-color: #E8F0FE;\n",
              "      border: none;\n",
              "      border-radius: 50%;\n",
              "      cursor: pointer;\n",
              "      display: none;\n",
              "      fill: #1967D2;\n",
              "      height: 32px;\n",
              "      padding: 0 0 0 0;\n",
              "      width: 32px;\n",
              "    }\n",
              "\n",
              "    .colab-df-convert:hover {\n",
              "      background-color: #E2EBFA;\n",
              "      box-shadow: 0px 1px 2px rgba(60, 64, 67, 0.3), 0px 1px 3px 1px rgba(60, 64, 67, 0.15);\n",
              "      fill: #174EA6;\n",
              "    }\n",
              "\n",
              "    [theme=dark] .colab-df-convert {\n",
              "      background-color: #3B4455;\n",
              "      fill: #D2E3FC;\n",
              "    }\n",
              "\n",
              "    [theme=dark] .colab-df-convert:hover {\n",
              "      background-color: #434B5C;\n",
              "      box-shadow: 0px 1px 3px 1px rgba(0, 0, 0, 0.15);\n",
              "      filter: drop-shadow(0px 1px 2px rgba(0, 0, 0, 0.3));\n",
              "      fill: #FFFFFF;\n",
              "    }\n",
              "  </style>\n",
              "\n",
              "      <script>\n",
              "        const buttonEl =\n",
              "          document.querySelector('#df-749ce385-8d63-47ca-84fb-93ed39b42bb7 button.colab-df-convert');\n",
              "        buttonEl.style.display =\n",
              "          google.colab.kernel.accessAllowed ? 'block' : 'none';\n",
              "\n",
              "        async function convertToInteractive(key) {\n",
              "          const element = document.querySelector('#df-749ce385-8d63-47ca-84fb-93ed39b42bb7');\n",
              "          const dataTable =\n",
              "            await google.colab.kernel.invokeFunction('convertToInteractive',\n",
              "                                                     [key], {});\n",
              "          if (!dataTable) return;\n",
              "\n",
              "          const docLinkHtml = 'Like what you see? Visit the ' +\n",
              "            '<a target=\"_blank\" href=https://colab.research.google.com/notebooks/data_table.ipynb>data table notebook</a>'\n",
              "            + ' to learn more about interactive tables.';\n",
              "          element.innerHTML = '';\n",
              "          dataTable['output_type'] = 'display_data';\n",
              "          await google.colab.output.renderOutput(dataTable, element);\n",
              "          const docLink = document.createElement('div');\n",
              "          docLink.innerHTML = docLinkHtml;\n",
              "          element.appendChild(docLink);\n",
              "        }\n",
              "      </script>\n",
              "    </div>\n",
              "  </div>\n",
              "  "
            ]
          },
          "metadata": {},
          "execution_count": 23
        }
      ],
      "source": [
        "second_df.describe()"
      ]
    },
    {
      "cell_type": "markdown",
      "metadata": {
        "id": "PBTbrJXOngz2"
      },
      "source": [
        "### Variables Description"
      ]
    },
    {
      "cell_type": "markdown",
      "metadata": {
        "id": "aJV4KIxSnxay"
      },
      "source": [
        "![image.png](data:image/png;base64,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)"
      ]
    },
    {
      "cell_type": "markdown",
      "metadata": {
        "id": "u3PMJOP6ngxN"
      },
      "source": [
        "### Check Unique Values for each variable."
      ]
    },
    {
      "cell_type": "code",
      "execution_count": null,
      "metadata": {
        "colab": {
          "base_uri": "https://localhost:8080/"
        },
        "id": "zms12Yq5n-jE",
        "outputId": "0d65998e-dba7-404d-ddcb-63e212433e5f"
      },
      "outputs": [
        {
          "output_type": "stream",
          "name": "stdout",
          "text": [
            "Th number of unique values in the column Name is 105 \n",
            "Th number of unique values in the column Links is 105 \n",
            "Th number of unique values in the column Cost is 29 \n",
            "Th number of unique values in the column Collections is 42 \n",
            "Th number of unique values in the column Cuisines is 92 \n",
            "Th number of unique values in the column Timings is 77 \n"
          ]
        }
      ],
      "source": [
        "# Check Unique Values for each variable.\n",
        "for I in first_df.columns:\n",
        "  print(f'Th number of unique values in the column {I} is {first_df[I].nunique()} ')"
      ]
    },
    {
      "cell_type": "code",
      "execution_count": null,
      "metadata": {
        "colab": {
          "base_uri": "https://localhost:8080/"
        },
        "id": "rt3Dmww58KOi",
        "outputId": "24583300-570d-4cdf-8b7e-0294da65ebf5"
      },
      "outputs": [
        {
          "output_type": "stream",
          "name": "stdout",
          "text": [
            "Th number of unique values in the column Restaurant is 100 \n",
            "Th number of unique values in the column Reviewer is 7446 \n",
            "Th number of unique values in the column Review is 9364 \n",
            "Th number of unique values in the column Rating is 10 \n",
            "Th number of unique values in the column Metadata is 2477 \n",
            "Th number of unique values in the column Time is 9782 \n",
            "Th number of unique values in the column Pictures is 36 \n"
          ]
        }
      ],
      "source": [
        "for I in second_df.columns:\n",
        "  print(f'Th number of unique values in the column {I} is {second_df[I].nunique()} ')"
      ]
    },
    {
      "cell_type": "markdown",
      "metadata": {
        "id": "dauF4eBmngu3"
      },
      "source": [
        "## 3. ***Data Wrangling***"
      ]
    },
    {
      "cell_type": "markdown",
      "metadata": {
        "id": "bKJF3rekwFvQ"
      },
      "source": [
        "### Data Wrangling Code"
      ]
    },
    {
      "cell_type": "code",
      "execution_count": null,
      "metadata": {
        "id": "wwLB8FtNEtWx"
      },
      "outputs": [],
      "source": [
        "class Machine_Learning:\n",
        "    \"\"\"\n",
        "    Machine Learning class to train and evaluate a model\n",
        "    using training and testing datasets\n",
        "    \"\"\"\n",
        "    def __init__(self , model ,X_train, X_test, y_train, y_test):\n",
        "        \"\"\"\n",
        "        Initialize the model\n",
        "        :param model: Machine Learning model\n",
        "        Train and evaluate the machine learning model on the given datasets\n",
        "        :param X_train: Training data\n",
        "        :param X_test: Testing data\n",
        "        :param y_train: Target variable for training data\n",
        "        :param y_test: Target variable for testing data\n",
        "        \"\"\"\n",
        "        self.model = model()\n",
        "        self.X_train = X_train\n",
        "        self.Y_train = y_train\n",
        "        self.X_test = X_test\n",
        "        self.Y_test = y_test\n",
        "\n",
        "\n",
        "    def train_and_evaluate_machine(self,Model_name):\n",
        "\n",
        "        # Instantiate the classifier and fit to the training data\n",
        "        model =  self.model\n",
        "        model.fit(self.X_train, self.Y_train)\n",
        "\n",
        "        # Compute the training and testing accuracy\n",
        "        train_accuracy = accuracy_score(self.Y_train, model.predict(self.X_train))\n",
        "        test_accuracy = accuracy_score(self.Y_test, model.predict(self.X_test))\n",
        "\n",
        "        # Print the accuracy scores\n",
        "        print(f'Training accuracy for the given Model is : {train_accuracy}')\n",
        "        print(f'Testing accuracy for the given Model is : {test_accuracy}')\n",
        "\n",
        "        print(' ')\n",
        "        # Print the Classification Report\n",
        "        print(classification_report(self.Y_test, model.predict(self.X_test)))\n",
        "\n",
        "        # Compute and plot the confusion matrix\n",
        "        confusion = confusion_matrix(self.Y_test, model.predict(self.X_test))\n",
        "        plt.figure(figsize=(6,5))\n",
        "        sns.heatmap(confusion, annot=True)\n",
        "        plt.xlabel('Predicted')\n",
        "        plt.ylabel('Actual')\n",
        "        plt.title(f'Confusion matrix for {Model_name}')\n",
        "        plt.show()\n",
        "\n",
        "    def Cross_validation(self , para_dict):\n",
        "        \"\"\"\n",
        "        Perform cross-validation to find the best hyperparameters for the model\n",
        "        :param para_dict: Hyperparameters for the model\n",
        "        \"\"\"\n",
        "\n",
        "        self.model_cv = RandomizedSearchCV( self.model,n_iter=10, param_distributions = para_dict ,verbose = 5 , cv = 3, return_train_score= True)\n",
        "        self.model_cv.fit(self.X_train, self.Y_train)\n",
        "        print(' ')\n",
        "        print(self.model_cv.best_params_)"
      ]
    },
    {
      "cell_type": "code",
      "execution_count": null,
      "metadata": {
        "colab": {
          "base_uri": "https://localhost:8080/",
          "height": 554
        },
        "id": "wk-9a2fpoLcV",
        "outputId": "53f61411-8dfd-40e1-f709-3716ab35f9bc"
      },
      "outputs": [
        {
          "output_type": "execute_result",
          "data": {
            "text/plain": [
              "                                       Name  \\\n",
              "0                           Beyond Flavours   \n",
              "1                                  Paradise   \n",
              "2                                  Flechazo   \n",
              "3            Shah Ghouse Hotel & Restaurant   \n",
              "4                Over The Moon Brew Company   \n",
              "..                                      ...   \n",
              "100                               IndiBlaze   \n",
              "101                            Sweet Basket   \n",
              "102                        Angaara Counts 3   \n",
              "103                             Wich Please   \n",
              "104  Republic Of Noodles - Lemon Tree Hotel   \n",
              "\n",
              "                                                 Links   Cost  \\\n",
              "0    https://www.zomato.com/hyderabad/beyond-flavou...    800   \n",
              "1    https://www.zomato.com/hyderabad/paradise-gach...    800   \n",
              "2    https://www.zomato.com/hyderabad/flechazo-gach...  1,300   \n",
              "3    https://www.zomato.com/hyderabad/shah-ghouse-h...    800   \n",
              "4    https://www.zomato.com/hyderabad/over-the-moon...  1,200   \n",
              "..                                                 ...    ...   \n",
              "100  https://www.zomato.com/hyderabad/indiblaze-gac...    600   \n",
              "101  https://www.zomato.com/hyderabad/sweet-basket-...    200   \n",
              "102  https://www.zomato.com/hyderabad/angaara-count...    500   \n",
              "103  https://www.zomato.com/hyderabad/wich-please-1...    250   \n",
              "104  https://www.zomato.com/hyderabad/republic-of-n...  1,700   \n",
              "\n",
              "                                           Collections  \\\n",
              "0    Food Hygiene Rated Restaurants in Hyderabad, C...   \n",
              "1                                  Hyderabad's Hottest   \n",
              "2                   Great Buffets, Hyderabad's Hottest   \n",
              "3                               Late Night Restaurants   \n",
              "4    Best Bars & Pubs, Food Hygiene Rated Restauran...   \n",
              "..                                                 ...   \n",
              "100                                                NaN   \n",
              "101                                                NaN   \n",
              "102                                                NaN   \n",
              "103                                                NaN   \n",
              "104                               Pan-Asian Delicacies   \n",
              "\n",
              "                                              Cuisines  \\\n",
              "0    Chinese, Continental, Kebab, European, South I...   \n",
              "1                       Biryani, North Indian, Chinese   \n",
              "2         Asian, Mediterranean, North Indian, Desserts   \n",
              "3    Biryani, North Indian, Chinese, Seafood, Bever...   \n",
              "4    Asian, Continental, North Indian, Chinese, Med...   \n",
              "..                                                 ...   \n",
              "100                                   Fast Food, Salad   \n",
              "101                                     Bakery, Mithai   \n",
              "102                     North Indian, Biryani, Chinese   \n",
              "103                                          Fast Food   \n",
              "104                    Thai, Asian, Chinese, Malaysian   \n",
              "\n",
              "                                               Timings  \n",
              "0        12noon to 3:30pm, 6:30pm to 11:30pm (Mon-Sun)  \n",
              "1                                       11 AM to 11 PM  \n",
              "2                11:30 AM to 4:30 PM, 6:30 PM to 11 PM  \n",
              "3                                      12 Noon to 2 AM  \n",
              "4    12noon to 11pm (Mon, Tue, Wed, Thu, Sun), 12no...  \n",
              "..                                                 ...  \n",
              "100                                     11 AM to 11 PM  \n",
              "101  10 AM to 10 PM (Mon-Thu), 8 AM to 10:30 PM (Fr...  \n",
              "102                                   12 Noon to 11 PM  \n",
              "103                           8am to 12:30AM (Mon-Sun)  \n",
              "104              11:30 AM to 3 PM, 7 PM to 12 Midnight  \n",
              "\n",
              "[105 rows x 6 columns]"
            ],
            "text/html": [
              "\n",
              "  <div id=\"df-1dbc6827-dc69-4167-91e3-09ac120ce714\">\n",
              "    <div class=\"colab-df-container\">\n",
              "      <div>\n",
              "<style scoped>\n",
              "    .dataframe tbody tr th:only-of-type {\n",
              "        vertical-align: middle;\n",
              "    }\n",
              "\n",
              "    .dataframe tbody tr th {\n",
              "        vertical-align: top;\n",
              "    }\n",
              "\n",
              "    .dataframe thead th {\n",
              "        text-align: right;\n",
              "    }\n",
              "</style>\n",
              "<table border=\"1\" class=\"dataframe\">\n",
              "  <thead>\n",
              "    <tr style=\"text-align: right;\">\n",
              "      <th></th>\n",
              "      <th>Name</th>\n",
              "      <th>Links</th>\n",
              "      <th>Cost</th>\n",
              "      <th>Collections</th>\n",
              "      <th>Cuisines</th>\n",
              "      <th>Timings</th>\n",
              "    </tr>\n",
              "  </thead>\n",
              "  <tbody>\n",
              "    <tr>\n",
              "      <th>0</th>\n",
              "      <td>Beyond Flavours</td>\n",
              "      <td>https://www.zomato.com/hyderabad/beyond-flavou...</td>\n",
              "      <td>800</td>\n",
              "      <td>Food Hygiene Rated Restaurants in Hyderabad, C...</td>\n",
              "      <td>Chinese, Continental, Kebab, European, South I...</td>\n",
              "      <td>12noon to 3:30pm, 6:30pm to 11:30pm (Mon-Sun)</td>\n",
              "    </tr>\n",
              "    <tr>\n",
              "      <th>1</th>\n",
              "      <td>Paradise</td>\n",
              "      <td>https://www.zomato.com/hyderabad/paradise-gach...</td>\n",
              "      <td>800</td>\n",
              "      <td>Hyderabad's Hottest</td>\n",
              "      <td>Biryani, North Indian, Chinese</td>\n",
              "      <td>11 AM to 11 PM</td>\n",
              "    </tr>\n",
              "    <tr>\n",
              "      <th>2</th>\n",
              "      <td>Flechazo</td>\n",
              "      <td>https://www.zomato.com/hyderabad/flechazo-gach...</td>\n",
              "      <td>1,300</td>\n",
              "      <td>Great Buffets, Hyderabad's Hottest</td>\n",
              "      <td>Asian, Mediterranean, North Indian, Desserts</td>\n",
              "      <td>11:30 AM to 4:30 PM, 6:30 PM to 11 PM</td>\n",
              "    </tr>\n",
              "    <tr>\n",
              "      <th>3</th>\n",
              "      <td>Shah Ghouse Hotel &amp; Restaurant</td>\n",
              "      <td>https://www.zomato.com/hyderabad/shah-ghouse-h...</td>\n",
              "      <td>800</td>\n",
              "      <td>Late Night Restaurants</td>\n",
              "      <td>Biryani, North Indian, Chinese, Seafood, Bever...</td>\n",
              "      <td>12 Noon to 2 AM</td>\n",
              "    </tr>\n",
              "    <tr>\n",
              "      <th>4</th>\n",
              "      <td>Over The Moon Brew Company</td>\n",
              "      <td>https://www.zomato.com/hyderabad/over-the-moon...</td>\n",
              "      <td>1,200</td>\n",
              "      <td>Best Bars &amp; Pubs, Food Hygiene Rated Restauran...</td>\n",
              "      <td>Asian, Continental, North Indian, Chinese, Med...</td>\n",
              "      <td>12noon to 11pm (Mon, Tue, Wed, Thu, Sun), 12no...</td>\n",
              "    </tr>\n",
              "    <tr>\n",
              "      <th>...</th>\n",
              "      <td>...</td>\n",
              "      <td>...</td>\n",
              "      <td>...</td>\n",
              "      <td>...</td>\n",
              "      <td>...</td>\n",
              "      <td>...</td>\n",
              "    </tr>\n",
              "    <tr>\n",
              "      <th>100</th>\n",
              "      <td>IndiBlaze</td>\n",
              "      <td>https://www.zomato.com/hyderabad/indiblaze-gac...</td>\n",
              "      <td>600</td>\n",
              "      <td>NaN</td>\n",
              "      <td>Fast Food, Salad</td>\n",
              "      <td>11 AM to 11 PM</td>\n",
              "    </tr>\n",
              "    <tr>\n",
              "      <th>101</th>\n",
              "      <td>Sweet Basket</td>\n",
              "      <td>https://www.zomato.com/hyderabad/sweet-basket-...</td>\n",
              "      <td>200</td>\n",
              "      <td>NaN</td>\n",
              "      <td>Bakery, Mithai</td>\n",
              "      <td>10 AM to 10 PM (Mon-Thu), 8 AM to 10:30 PM (Fr...</td>\n",
              "    </tr>\n",
              "    <tr>\n",
              "      <th>102</th>\n",
              "      <td>Angaara Counts 3</td>\n",
              "      <td>https://www.zomato.com/hyderabad/angaara-count...</td>\n",
              "      <td>500</td>\n",
              "      <td>NaN</td>\n",
              "      <td>North Indian, Biryani, Chinese</td>\n",
              "      <td>12 Noon to 11 PM</td>\n",
              "    </tr>\n",
              "    <tr>\n",
              "      <th>103</th>\n",
              "      <td>Wich Please</td>\n",
              "      <td>https://www.zomato.com/hyderabad/wich-please-1...</td>\n",
              "      <td>250</td>\n",
              "      <td>NaN</td>\n",
              "      <td>Fast Food</td>\n",
              "      <td>8am to 12:30AM (Mon-Sun)</td>\n",
              "    </tr>\n",
              "    <tr>\n",
              "      <th>104</th>\n",
              "      <td>Republic Of Noodles - Lemon Tree Hotel</td>\n",
              "      <td>https://www.zomato.com/hyderabad/republic-of-n...</td>\n",
              "      <td>1,700</td>\n",
              "      <td>Pan-Asian Delicacies</td>\n",
              "      <td>Thai, Asian, Chinese, Malaysian</td>\n",
              "      <td>11:30 AM to 3 PM, 7 PM to 12 Midnight</td>\n",
              "    </tr>\n",
              "  </tbody>\n",
              "</table>\n",
              "<p>105 rows × 6 columns</p>\n",
              "</div>\n",
              "      <button class=\"colab-df-convert\" onclick=\"convertToInteractive('df-1dbc6827-dc69-4167-91e3-09ac120ce714')\"\n",
              "              title=\"Convert this dataframe to an interactive table.\"\n",
              "              style=\"display:none;\">\n",
              "        \n",
              "  <svg xmlns=\"http://www.w3.org/2000/svg\" height=\"24px\"viewBox=\"0 0 24 24\"\n",
              "       width=\"24px\">\n",
              "    <path d=\"M0 0h24v24H0V0z\" fill=\"none\"/>\n",
              "    <path d=\"M18.56 5.44l.94 2.06.94-2.06 2.06-.94-2.06-.94-.94-2.06-.94 2.06-2.06.94zm-11 1L8.5 8.5l.94-2.06 2.06-.94-2.06-.94L8.5 2.5l-.94 2.06-2.06.94zm10 10l.94 2.06.94-2.06 2.06-.94-2.06-.94-.94-2.06-.94 2.06-2.06.94z\"/><path d=\"M17.41 7.96l-1.37-1.37c-.4-.4-.92-.59-1.43-.59-.52 0-1.04.2-1.43.59L10.3 9.45l-7.72 7.72c-.78.78-.78 2.05 0 2.83L4 21.41c.39.39.9.59 1.41.59.51 0 1.02-.2 1.41-.59l7.78-7.78 2.81-2.81c.8-.78.8-2.07 0-2.86zM5.41 20L4 18.59l7.72-7.72 1.47 1.35L5.41 20z\"/>\n",
              "  </svg>\n",
              "      </button>\n",
              "      \n",
              "  <style>\n",
              "    .colab-df-container {\n",
              "      display:flex;\n",
              "      flex-wrap:wrap;\n",
              "      gap: 12px;\n",
              "    }\n",
              "\n",
              "    .colab-df-convert {\n",
              "      background-color: #E8F0FE;\n",
              "      border: none;\n",
              "      border-radius: 50%;\n",
              "      cursor: pointer;\n",
              "      display: none;\n",
              "      fill: #1967D2;\n",
              "      height: 32px;\n",
              "      padding: 0 0 0 0;\n",
              "      width: 32px;\n",
              "    }\n",
              "\n",
              "    .colab-df-convert:hover {\n",
              "      background-color: #E2EBFA;\n",
              "      box-shadow: 0px 1px 2px rgba(60, 64, 67, 0.3), 0px 1px 3px 1px rgba(60, 64, 67, 0.15);\n",
              "      fill: #174EA6;\n",
              "    }\n",
              "\n",
              "    [theme=dark] .colab-df-convert {\n",
              "      background-color: #3B4455;\n",
              "      fill: #D2E3FC;\n",
              "    }\n",
              "\n",
              "    [theme=dark] .colab-df-convert:hover {\n",
              "      background-color: #434B5C;\n",
              "      box-shadow: 0px 1px 3px 1px rgba(0, 0, 0, 0.15);\n",
              "      filter: drop-shadow(0px 1px 2px rgba(0, 0, 0, 0.3));\n",
              "      fill: #FFFFFF;\n",
              "    }\n",
              "  </style>\n",
              "\n",
              "      <script>\n",
              "        const buttonEl =\n",
              "          document.querySelector('#df-1dbc6827-dc69-4167-91e3-09ac120ce714 button.colab-df-convert');\n",
              "        buttonEl.style.display =\n",
              "          google.colab.kernel.accessAllowed ? 'block' : 'none';\n",
              "\n",
              "        async function convertToInteractive(key) {\n",
              "          const element = document.querySelector('#df-1dbc6827-dc69-4167-91e3-09ac120ce714');\n",
              "          const dataTable =\n",
              "            await google.colab.kernel.invokeFunction('convertToInteractive',\n",
              "                                                     [key], {});\n",
              "          if (!dataTable) return;\n",
              "\n",
              "          const docLinkHtml = 'Like what you see? Visit the ' +\n",
              "            '<a target=\"_blank\" href=https://colab.research.google.com/notebooks/data_table.ipynb>data table notebook</a>'\n",
              "            + ' to learn more about interactive tables.';\n",
              "          element.innerHTML = '';\n",
              "          dataTable['output_type'] = 'display_data';\n",
              "          await google.colab.output.renderOutput(dataTable, element);\n",
              "          const docLink = document.createElement('div');\n",
              "          docLink.innerHTML = docLinkHtml;\n",
              "          element.appendChild(docLink);\n",
              "        }\n",
              "      </script>\n",
              "    </div>\n",
              "  </div>\n",
              "  "
            ]
          },
          "metadata": {},
          "execution_count": 27
        }
      ],
      "source": [
        "# Write your code to make your dataset analysis ready.\n",
        "first_df"
      ]
    },
    {
      "cell_type": "code",
      "execution_count": null,
      "metadata": {
        "colab": {
          "base_uri": "https://localhost:8080/",
          "height": 423
        },
        "id": "Tednpr7qE1yT",
        "outputId": "7ad0f1ed-d886-49f2-c860-b447239e3615"
      },
      "outputs": [
        {
          "output_type": "execute_result",
          "data": {
            "text/plain": [
              "            Restaurant              Reviewer  \\\n",
              "0      Beyond Flavours     Rusha Chakraborty   \n",
              "1      Beyond Flavours  Anusha Tirumalaneedi   \n",
              "2      Beyond Flavours       Ashok Shekhawat   \n",
              "3      Beyond Flavours        Swapnil Sarkar   \n",
              "4      Beyond Flavours                Dileep   \n",
              "...                ...                   ...   \n",
              "9995  Chinese Pavilion      Abhishek Mahajan   \n",
              "9996  Chinese Pavilion        Sharad Agrawal   \n",
              "9997  Chinese Pavilion             Ramandeep   \n",
              "9998  Chinese Pavilion       Nayana Shanbhag   \n",
              "9999  Chinese Pavilion      Bhargava Krishna   \n",
              "\n",
              "                                                 Review Rating  \\\n",
              "0     The ambience was good, food was quite good . h...      5   \n",
              "1     Ambience is too good for a pleasant evening. S...      5   \n",
              "2     A must try.. great food great ambience. Thnx f...      5   \n",
              "3     Soumen das and Arun was a great guy. Only beca...      5   \n",
              "4     Food is good.we ordered Kodi drumsticks and ba...      5   \n",
              "...                                                 ...    ...   \n",
              "9995  Madhumathi Mahajan Well to start with nice cou...      3   \n",
              "9996  This place has never disappointed us.. The foo...    4.5   \n",
              "9997  Bad rating is mainly because of \"Chicken Bone ...    1.5   \n",
              "9998  I personally love and prefer Chinese Food. Had...      4   \n",
              "9999  Checked in here to try some delicious chinese ...    3.5   \n",
              "\n",
              "                          Metadata             Time  Pictures  \n",
              "0           1 Review , 2 Followers  5/25/2019 15:54         0  \n",
              "1          3 Reviews , 2 Followers  5/25/2019 14:20         0  \n",
              "2          2 Reviews , 3 Followers  5/24/2019 22:54         0  \n",
              "3            1 Review , 1 Follower  5/24/2019 22:11         0  \n",
              "4          3 Reviews , 2 Followers  5/24/2019 21:37         0  \n",
              "...                            ...              ...       ...  \n",
              "9995     53 Reviews , 54 Followers    6/5/2016 0:08         0  \n",
              "9996      2 Reviews , 53 Followers   6/4/2016 22:01         0  \n",
              "9997    65 Reviews , 423 Followers   6/3/2016 10:37         3  \n",
              "9998    13 Reviews , 144 Followers  5/31/2016 17:22         0  \n",
              "9999  472 Reviews , 1302 Followers  5/31/2016 16:41         6  \n",
              "\n",
              "[10000 rows x 7 columns]"
            ],
            "text/html": [
              "\n",
              "  <div id=\"df-58c8036a-b48c-4cf3-bb9b-3ea37328a16d\">\n",
              "    <div class=\"colab-df-container\">\n",
              "      <div>\n",
              "<style scoped>\n",
              "    .dataframe tbody tr th:only-of-type {\n",
              "        vertical-align: middle;\n",
              "    }\n",
              "\n",
              "    .dataframe tbody tr th {\n",
              "        vertical-align: top;\n",
              "    }\n",
              "\n",
              "    .dataframe thead th {\n",
              "        text-align: right;\n",
              "    }\n",
              "</style>\n",
              "<table border=\"1\" class=\"dataframe\">\n",
              "  <thead>\n",
              "    <tr style=\"text-align: right;\">\n",
              "      <th></th>\n",
              "      <th>Restaurant</th>\n",
              "      <th>Reviewer</th>\n",
              "      <th>Review</th>\n",
              "      <th>Rating</th>\n",
              "      <th>Metadata</th>\n",
              "      <th>Time</th>\n",
              "      <th>Pictures</th>\n",
              "    </tr>\n",
              "  </thead>\n",
              "  <tbody>\n",
              "    <tr>\n",
              "      <th>0</th>\n",
              "      <td>Beyond Flavours</td>\n",
              "      <td>Rusha Chakraborty</td>\n",
              "      <td>The ambience was good, food was quite good . h...</td>\n",
              "      <td>5</td>\n",
              "      <td>1 Review , 2 Followers</td>\n",
              "      <td>5/25/2019 15:54</td>\n",
              "      <td>0</td>\n",
              "    </tr>\n",
              "    <tr>\n",
              "      <th>1</th>\n",
              "      <td>Beyond Flavours</td>\n",
              "      <td>Anusha Tirumalaneedi</td>\n",
              "      <td>Ambience is too good for a pleasant evening. S...</td>\n",
              "      <td>5</td>\n",
              "      <td>3 Reviews , 2 Followers</td>\n",
              "      <td>5/25/2019 14:20</td>\n",
              "      <td>0</td>\n",
              "    </tr>\n",
              "    <tr>\n",
              "      <th>2</th>\n",
              "      <td>Beyond Flavours</td>\n",
              "      <td>Ashok Shekhawat</td>\n",
              "      <td>A must try.. great food great ambience. Thnx f...</td>\n",
              "      <td>5</td>\n",
              "      <td>2 Reviews , 3 Followers</td>\n",
              "      <td>5/24/2019 22:54</td>\n",
              "      <td>0</td>\n",
              "    </tr>\n",
              "    <tr>\n",
              "      <th>3</th>\n",
              "      <td>Beyond Flavours</td>\n",
              "      <td>Swapnil Sarkar</td>\n",
              "      <td>Soumen das and Arun was a great guy. Only beca...</td>\n",
              "      <td>5</td>\n",
              "      <td>1 Review , 1 Follower</td>\n",
              "      <td>5/24/2019 22:11</td>\n",
              "      <td>0</td>\n",
              "    </tr>\n",
              "    <tr>\n",
              "      <th>4</th>\n",
              "      <td>Beyond Flavours</td>\n",
              "      <td>Dileep</td>\n",
              "      <td>Food is good.we ordered Kodi drumsticks and ba...</td>\n",
              "      <td>5</td>\n",
              "      <td>3 Reviews , 2 Followers</td>\n",
              "      <td>5/24/2019 21:37</td>\n",
              "      <td>0</td>\n",
              "    </tr>\n",
              "    <tr>\n",
              "      <th>...</th>\n",
              "      <td>...</td>\n",
              "      <td>...</td>\n",
              "      <td>...</td>\n",
              "      <td>...</td>\n",
              "      <td>...</td>\n",
              "      <td>...</td>\n",
              "      <td>...</td>\n",
              "    </tr>\n",
              "    <tr>\n",
              "      <th>9995</th>\n",
              "      <td>Chinese Pavilion</td>\n",
              "      <td>Abhishek Mahajan</td>\n",
              "      <td>Madhumathi Mahajan Well to start with nice cou...</td>\n",
              "      <td>3</td>\n",
              "      <td>53 Reviews , 54 Followers</td>\n",
              "      <td>6/5/2016 0:08</td>\n",
              "      <td>0</td>\n",
              "    </tr>\n",
              "    <tr>\n",
              "      <th>9996</th>\n",
              "      <td>Chinese Pavilion</td>\n",
              "      <td>Sharad Agrawal</td>\n",
              "      <td>This place has never disappointed us.. The foo...</td>\n",
              "      <td>4.5</td>\n",
              "      <td>2 Reviews , 53 Followers</td>\n",
              "      <td>6/4/2016 22:01</td>\n",
              "      <td>0</td>\n",
              "    </tr>\n",
              "    <tr>\n",
              "      <th>9997</th>\n",
              "      <td>Chinese Pavilion</td>\n",
              "      <td>Ramandeep</td>\n",
              "      <td>Bad rating is mainly because of \"Chicken Bone ...</td>\n",
              "      <td>1.5</td>\n",
              "      <td>65 Reviews , 423 Followers</td>\n",
              "      <td>6/3/2016 10:37</td>\n",
              "      <td>3</td>\n",
              "    </tr>\n",
              "    <tr>\n",
              "      <th>9998</th>\n",
              "      <td>Chinese Pavilion</td>\n",
              "      <td>Nayana Shanbhag</td>\n",
              "      <td>I personally love and prefer Chinese Food. Had...</td>\n",
              "      <td>4</td>\n",
              "      <td>13 Reviews , 144 Followers</td>\n",
              "      <td>5/31/2016 17:22</td>\n",
              "      <td>0</td>\n",
              "    </tr>\n",
              "    <tr>\n",
              "      <th>9999</th>\n",
              "      <td>Chinese Pavilion</td>\n",
              "      <td>Bhargava Krishna</td>\n",
              "      <td>Checked in here to try some delicious chinese ...</td>\n",
              "      <td>3.5</td>\n",
              "      <td>472 Reviews , 1302 Followers</td>\n",
              "      <td>5/31/2016 16:41</td>\n",
              "      <td>6</td>\n",
              "    </tr>\n",
              "  </tbody>\n",
              "</table>\n",
              "<p>10000 rows × 7 columns</p>\n",
              "</div>\n",
              "      <button class=\"colab-df-convert\" onclick=\"convertToInteractive('df-58c8036a-b48c-4cf3-bb9b-3ea37328a16d')\"\n",
              "              title=\"Convert this dataframe to an interactive table.\"\n",
              "              style=\"display:none;\">\n",
              "        \n",
              "  <svg xmlns=\"http://www.w3.org/2000/svg\" height=\"24px\"viewBox=\"0 0 24 24\"\n",
              "       width=\"24px\">\n",
              "    <path d=\"M0 0h24v24H0V0z\" fill=\"none\"/>\n",
              "    <path d=\"M18.56 5.44l.94 2.06.94-2.06 2.06-.94-2.06-.94-.94-2.06-.94 2.06-2.06.94zm-11 1L8.5 8.5l.94-2.06 2.06-.94-2.06-.94L8.5 2.5l-.94 2.06-2.06.94zm10 10l.94 2.06.94-2.06 2.06-.94-2.06-.94-.94-2.06-.94 2.06-2.06.94z\"/><path d=\"M17.41 7.96l-1.37-1.37c-.4-.4-.92-.59-1.43-.59-.52 0-1.04.2-1.43.59L10.3 9.45l-7.72 7.72c-.78.78-.78 2.05 0 2.83L4 21.41c.39.39.9.59 1.41.59.51 0 1.02-.2 1.41-.59l7.78-7.78 2.81-2.81c.8-.78.8-2.07 0-2.86zM5.41 20L4 18.59l7.72-7.72 1.47 1.35L5.41 20z\"/>\n",
              "  </svg>\n",
              "      </button>\n",
              "      \n",
              "  <style>\n",
              "    .colab-df-container {\n",
              "      display:flex;\n",
              "      flex-wrap:wrap;\n",
              "      gap: 12px;\n",
              "    }\n",
              "\n",
              "    .colab-df-convert {\n",
              "      background-color: #E8F0FE;\n",
              "      border: none;\n",
              "      border-radius: 50%;\n",
              "      cursor: pointer;\n",
              "      display: none;\n",
              "      fill: #1967D2;\n",
              "      height: 32px;\n",
              "      padding: 0 0 0 0;\n",
              "      width: 32px;\n",
              "    }\n",
              "\n",
              "    .colab-df-convert:hover {\n",
              "      background-color: #E2EBFA;\n",
              "      box-shadow: 0px 1px 2px rgba(60, 64, 67, 0.3), 0px 1px 3px 1px rgba(60, 64, 67, 0.15);\n",
              "      fill: #174EA6;\n",
              "    }\n",
              "\n",
              "    [theme=dark] .colab-df-convert {\n",
              "      background-color: #3B4455;\n",
              "      fill: #D2E3FC;\n",
              "    }\n",
              "\n",
              "    [theme=dark] .colab-df-convert:hover {\n",
              "      background-color: #434B5C;\n",
              "      box-shadow: 0px 1px 3px 1px rgba(0, 0, 0, 0.15);\n",
              "      filter: drop-shadow(0px 1px 2px rgba(0, 0, 0, 0.3));\n",
              "      fill: #FFFFFF;\n",
              "    }\n",
              "  </style>\n",
              "\n",
              "      <script>\n",
              "        const buttonEl =\n",
              "          document.querySelector('#df-58c8036a-b48c-4cf3-bb9b-3ea37328a16d button.colab-df-convert');\n",
              "        buttonEl.style.display =\n",
              "          google.colab.kernel.accessAllowed ? 'block' : 'none';\n",
              "\n",
              "        async function convertToInteractive(key) {\n",
              "          const element = document.querySelector('#df-58c8036a-b48c-4cf3-bb9b-3ea37328a16d');\n",
              "          const dataTable =\n",
              "            await google.colab.kernel.invokeFunction('convertToInteractive',\n",
              "                                                     [key], {});\n",
              "          if (!dataTable) return;\n",
              "\n",
              "          const docLinkHtml = 'Like what you see? Visit the ' +\n",
              "            '<a target=\"_blank\" href=https://colab.research.google.com/notebooks/data_table.ipynb>data table notebook</a>'\n",
              "            + ' to learn more about interactive tables.';\n",
              "          element.innerHTML = '';\n",
              "          dataTable['output_type'] = 'display_data';\n",
              "          await google.colab.output.renderOutput(dataTable, element);\n",
              "          const docLink = document.createElement('div');\n",
              "          docLink.innerHTML = docLinkHtml;\n",
              "          element.appendChild(docLink);\n",
              "        }\n",
              "      </script>\n",
              "    </div>\n",
              "  </div>\n",
              "  "
            ]
          },
          "metadata": {},
          "execution_count": 28
        }
      ],
      "source": [
        "second_df"
      ]
    },
    {
      "cell_type": "code",
      "execution_count": null,
      "metadata": {
        "colab": {
          "base_uri": "https://localhost:8080/",
          "height": 81
        },
        "id": "z3rwnD0rG9NL",
        "outputId": "ce898e4c-264c-4a61-a31b-b25ff816d07a"
      },
      "outputs": [
        {
          "output_type": "execute_result",
          "data": {
            "text/plain": [
              "                         Restaurant           Reviewer  \\\n",
              "7601  The Old Madras Baking Company  Dhanasekar Kannan   \n",
              "\n",
              "                                                 Review Rating  \\\n",
              "7601  One of the best pizzas to try. It served with ...   Like   \n",
              "\n",
              "                       Metadata             Time  Pictures  \n",
              "7601  12 Reviews , 21 Followers  5/18/2019 12:31         1  "
            ],
            "text/html": [
              "\n",
              "  <div id=\"df-f7faf033-84f4-493f-a907-b7d4afae94df\">\n",
              "    <div class=\"colab-df-container\">\n",
              "      <div>\n",
              "<style scoped>\n",
              "    .dataframe tbody tr th:only-of-type {\n",
              "        vertical-align: middle;\n",
              "    }\n",
              "\n",
              "    .dataframe tbody tr th {\n",
              "        vertical-align: top;\n",
              "    }\n",
              "\n",
              "    .dataframe thead th {\n",
              "        text-align: right;\n",
              "    }\n",
              "</style>\n",
              "<table border=\"1\" class=\"dataframe\">\n",
              "  <thead>\n",
              "    <tr style=\"text-align: right;\">\n",
              "      <th></th>\n",
              "      <th>Restaurant</th>\n",
              "      <th>Reviewer</th>\n",
              "      <th>Review</th>\n",
              "      <th>Rating</th>\n",
              "      <th>Metadata</th>\n",
              "      <th>Time</th>\n",
              "      <th>Pictures</th>\n",
              "    </tr>\n",
              "  </thead>\n",
              "  <tbody>\n",
              "    <tr>\n",
              "      <th>7601</th>\n",
              "      <td>The Old Madras Baking Company</td>\n",
              "      <td>Dhanasekar Kannan</td>\n",
              "      <td>One of the best pizzas to try. It served with ...</td>\n",
              "      <td>Like</td>\n",
              "      <td>12 Reviews , 21 Followers</td>\n",
              "      <td>5/18/2019 12:31</td>\n",
              "      <td>1</td>\n",
              "    </tr>\n",
              "  </tbody>\n",
              "</table>\n",
              "</div>\n",
              "      <button class=\"colab-df-convert\" onclick=\"convertToInteractive('df-f7faf033-84f4-493f-a907-b7d4afae94df')\"\n",
              "              title=\"Convert this dataframe to an interactive table.\"\n",
              "              style=\"display:none;\">\n",
              "        \n",
              "  <svg xmlns=\"http://www.w3.org/2000/svg\" height=\"24px\"viewBox=\"0 0 24 24\"\n",
              "       width=\"24px\">\n",
              "    <path d=\"M0 0h24v24H0V0z\" fill=\"none\"/>\n",
              "    <path d=\"M18.56 5.44l.94 2.06.94-2.06 2.06-.94-2.06-.94-.94-2.06-.94 2.06-2.06.94zm-11 1L8.5 8.5l.94-2.06 2.06-.94-2.06-.94L8.5 2.5l-.94 2.06-2.06.94zm10 10l.94 2.06.94-2.06 2.06-.94-2.06-.94-.94-2.06-.94 2.06-2.06.94z\"/><path d=\"M17.41 7.96l-1.37-1.37c-.4-.4-.92-.59-1.43-.59-.52 0-1.04.2-1.43.59L10.3 9.45l-7.72 7.72c-.78.78-.78 2.05 0 2.83L4 21.41c.39.39.9.59 1.41.59.51 0 1.02-.2 1.41-.59l7.78-7.78 2.81-2.81c.8-.78.8-2.07 0-2.86zM5.41 20L4 18.59l7.72-7.72 1.47 1.35L5.41 20z\"/>\n",
              "  </svg>\n",
              "      </button>\n",
              "      \n",
              "  <style>\n",
              "    .colab-df-container {\n",
              "      display:flex;\n",
              "      flex-wrap:wrap;\n",
              "      gap: 12px;\n",
              "    }\n",
              "\n",
              "    .colab-df-convert {\n",
              "      background-color: #E8F0FE;\n",
              "      border: none;\n",
              "      border-radius: 50%;\n",
              "      cursor: pointer;\n",
              "      display: none;\n",
              "      fill: #1967D2;\n",
              "      height: 32px;\n",
              "      padding: 0 0 0 0;\n",
              "      width: 32px;\n",
              "    }\n",
              "\n",
              "    .colab-df-convert:hover {\n",
              "      background-color: #E2EBFA;\n",
              "      box-shadow: 0px 1px 2px rgba(60, 64, 67, 0.3), 0px 1px 3px 1px rgba(60, 64, 67, 0.15);\n",
              "      fill: #174EA6;\n",
              "    }\n",
              "\n",
              "    [theme=dark] .colab-df-convert {\n",
              "      background-color: #3B4455;\n",
              "      fill: #D2E3FC;\n",
              "    }\n",
              "\n",
              "    [theme=dark] .colab-df-convert:hover {\n",
              "      background-color: #434B5C;\n",
              "      box-shadow: 0px 1px 3px 1px rgba(0, 0, 0, 0.15);\n",
              "      filter: drop-shadow(0px 1px 2px rgba(0, 0, 0, 0.3));\n",
              "      fill: #FFFFFF;\n",
              "    }\n",
              "  </style>\n",
              "\n",
              "      <script>\n",
              "        const buttonEl =\n",
              "          document.querySelector('#df-f7faf033-84f4-493f-a907-b7d4afae94df button.colab-df-convert');\n",
              "        buttonEl.style.display =\n",
              "          google.colab.kernel.accessAllowed ? 'block' : 'none';\n",
              "\n",
              "        async function convertToInteractive(key) {\n",
              "          const element = document.querySelector('#df-f7faf033-84f4-493f-a907-b7d4afae94df');\n",
              "          const dataTable =\n",
              "            await google.colab.kernel.invokeFunction('convertToInteractive',\n",
              "                                                     [key], {});\n",
              "          if (!dataTable) return;\n",
              "\n",
              "          const docLinkHtml = 'Like what you see? Visit the ' +\n",
              "            '<a target=\"_blank\" href=https://colab.research.google.com/notebooks/data_table.ipynb>data table notebook</a>'\n",
              "            + ' to learn more about interactive tables.';\n",
              "          element.innerHTML = '';\n",
              "          dataTable['output_type'] = 'display_data';\n",
              "          await google.colab.output.renderOutput(dataTable, element);\n",
              "          const docLink = document.createElement('div');\n",
              "          docLink.innerHTML = docLinkHtml;\n",
              "          element.appendChild(docLink);\n",
              "        }\n",
              "      </script>\n",
              "    </div>\n",
              "  </div>\n",
              "  "
            ]
          },
          "metadata": {},
          "execution_count": 29
        }
      ],
      "source": [
        "second_df[second_df['Rating']=='Like']"
      ]
    },
    {
      "cell_type": "code",
      "execution_count": null,
      "metadata": {
        "id": "J5PhtpymITgl"
      },
      "outputs": [],
      "source": [
        "avg = 4\n",
        "for i in second_df[second_df['Restaurant'] == 'The Old Madras Baking Company']['Rating']:\n",
        "  if i != 'Like':\n",
        "    avg += float(i)\n",
        "avg_mean = avg/len(second_df[second_df['Restaurant'] == 'The Old Madras Baking Company']['Rating'])"
      ]
    },
    {
      "cell_type": "code",
      "execution_count": null,
      "metadata": {
        "id": "WZ1aGW_eIl7C"
      },
      "outputs": [],
      "source": [
        "second_df['Rating'][second_df['Rating']=='Like'] = avg_mean"
      ]
    },
    {
      "cell_type": "code",
      "execution_count": null,
      "metadata": {
        "id": "4coisZjiGdBY"
      },
      "outputs": [],
      "source": [
        "second_df['Rating'] = second_df['Rating'].astype(float)"
      ]
    },
    {
      "cell_type": "markdown",
      "metadata": {
        "id": "MSa1f5Uengrz"
      },
      "source": [
        "### What all manipulations have you done and insights you found?"
      ]
    },
    {
      "cell_type": "markdown",
      "metadata": {
        "id": "LbyXE7I1olp8"
      },
      "source": [
        "Answer Here."
      ]
    },
    {
      "cell_type": "markdown",
      "metadata": {
        "id": "GF8Ens_Soomf"
      },
      "source": [
        "## ***4. Data Vizualization, Storytelling & Experimenting with charts : Understand the relationships between variables***"
      ]
    },
    {
      "cell_type": "markdown",
      "metadata": {
        "id": "0wOQAZs5pc--"
      },
      "source": [
        "#### Chart - 1 Restaurants and their Ratings"
      ]
    },
    {
      "cell_type": "code",
      "execution_count": null,
      "metadata": {
        "colab": {
          "base_uri": "https://localhost:8080/"
        },
        "id": "7v_ESjsspbW7",
        "outputId": "14405b2f-892b-4a49-9fa7-bac9477ad960"
      },
      "outputs": [
        {
          "output_type": "execute_result",
          "data": {
            "text/plain": [
              "                        Restaurant  Rating\n",
              "3        AB's - Absolute Barbecues   488.0\n",
              "11                          B-Dubs   481.0\n",
              "2   3B's - Buddies, Bar & Barbecue   476.0\n",
              "67                        Paradise   470.0\n",
              "35                        Flechazo   466.0\n",
              "..                             ...     ...\n",
              "14                 Behrouz Biryani   282.5\n",
              "57                   Mathura Vilas   282.0\n",
              "66                   Pakwaan Grand   271.0\n",
              "10                  Asian Meal Box   258.0\n",
              "41                Hotel Zara Hi-Fi   240.0\n",
              "\n",
              "[100 rows x 2 columns]"
            ],
            "text/html": [
              "\n",
              "  <div id=\"df-d23da0be-eb06-43ae-843b-aa6ee6f14161\">\n",
              "    <div class=\"colab-df-container\">\n",
              "      <div>\n",
              "<style scoped>\n",
              "    .dataframe tbody tr th:only-of-type {\n",
              "        vertical-align: middle;\n",
              "    }\n",
              "\n",
              "    .dataframe tbody tr th {\n",
              "        vertical-align: top;\n",
              "    }\n",
              "\n",
              "    .dataframe thead th {\n",
              "        text-align: right;\n",
              "    }\n",
              "</style>\n",
              "<table border=\"1\" class=\"dataframe\">\n",
              "  <thead>\n",
              "    <tr style=\"text-align: right;\">\n",
              "      <th></th>\n",
              "      <th>Restaurant</th>\n",
              "      <th>Rating</th>\n",
              "    </tr>\n",
              "  </thead>\n",
              "  <tbody>\n",
              "    <tr>\n",
              "      <th>3</th>\n",
              "      <td>AB's - Absolute Barbecues</td>\n",
              "      <td>488.0</td>\n",
              "    </tr>\n",
              "    <tr>\n",
              "      <th>11</th>\n",
              "      <td>B-Dubs</td>\n",
              "      <td>481.0</td>\n",
              "    </tr>\n",
              "    <tr>\n",
              "      <th>2</th>\n",
              "      <td>3B's - Buddies, Bar &amp; Barbecue</td>\n",
              "      <td>476.0</td>\n",
              "    </tr>\n",
              "    <tr>\n",
              "      <th>67</th>\n",
              "      <td>Paradise</td>\n",
              "      <td>470.0</td>\n",
              "    </tr>\n",
              "    <tr>\n",
              "      <th>35</th>\n",
              "      <td>Flechazo</td>\n",
              "      <td>466.0</td>\n",
              "    </tr>\n",
              "    <tr>\n",
              "      <th>...</th>\n",
              "      <td>...</td>\n",
              "      <td>...</td>\n",
              "    </tr>\n",
              "    <tr>\n",
              "      <th>14</th>\n",
              "      <td>Behrouz Biryani</td>\n",
              "      <td>282.5</td>\n",
              "    </tr>\n",
              "    <tr>\n",
              "      <th>57</th>\n",
              "      <td>Mathura Vilas</td>\n",
              "      <td>282.0</td>\n",
              "    </tr>\n",
              "    <tr>\n",
              "      <th>66</th>\n",
              "      <td>Pakwaan Grand</td>\n",
              "      <td>271.0</td>\n",
              "    </tr>\n",
              "    <tr>\n",
              "      <th>10</th>\n",
              "      <td>Asian Meal Box</td>\n",
              "      <td>258.0</td>\n",
              "    </tr>\n",
              "    <tr>\n",
              "      <th>41</th>\n",
              "      <td>Hotel Zara Hi-Fi</td>\n",
              "      <td>240.0</td>\n",
              "    </tr>\n",
              "  </tbody>\n",
              "</table>\n",
              "<p>100 rows × 2 columns</p>\n",
              "</div>\n",
              "      <button class=\"colab-df-convert\" onclick=\"convertToInteractive('df-d23da0be-eb06-43ae-843b-aa6ee6f14161')\"\n",
              "              title=\"Convert this dataframe to an interactive table.\"\n",
              "              style=\"display:none;\">\n",
              "        \n",
              "  <svg xmlns=\"http://www.w3.org/2000/svg\" height=\"24px\"viewBox=\"0 0 24 24\"\n",
              "       width=\"24px\">\n",
              "    <path d=\"M0 0h24v24H0V0z\" fill=\"none\"/>\n",
              "    <path d=\"M18.56 5.44l.94 2.06.94-2.06 2.06-.94-2.06-.94-.94-2.06-.94 2.06-2.06.94zm-11 1L8.5 8.5l.94-2.06 2.06-.94-2.06-.94L8.5 2.5l-.94 2.06-2.06.94zm10 10l.94 2.06.94-2.06 2.06-.94-2.06-.94-.94-2.06-.94 2.06-2.06.94z\"/><path d=\"M17.41 7.96l-1.37-1.37c-.4-.4-.92-.59-1.43-.59-.52 0-1.04.2-1.43.59L10.3 9.45l-7.72 7.72c-.78.78-.78 2.05 0 2.83L4 21.41c.39.39.9.59 1.41.59.51 0 1.02-.2 1.41-.59l7.78-7.78 2.81-2.81c.8-.78.8-2.07 0-2.86zM5.41 20L4 18.59l7.72-7.72 1.47 1.35L5.41 20z\"/>\n",
              "  </svg>\n",
              "      </button>\n",
              "      \n",
              "  <style>\n",
              "    .colab-df-container {\n",
              "      display:flex;\n",
              "      flex-wrap:wrap;\n",
              "      gap: 12px;\n",
              "    }\n",
              "\n",
              "    .colab-df-convert {\n",
              "      background-color: #E8F0FE;\n",
              "      border: none;\n",
              "      border-radius: 50%;\n",
              "      cursor: pointer;\n",
              "      display: none;\n",
              "      fill: #1967D2;\n",
              "      height: 32px;\n",
              "      padding: 0 0 0 0;\n",
              "      width: 32px;\n",
              "    }\n",
              "\n",
              "    .colab-df-convert:hover {\n",
              "      background-color: #E2EBFA;\n",
              "      box-shadow: 0px 1px 2px rgba(60, 64, 67, 0.3), 0px 1px 3px 1px rgba(60, 64, 67, 0.15);\n",
              "      fill: #174EA6;\n",
              "    }\n",
              "\n",
              "    [theme=dark] .colab-df-convert {\n",
              "      background-color: #3B4455;\n",
              "      fill: #D2E3FC;\n",
              "    }\n",
              "\n",
              "    [theme=dark] .colab-df-convert:hover {\n",
              "      background-color: #434B5C;\n",
              "      box-shadow: 0px 1px 3px 1px rgba(0, 0, 0, 0.15);\n",
              "      filter: drop-shadow(0px 1px 2px rgba(0, 0, 0, 0.3));\n",
              "      fill: #FFFFFF;\n",
              "    }\n",
              "  </style>\n",
              "\n",
              "      <script>\n",
              "        const buttonEl =\n",
              "          document.querySelector('#df-d23da0be-eb06-43ae-843b-aa6ee6f14161 button.colab-df-convert');\n",
              "        buttonEl.style.display =\n",
              "          google.colab.kernel.accessAllowed ? 'block' : 'none';\n",
              "\n",
              "        async function convertToInteractive(key) {\n",
              "          const element = document.querySelector('#df-d23da0be-eb06-43ae-843b-aa6ee6f14161');\n",
              "          const dataTable =\n",
              "            await google.colab.kernel.invokeFunction('convertToInteractive',\n",
              "                                                     [key], {});\n",
              "          if (!dataTable) return;\n",
              "\n",
              "          const docLinkHtml = 'Like what you see? Visit the ' +\n",
              "            '<a target=\"_blank\" href=https://colab.research.google.com/notebooks/data_table.ipynb>data table notebook</a>'\n",
              "            + ' to learn more about interactive tables.';\n",
              "          element.innerHTML = '';\n",
              "          dataTable['output_type'] = 'display_data';\n",
              "          await google.colab.output.renderOutput(dataTable, element);\n",
              "          const docLink = document.createElement('div');\n",
              "          docLink.innerHTML = docLinkHtml;\n",
              "          element.appendChild(docLink);\n",
              "        }\n",
              "      </script>\n",
              "    </div>\n",
              "  </div>\n",
              "  "
            ]
          },
          "metadata": {},
          "execution_count": 33
        }
      ],
      "source": [
        "# Chart - 1 visualization code\n",
        "rating=second_df.groupby('Restaurant')['Rating'].sum().reset_index().sort_values(by = 'Rating',ascending = False)\n",
        "rating"
      ]
    },
    {
      "cell_type": "markdown",
      "metadata": {
        "id": "KSlN3yHqYklG"
      },
      "source": [
        "#### Chart - 2"
      ]
    },
    {
      "cell_type": "code",
      "execution_count": null,
      "metadata": {
        "colab": {
          "base_uri": "https://localhost:8080/"
        },
        "id": "-S6QX6LtKPuu",
        "outputId": "e3c232d5-bc02-403e-c8d6-268c88c8e282"
      },
      "outputs": [
        {
          "output_type": "execute_result",
          "data": {
            "text/plain": [
              "                                Restaurant   Cost\n",
              "0                        10 Downing Street  1,900\n",
              "1                                 13 Dhaba    450\n",
              "2           3B's - Buddies, Bar & Barbecue  1,100\n",
              "3                AB's - Absolute Barbecues  1,500\n",
              "4                        Absolute Sizzlers    750\n",
              "..                                     ...    ...\n",
              "100                            Wich Please    250\n",
              "101  Yum Yum Tree - The Arabian Food Court  1,200\n",
              "102        Zega - Sheraton Hyderabad Hotel  1,750\n",
              "103               Zing's Northeast Kitchen    550\n",
              "104                                eat.fit    500\n",
              "\n",
              "[105 rows x 2 columns]"
            ],
            "text/html": [
              "\n",
              "  <div id=\"df-910e94a5-82ab-4b21-ae04-b7456063da3a\">\n",
              "    <div class=\"colab-df-container\">\n",
              "      <div>\n",
              "<style scoped>\n",
              "    .dataframe tbody tr th:only-of-type {\n",
              "        vertical-align: middle;\n",
              "    }\n",
              "\n",
              "    .dataframe tbody tr th {\n",
              "        vertical-align: top;\n",
              "    }\n",
              "\n",
              "    .dataframe thead th {\n",
              "        text-align: right;\n",
              "    }\n",
              "</style>\n",
              "<table border=\"1\" class=\"dataframe\">\n",
              "  <thead>\n",
              "    <tr style=\"text-align: right;\">\n",
              "      <th></th>\n",
              "      <th>Restaurant</th>\n",
              "      <th>Cost</th>\n",
              "    </tr>\n",
              "  </thead>\n",
              "  <tbody>\n",
              "    <tr>\n",
              "      <th>0</th>\n",
              "      <td>10 Downing Street</td>\n",
              "      <td>1,900</td>\n",
              "    </tr>\n",
              "    <tr>\n",
              "      <th>1</th>\n",
              "      <td>13 Dhaba</td>\n",
              "      <td>450</td>\n",
              "    </tr>\n",
              "    <tr>\n",
              "      <th>2</th>\n",
              "      <td>3B's - Buddies, Bar &amp; Barbecue</td>\n",
              "      <td>1,100</td>\n",
              "    </tr>\n",
              "    <tr>\n",
              "      <th>3</th>\n",
              "      <td>AB's - Absolute Barbecues</td>\n",
              "      <td>1,500</td>\n",
              "    </tr>\n",
              "    <tr>\n",
              "      <th>4</th>\n",
              "      <td>Absolute Sizzlers</td>\n",
              "      <td>750</td>\n",
              "    </tr>\n",
              "    <tr>\n",
              "      <th>...</th>\n",
              "      <td>...</td>\n",
              "      <td>...</td>\n",
              "    </tr>\n",
              "    <tr>\n",
              "      <th>100</th>\n",
              "      <td>Wich Please</td>\n",
              "      <td>250</td>\n",
              "    </tr>\n",
              "    <tr>\n",
              "      <th>101</th>\n",
              "      <td>Yum Yum Tree - The Arabian Food Court</td>\n",
              "      <td>1,200</td>\n",
              "    </tr>\n",
              "    <tr>\n",
              "      <th>102</th>\n",
              "      <td>Zega - Sheraton Hyderabad Hotel</td>\n",
              "      <td>1,750</td>\n",
              "    </tr>\n",
              "    <tr>\n",
              "      <th>103</th>\n",
              "      <td>Zing's Northeast Kitchen</td>\n",
              "      <td>550</td>\n",
              "    </tr>\n",
              "    <tr>\n",
              "      <th>104</th>\n",
              "      <td>eat.fit</td>\n",
              "      <td>500</td>\n",
              "    </tr>\n",
              "  </tbody>\n",
              "</table>\n",
              "<p>105 rows × 2 columns</p>\n",
              "</div>\n",
              "      <button class=\"colab-df-convert\" onclick=\"convertToInteractive('df-910e94a5-82ab-4b21-ae04-b7456063da3a')\"\n",
              "              title=\"Convert this dataframe to an interactive table.\"\n",
              "              style=\"display:none;\">\n",
              "        \n",
              "  <svg xmlns=\"http://www.w3.org/2000/svg\" height=\"24px\"viewBox=\"0 0 24 24\"\n",
              "       width=\"24px\">\n",
              "    <path d=\"M0 0h24v24H0V0z\" fill=\"none\"/>\n",
              "    <path d=\"M18.56 5.44l.94 2.06.94-2.06 2.06-.94-2.06-.94-.94-2.06-.94 2.06-2.06.94zm-11 1L8.5 8.5l.94-2.06 2.06-.94-2.06-.94L8.5 2.5l-.94 2.06-2.06.94zm10 10l.94 2.06.94-2.06 2.06-.94-2.06-.94-.94-2.06-.94 2.06-2.06.94z\"/><path d=\"M17.41 7.96l-1.37-1.37c-.4-.4-.92-.59-1.43-.59-.52 0-1.04.2-1.43.59L10.3 9.45l-7.72 7.72c-.78.78-.78 2.05 0 2.83L4 21.41c.39.39.9.59 1.41.59.51 0 1.02-.2 1.41-.59l7.78-7.78 2.81-2.81c.8-.78.8-2.07 0-2.86zM5.41 20L4 18.59l7.72-7.72 1.47 1.35L5.41 20z\"/>\n",
              "  </svg>\n",
              "      </button>\n",
              "      \n",
              "  <style>\n",
              "    .colab-df-container {\n",
              "      display:flex;\n",
              "      flex-wrap:wrap;\n",
              "      gap: 12px;\n",
              "    }\n",
              "\n",
              "    .colab-df-convert {\n",
              "      background-color: #E8F0FE;\n",
              "      border: none;\n",
              "      border-radius: 50%;\n",
              "      cursor: pointer;\n",
              "      display: none;\n",
              "      fill: #1967D2;\n",
              "      height: 32px;\n",
              "      padding: 0 0 0 0;\n",
              "      width: 32px;\n",
              "    }\n",
              "\n",
              "    .colab-df-convert:hover {\n",
              "      background-color: #E2EBFA;\n",
              "      box-shadow: 0px 1px 2px rgba(60, 64, 67, 0.3), 0px 1px 3px 1px rgba(60, 64, 67, 0.15);\n",
              "      fill: #174EA6;\n",
              "    }\n",
              "\n",
              "    [theme=dark] .colab-df-convert {\n",
              "      background-color: #3B4455;\n",
              "      fill: #D2E3FC;\n",
              "    }\n",
              "\n",
              "    [theme=dark] .colab-df-convert:hover {\n",
              "      background-color: #434B5C;\n",
              "      box-shadow: 0px 1px 3px 1px rgba(0, 0, 0, 0.15);\n",
              "      filter: drop-shadow(0px 1px 2px rgba(0, 0, 0, 0.3));\n",
              "      fill: #FFFFFF;\n",
              "    }\n",
              "  </style>\n",
              "\n",
              "      <script>\n",
              "        const buttonEl =\n",
              "          document.querySelector('#df-910e94a5-82ab-4b21-ae04-b7456063da3a button.colab-df-convert');\n",
              "        buttonEl.style.display =\n",
              "          google.colab.kernel.accessAllowed ? 'block' : 'none';\n",
              "\n",
              "        async function convertToInteractive(key) {\n",
              "          const element = document.querySelector('#df-910e94a5-82ab-4b21-ae04-b7456063da3a');\n",
              "          const dataTable =\n",
              "            await google.colab.kernel.invokeFunction('convertToInteractive',\n",
              "                                                     [key], {});\n",
              "          if (!dataTable) return;\n",
              "\n",
              "          const docLinkHtml = 'Like what you see? Visit the ' +\n",
              "            '<a target=\"_blank\" href=https://colab.research.google.com/notebooks/data_table.ipynb>data table notebook</a>'\n",
              "            + ' to learn more about interactive tables.';\n",
              "          element.innerHTML = '';\n",
              "          dataTable['output_type'] = 'display_data';\n",
              "          await google.colab.output.renderOutput(dataTable, element);\n",
              "          const docLink = document.createElement('div');\n",
              "          docLink.innerHTML = docLinkHtml;\n",
              "          element.appendChild(docLink);\n",
              "        }\n",
              "      </script>\n",
              "    </div>\n",
              "  </div>\n",
              "  "
            ]
          },
          "metadata": {},
          "execution_count": 34
        }
      ],
      "source": [
        "# Chart - 2 visualization code\n",
        "cost = first_df.groupby('Name')['Cost'].sum().reset_index().rename(columns = {'Name':'Restaurant'})\n",
        "cost"
      ]
    },
    {
      "cell_type": "markdown",
      "metadata": {
        "id": "EM7whBJCYoAo"
      },
      "source": [
        "#### Chart - 3"
      ]
    },
    {
      "cell_type": "code",
      "execution_count": null,
      "metadata": {
        "colab": {
          "base_uri": "https://localhost:8080/"
        },
        "id": "t6GMdE67YoAp",
        "outputId": "4b9d29b1-fb05-40b5-def1-b7e542632c83"
      },
      "outputs": [
        {
          "output_type": "execute_result",
          "data": {
            "text/plain": [
              "                                 Restaurant   Cost  Rating\n",
              "3                 AB's - Absolute Barbecues  1,500   488.0\n",
              "11                                   B-Dubs  1,600   481.0\n",
              "2            3B's - Buddies, Bar & Barbecue  1,100   476.0\n",
              "67                                 Paradise    800   470.0\n",
              "35                                 Flechazo  1,300   466.0\n",
              "87                           The Indi Grill  1,500   460.0\n",
              "97          Zega - Sheraton Hyderabad Hotel  1,750   445.0\n",
              "64               Over The Moon Brew Company  1,200   434.0\n",
              "16                          Beyond Flavours    800   428.0\n",
              "19  Cascade - Radisson Hyderabad Hitec City  1,800   426.0\n",
              "84                    The Fisherman's Wharf  1,500   422.0\n",
              "34         Feast - Sheraton Hyderabad Hotel  2,500   422.0\n",
              "71                     Prism Club & Kitchen  1,200   421.5\n",
              "58    Mazzo - Marriott Executive Apartments  1,700   419.0\n",
              "13                          Barbeque Nation  1,600   412.0"
            ],
            "text/html": [
              "\n",
              "  <div id=\"df-d5933137-e03a-4dfe-ba2e-b09d4008053c\">\n",
              "    <div class=\"colab-df-container\">\n",
              "      <div>\n",
              "<style scoped>\n",
              "    .dataframe tbody tr th:only-of-type {\n",
              "        vertical-align: middle;\n",
              "    }\n",
              "\n",
              "    .dataframe tbody tr th {\n",
              "        vertical-align: top;\n",
              "    }\n",
              "\n",
              "    .dataframe thead th {\n",
              "        text-align: right;\n",
              "    }\n",
              "</style>\n",
              "<table border=\"1\" class=\"dataframe\">\n",
              "  <thead>\n",
              "    <tr style=\"text-align: right;\">\n",
              "      <th></th>\n",
              "      <th>Restaurant</th>\n",
              "      <th>Cost</th>\n",
              "      <th>Rating</th>\n",
              "    </tr>\n",
              "  </thead>\n",
              "  <tbody>\n",
              "    <tr>\n",
              "      <th>3</th>\n",
              "      <td>AB's - Absolute Barbecues</td>\n",
              "      <td>1,500</td>\n",
              "      <td>488.0</td>\n",
              "    </tr>\n",
              "    <tr>\n",
              "      <th>11</th>\n",
              "      <td>B-Dubs</td>\n",
              "      <td>1,600</td>\n",
              "      <td>481.0</td>\n",
              "    </tr>\n",
              "    <tr>\n",
              "      <th>2</th>\n",
              "      <td>3B's - Buddies, Bar &amp; Barbecue</td>\n",
              "      <td>1,100</td>\n",
              "      <td>476.0</td>\n",
              "    </tr>\n",
              "    <tr>\n",
              "      <th>67</th>\n",
              "      <td>Paradise</td>\n",
              "      <td>800</td>\n",
              "      <td>470.0</td>\n",
              "    </tr>\n",
              "    <tr>\n",
              "      <th>35</th>\n",
              "      <td>Flechazo</td>\n",
              "      <td>1,300</td>\n",
              "      <td>466.0</td>\n",
              "    </tr>\n",
              "    <tr>\n",
              "      <th>87</th>\n",
              "      <td>The Indi Grill</td>\n",
              "      <td>1,500</td>\n",
              "      <td>460.0</td>\n",
              "    </tr>\n",
              "    <tr>\n",
              "      <th>97</th>\n",
              "      <td>Zega - Sheraton Hyderabad Hotel</td>\n",
              "      <td>1,750</td>\n",
              "      <td>445.0</td>\n",
              "    </tr>\n",
              "    <tr>\n",
              "      <th>64</th>\n",
              "      <td>Over The Moon Brew Company</td>\n",
              "      <td>1,200</td>\n",
              "      <td>434.0</td>\n",
              "    </tr>\n",
              "    <tr>\n",
              "      <th>16</th>\n",
              "      <td>Beyond Flavours</td>\n",
              "      <td>800</td>\n",
              "      <td>428.0</td>\n",
              "    </tr>\n",
              "    <tr>\n",
              "      <th>19</th>\n",
              "      <td>Cascade - Radisson Hyderabad Hitec City</td>\n",
              "      <td>1,800</td>\n",
              "      <td>426.0</td>\n",
              "    </tr>\n",
              "    <tr>\n",
              "      <th>84</th>\n",
              "      <td>The Fisherman's Wharf</td>\n",
              "      <td>1,500</td>\n",
              "      <td>422.0</td>\n",
              "    </tr>\n",
              "    <tr>\n",
              "      <th>34</th>\n",
              "      <td>Feast - Sheraton Hyderabad Hotel</td>\n",
              "      <td>2,500</td>\n",
              "      <td>422.0</td>\n",
              "    </tr>\n",
              "    <tr>\n",
              "      <th>71</th>\n",
              "      <td>Prism Club &amp; Kitchen</td>\n",
              "      <td>1,200</td>\n",
              "      <td>421.5</td>\n",
              "    </tr>\n",
              "    <tr>\n",
              "      <th>58</th>\n",
              "      <td>Mazzo - Marriott Executive Apartments</td>\n",
              "      <td>1,700</td>\n",
              "      <td>419.0</td>\n",
              "    </tr>\n",
              "    <tr>\n",
              "      <th>13</th>\n",
              "      <td>Barbeque Nation</td>\n",
              "      <td>1,600</td>\n",
              "      <td>412.0</td>\n",
              "    </tr>\n",
              "  </tbody>\n",
              "</table>\n",
              "</div>\n",
              "      <button class=\"colab-df-convert\" onclick=\"convertToInteractive('df-d5933137-e03a-4dfe-ba2e-b09d4008053c')\"\n",
              "              title=\"Convert this dataframe to an interactive table.\"\n",
              "              style=\"display:none;\">\n",
              "        \n",
              "  <svg xmlns=\"http://www.w3.org/2000/svg\" height=\"24px\"viewBox=\"0 0 24 24\"\n",
              "       width=\"24px\">\n",
              "    <path d=\"M0 0h24v24H0V0z\" fill=\"none\"/>\n",
              "    <path d=\"M18.56 5.44l.94 2.06.94-2.06 2.06-.94-2.06-.94-.94-2.06-.94 2.06-2.06.94zm-11 1L8.5 8.5l.94-2.06 2.06-.94-2.06-.94L8.5 2.5l-.94 2.06-2.06.94zm10 10l.94 2.06.94-2.06 2.06-.94-2.06-.94-.94-2.06-.94 2.06-2.06.94z\"/><path d=\"M17.41 7.96l-1.37-1.37c-.4-.4-.92-.59-1.43-.59-.52 0-1.04.2-1.43.59L10.3 9.45l-7.72 7.72c-.78.78-.78 2.05 0 2.83L4 21.41c.39.39.9.59 1.41.59.51 0 1.02-.2 1.41-.59l7.78-7.78 2.81-2.81c.8-.78.8-2.07 0-2.86zM5.41 20L4 18.59l7.72-7.72 1.47 1.35L5.41 20z\"/>\n",
              "  </svg>\n",
              "      </button>\n",
              "      \n",
              "  <style>\n",
              "    .colab-df-container {\n",
              "      display:flex;\n",
              "      flex-wrap:wrap;\n",
              "      gap: 12px;\n",
              "    }\n",
              "\n",
              "    .colab-df-convert {\n",
              "      background-color: #E8F0FE;\n",
              "      border: none;\n",
              "      border-radius: 50%;\n",
              "      cursor: pointer;\n",
              "      display: none;\n",
              "      fill: #1967D2;\n",
              "      height: 32px;\n",
              "      padding: 0 0 0 0;\n",
              "      width: 32px;\n",
              "    }\n",
              "\n",
              "    .colab-df-convert:hover {\n",
              "      background-color: #E2EBFA;\n",
              "      box-shadow: 0px 1px 2px rgba(60, 64, 67, 0.3), 0px 1px 3px 1px rgba(60, 64, 67, 0.15);\n",
              "      fill: #174EA6;\n",
              "    }\n",
              "\n",
              "    [theme=dark] .colab-df-convert {\n",
              "      background-color: #3B4455;\n",
              "      fill: #D2E3FC;\n",
              "    }\n",
              "\n",
              "    [theme=dark] .colab-df-convert:hover {\n",
              "      background-color: #434B5C;\n",
              "      box-shadow: 0px 1px 3px 1px rgba(0, 0, 0, 0.15);\n",
              "      filter: drop-shadow(0px 1px 2px rgba(0, 0, 0, 0.3));\n",
              "      fill: #FFFFFF;\n",
              "    }\n",
              "  </style>\n",
              "\n",
              "      <script>\n",
              "        const buttonEl =\n",
              "          document.querySelector('#df-d5933137-e03a-4dfe-ba2e-b09d4008053c button.colab-df-convert');\n",
              "        buttonEl.style.display =\n",
              "          google.colab.kernel.accessAllowed ? 'block' : 'none';\n",
              "\n",
              "        async function convertToInteractive(key) {\n",
              "          const element = document.querySelector('#df-d5933137-e03a-4dfe-ba2e-b09d4008053c');\n",
              "          const dataTable =\n",
              "            await google.colab.kernel.invokeFunction('convertToInteractive',\n",
              "                                                     [key], {});\n",
              "          if (!dataTable) return;\n",
              "\n",
              "          const docLinkHtml = 'Like what you see? Visit the ' +\n",
              "            '<a target=\"_blank\" href=https://colab.research.google.com/notebooks/data_table.ipynb>data table notebook</a>'\n",
              "            + ' to learn more about interactive tables.';\n",
              "          element.innerHTML = '';\n",
              "          dataTable['output_type'] = 'display_data';\n",
              "          await google.colab.output.renderOutput(dataTable, element);\n",
              "          const docLink = document.createElement('div');\n",
              "          docLink.innerHTML = docLinkHtml;\n",
              "          element.appendChild(docLink);\n",
              "        }\n",
              "      </script>\n",
              "    </div>\n",
              "  </div>\n",
              "  "
            ]
          },
          "metadata": {},
          "execution_count": 35
        }
      ],
      "source": [
        "# Chart - 3 visualization code\n",
        "comapre_df= pd.merge(cost,rating , on ='Restaurant',how = 'inner').sort_values(by = 'Rating',ascending = False).iloc[:15]\n",
        "comapre_df"
      ]
    },
    {
      "cell_type": "markdown",
      "metadata": {
        "id": "4Of9eVA-YrdM"
      },
      "source": [
        "#### Chart - 4"
      ]
    },
    {
      "cell_type": "code",
      "execution_count": null,
      "metadata": {
        "id": "WqwPNrbWTbyQ"
      },
      "outputs": [],
      "source": [
        "second_df['Metadata'][8777] = 0,0"
      ]
    },
    {
      "cell_type": "code",
      "execution_count": null,
      "metadata": {
        "colab": {
          "base_uri": "https://localhost:8080/"
        },
        "id": "DGUYzTqZTwks",
        "outputId": "16a78826-1c51-4e2f-b5bd-787b54eff84f"
      },
      "outputs": [
        {
          "output_type": "execute_result",
          "data": {
            "text/plain": [
              "        Restaurant              Reviewer  \\\n",
              "0  Beyond Flavours     Rusha Chakraborty   \n",
              "1  Beyond Flavours  Anusha Tirumalaneedi   \n",
              "2  Beyond Flavours       Ashok Shekhawat   \n",
              "3  Beyond Flavours        Swapnil Sarkar   \n",
              "4  Beyond Flavours                Dileep   \n",
              "\n",
              "                                              Review  Rating  \\\n",
              "0  The ambience was good, food was quite good . h...     5.0   \n",
              "1  Ambience is too good for a pleasant evening. S...     5.0   \n",
              "2  A must try.. great food great ambience. Thnx f...     5.0   \n",
              "3  Soumen das and Arun was a great guy. Only beca...     5.0   \n",
              "4  Food is good.we ordered Kodi drumsticks and ba...     5.0   \n",
              "\n",
              "                  Metadata             Time  Pictures  \n",
              "0   1 Review , 2 Followers  5/25/2019 15:54         0  \n",
              "1  3 Reviews , 2 Followers  5/25/2019 14:20         0  \n",
              "2  2 Reviews , 3 Followers  5/24/2019 22:54         0  \n",
              "3    1 Review , 1 Follower  5/24/2019 22:11         0  \n",
              "4  3 Reviews , 2 Followers  5/24/2019 21:37         0  "
            ],
            "text/html": [
              "\n",
              "  <div id=\"df-cbcec5a6-7697-4052-a827-8aa3a687e6e1\">\n",
              "    <div class=\"colab-df-container\">\n",
              "      <div>\n",
              "<style scoped>\n",
              "    .dataframe tbody tr th:only-of-type {\n",
              "        vertical-align: middle;\n",
              "    }\n",
              "\n",
              "    .dataframe tbody tr th {\n",
              "        vertical-align: top;\n",
              "    }\n",
              "\n",
              "    .dataframe thead th {\n",
              "        text-align: right;\n",
              "    }\n",
              "</style>\n",
              "<table border=\"1\" class=\"dataframe\">\n",
              "  <thead>\n",
              "    <tr style=\"text-align: right;\">\n",
              "      <th></th>\n",
              "      <th>Restaurant</th>\n",
              "      <th>Reviewer</th>\n",
              "      <th>Review</th>\n",
              "      <th>Rating</th>\n",
              "      <th>Metadata</th>\n",
              "      <th>Time</th>\n",
              "      <th>Pictures</th>\n",
              "    </tr>\n",
              "  </thead>\n",
              "  <tbody>\n",
              "    <tr>\n",
              "      <th>0</th>\n",
              "      <td>Beyond Flavours</td>\n",
              "      <td>Rusha Chakraborty</td>\n",
              "      <td>The ambience was good, food was quite good . h...</td>\n",
              "      <td>5.0</td>\n",
              "      <td>1 Review , 2 Followers</td>\n",
              "      <td>5/25/2019 15:54</td>\n",
              "      <td>0</td>\n",
              "    </tr>\n",
              "    <tr>\n",
              "      <th>1</th>\n",
              "      <td>Beyond Flavours</td>\n",
              "      <td>Anusha Tirumalaneedi</td>\n",
              "      <td>Ambience is too good for a pleasant evening. S...</td>\n",
              "      <td>5.0</td>\n",
              "      <td>3 Reviews , 2 Followers</td>\n",
              "      <td>5/25/2019 14:20</td>\n",
              "      <td>0</td>\n",
              "    </tr>\n",
              "    <tr>\n",
              "      <th>2</th>\n",
              "      <td>Beyond Flavours</td>\n",
              "      <td>Ashok Shekhawat</td>\n",
              "      <td>A must try.. great food great ambience. Thnx f...</td>\n",
              "      <td>5.0</td>\n",
              "      <td>2 Reviews , 3 Followers</td>\n",
              "      <td>5/24/2019 22:54</td>\n",
              "      <td>0</td>\n",
              "    </tr>\n",
              "    <tr>\n",
              "      <th>3</th>\n",
              "      <td>Beyond Flavours</td>\n",
              "      <td>Swapnil Sarkar</td>\n",
              "      <td>Soumen das and Arun was a great guy. Only beca...</td>\n",
              "      <td>5.0</td>\n",
              "      <td>1 Review , 1 Follower</td>\n",
              "      <td>5/24/2019 22:11</td>\n",
              "      <td>0</td>\n",
              "    </tr>\n",
              "    <tr>\n",
              "      <th>4</th>\n",
              "      <td>Beyond Flavours</td>\n",
              "      <td>Dileep</td>\n",
              "      <td>Food is good.we ordered Kodi drumsticks and ba...</td>\n",
              "      <td>5.0</td>\n",
              "      <td>3 Reviews , 2 Followers</td>\n",
              "      <td>5/24/2019 21:37</td>\n",
              "      <td>0</td>\n",
              "    </tr>\n",
              "  </tbody>\n",
              "</table>\n",
              "</div>\n",
              "      <button class=\"colab-df-convert\" onclick=\"convertToInteractive('df-cbcec5a6-7697-4052-a827-8aa3a687e6e1')\"\n",
              "              title=\"Convert this dataframe to an interactive table.\"\n",
              "              style=\"display:none;\">\n",
              "        \n",
              "  <svg xmlns=\"http://www.w3.org/2000/svg\" height=\"24px\"viewBox=\"0 0 24 24\"\n",
              "       width=\"24px\">\n",
              "    <path d=\"M0 0h24v24H0V0z\" fill=\"none\"/>\n",
              "    <path d=\"M18.56 5.44l.94 2.06.94-2.06 2.06-.94-2.06-.94-.94-2.06-.94 2.06-2.06.94zm-11 1L8.5 8.5l.94-2.06 2.06-.94-2.06-.94L8.5 2.5l-.94 2.06-2.06.94zm10 10l.94 2.06.94-2.06 2.06-.94-2.06-.94-.94-2.06-.94 2.06-2.06.94z\"/><path d=\"M17.41 7.96l-1.37-1.37c-.4-.4-.92-.59-1.43-.59-.52 0-1.04.2-1.43.59L10.3 9.45l-7.72 7.72c-.78.78-.78 2.05 0 2.83L4 21.41c.39.39.9.59 1.41.59.51 0 1.02-.2 1.41-.59l7.78-7.78 2.81-2.81c.8-.78.8-2.07 0-2.86zM5.41 20L4 18.59l7.72-7.72 1.47 1.35L5.41 20z\"/>\n",
              "  </svg>\n",
              "      </button>\n",
              "      \n",
              "  <style>\n",
              "    .colab-df-container {\n",
              "      display:flex;\n",
              "      flex-wrap:wrap;\n",
              "      gap: 12px;\n",
              "    }\n",
              "\n",
              "    .colab-df-convert {\n",
              "      background-color: #E8F0FE;\n",
              "      border: none;\n",
              "      border-radius: 50%;\n",
              "      cursor: pointer;\n",
              "      display: none;\n",
              "      fill: #1967D2;\n",
              "      height: 32px;\n",
              "      padding: 0 0 0 0;\n",
              "      width: 32px;\n",
              "    }\n",
              "\n",
              "    .colab-df-convert:hover {\n",
              "      background-color: #E2EBFA;\n",
              "      box-shadow: 0px 1px 2px rgba(60, 64, 67, 0.3), 0px 1px 3px 1px rgba(60, 64, 67, 0.15);\n",
              "      fill: #174EA6;\n",
              "    }\n",
              "\n",
              "    [theme=dark] .colab-df-convert {\n",
              "      background-color: #3B4455;\n",
              "      fill: #D2E3FC;\n",
              "    }\n",
              "\n",
              "    [theme=dark] .colab-df-convert:hover {\n",
              "      background-color: #434B5C;\n",
              "      box-shadow: 0px 1px 3px 1px rgba(0, 0, 0, 0.15);\n",
              "      filter: drop-shadow(0px 1px 2px rgba(0, 0, 0, 0.3));\n",
              "      fill: #FFFFFF;\n",
              "    }\n",
              "  </style>\n",
              "\n",
              "      <script>\n",
              "        const buttonEl =\n",
              "          document.querySelector('#df-cbcec5a6-7697-4052-a827-8aa3a687e6e1 button.colab-df-convert');\n",
              "        buttonEl.style.display =\n",
              "          google.colab.kernel.accessAllowed ? 'block' : 'none';\n",
              "\n",
              "        async function convertToInteractive(key) {\n",
              "          const element = document.querySelector('#df-cbcec5a6-7697-4052-a827-8aa3a687e6e1');\n",
              "          const dataTable =\n",
              "            await google.colab.kernel.invokeFunction('convertToInteractive',\n",
              "                                                     [key], {});\n",
              "          if (!dataTable) return;\n",
              "\n",
              "          const docLinkHtml = 'Like what you see? Visit the ' +\n",
              "            '<a target=\"_blank\" href=https://colab.research.google.com/notebooks/data_table.ipynb>data table notebook</a>'\n",
              "            + ' to learn more about interactive tables.';\n",
              "          element.innerHTML = '';\n",
              "          dataTable['output_type'] = 'display_data';\n",
              "          await google.colab.output.renderOutput(dataTable, element);\n",
              "          const docLink = document.createElement('div');\n",
              "          docLink.innerHTML = docLinkHtml;\n",
              "          element.appendChild(docLink);\n",
              "        }\n",
              "      </script>\n",
              "    </div>\n",
              "  </div>\n",
              "  "
            ]
          },
          "metadata": {},
          "execution_count": 37
        }
      ],
      "source": [
        "meta_df = second_df[~second_df['Metadata'].isnull()]\n",
        "meta_df.head()"
      ]
    },
    {
      "cell_type": "code",
      "execution_count": null,
      "metadata": {
        "id": "oxkQJF1cQNcQ"
      },
      "outputs": [],
      "source": [
        "meta_df['interaction'] = meta_df['Metadata'].apply(lambda x : x[0]+x[1])\n",
        "meta_df['interaction'] =meta_df['interaction'].astype(int)"
      ]
    },
    {
      "cell_type": "code",
      "execution_count": null,
      "metadata": {
        "colab": {
          "base_uri": "https://localhost:8080/"
        },
        "id": "irlUoxc8YrdO",
        "outputId": "8a595c4e-fc0e-4847-eb83-ac9973a6b845"
      },
      "outputs": [
        {
          "output_type": "execute_result",
          "data": {
            "text/plain": [
              "0        1\n",
              "1        3\n",
              "2        2\n",
              "3        1\n",
              "4        3\n",
              "        ..\n",
              "9995    53\n",
              "9996     2\n",
              "9997    65\n",
              "9998    13\n",
              "9999    47\n",
              "Name: interaction, Length: 9963, dtype: int64"
            ]
          },
          "metadata": {},
          "execution_count": 39
        }
      ],
      "source": [
        "# Chart - 4 visualization code\n",
        "meta_df['interaction']\n",
        "\n"
      ]
    },
    {
      "cell_type": "markdown",
      "metadata": {
        "id": "bamQiAODYuh1"
      },
      "source": [
        "#### Chart - 5"
      ]
    },
    {
      "cell_type": "code",
      "execution_count": null,
      "metadata": {
        "id": "TIJwrbroYuh3"
      },
      "outputs": [],
      "source": [
        "# Chart - 5 visualization code"
      ]
    },
    {
      "cell_type": "markdown",
      "metadata": {
        "id": "QHF8YVU7Yuh3"
      },
      "source": [
        "##### 1. Why did you pick the specific chart?"
      ]
    },
    {
      "cell_type": "markdown",
      "metadata": {
        "id": "dcxuIMRPYuh3"
      },
      "source": [
        "Answer Here."
      ]
    },
    {
      "cell_type": "markdown",
      "metadata": {
        "id": "GwzvFGzlYuh3"
      },
      "source": [
        "##### 2. What is/are the insight(s) found from the chart?"
      ]
    },
    {
      "cell_type": "markdown",
      "metadata": {
        "id": "uyqkiB8YYuh3"
      },
      "source": [
        "Answer Here"
      ]
    },
    {
      "cell_type": "markdown",
      "metadata": {
        "id": "qYpmQ266Yuh3"
      },
      "source": [
        "##### 3. Will the gained insights help creating a positive business impact?\n",
        "Are there any insights that lead to negative growth? Justify with specific reason."
      ]
    },
    {
      "cell_type": "markdown",
      "metadata": {
        "id": "_WtzZ_hCYuh4"
      },
      "source": [
        "Answer Here"
      ]
    },
    {
      "cell_type": "markdown",
      "metadata": {
        "id": "OH-pJp9IphqM"
      },
      "source": [
        "#### Chart - 6"
      ]
    },
    {
      "cell_type": "code",
      "execution_count": null,
      "metadata": {
        "id": "kuRf4wtuphqN"
      },
      "outputs": [],
      "source": [
        "# Chart - 6 visualization code"
      ]
    },
    {
      "cell_type": "markdown",
      "metadata": {
        "id": "bbFf2-_FphqN"
      },
      "source": [
        "##### 1. Why did you pick the specific chart?"
      ]
    },
    {
      "cell_type": "markdown",
      "metadata": {
        "id": "loh7H2nzphqN"
      },
      "source": [
        "Answer Here."
      ]
    },
    {
      "cell_type": "markdown",
      "metadata": {
        "id": "_ouA3fa0phqN"
      },
      "source": [
        "##### 2. What is/are the insight(s) found from the chart?"
      ]
    },
    {
      "cell_type": "markdown",
      "metadata": {
        "id": "VECbqPI7phqN"
      },
      "source": [
        "Answer Here"
      ]
    },
    {
      "cell_type": "markdown",
      "metadata": {
        "id": "Seke61FWphqN"
      },
      "source": [
        "##### 3. Will the gained insights help creating a positive business impact?\n",
        "Are there any insights that lead to negative growth? Justify with specific reason."
      ]
    },
    {
      "cell_type": "markdown",
      "metadata": {
        "id": "DW4_bGpfphqN"
      },
      "source": [
        "Answer Here"
      ]
    },
    {
      "cell_type": "markdown",
      "metadata": {
        "id": "PIIx-8_IphqN"
      },
      "source": [
        "#### Chart - 7"
      ]
    },
    {
      "cell_type": "code",
      "execution_count": null,
      "metadata": {
        "id": "lqAIGUfyphqO"
      },
      "outputs": [],
      "source": [
        "# Chart - 7 visualization code"
      ]
    },
    {
      "cell_type": "markdown",
      "metadata": {
        "id": "t27r6nlMphqO"
      },
      "source": [
        "##### 1. Why did you pick the specific chart?"
      ]
    },
    {
      "cell_type": "markdown",
      "metadata": {
        "id": "iv6ro40sphqO"
      },
      "source": [
        "Answer Here."
      ]
    },
    {
      "cell_type": "markdown",
      "metadata": {
        "id": "r2jJGEOYphqO"
      },
      "source": [
        "##### 2. What is/are the insight(s) found from the chart?"
      ]
    },
    {
      "cell_type": "markdown",
      "metadata": {
        "id": "Po6ZPi4hphqO"
      },
      "source": [
        "Answer Here"
      ]
    },
    {
      "cell_type": "markdown",
      "metadata": {
        "id": "b0JNsNcRphqO"
      },
      "source": [
        "##### 3. Will the gained insights help creating a positive business impact?\n",
        "Are there any insights that lead to negative growth? Justify with specific reason."
      ]
    },
    {
      "cell_type": "markdown",
      "metadata": {
        "id": "xvSq8iUTphqO"
      },
      "source": [
        "Answer Here"
      ]
    },
    {
      "cell_type": "markdown",
      "metadata": {
        "id": "BZR9WyysphqO"
      },
      "source": [
        "#### Chart - 8"
      ]
    },
    {
      "cell_type": "code",
      "execution_count": null,
      "metadata": {
        "id": "TdPTWpAVphqO"
      },
      "outputs": [],
      "source": [
        "# Chart - 8 visualization code"
      ]
    },
    {
      "cell_type": "markdown",
      "metadata": {
        "id": "jj7wYXLtphqO"
      },
      "source": [
        "##### 1. Why did you pick the specific chart?"
      ]
    },
    {
      "cell_type": "markdown",
      "metadata": {
        "id": "Ob8u6rCTphqO"
      },
      "source": [
        "Answer Here."
      ]
    },
    {
      "cell_type": "markdown",
      "metadata": {
        "id": "eZrbJ2SmphqO"
      },
      "source": [
        "##### 2. What is/are the insight(s) found from the chart?"
      ]
    },
    {
      "cell_type": "markdown",
      "metadata": {
        "id": "mZtgC_hjphqO"
      },
      "source": [
        "Answer Here"
      ]
    },
    {
      "cell_type": "markdown",
      "metadata": {
        "id": "rFu4xreNphqO"
      },
      "source": [
        "##### 3. Will the gained insights help creating a positive business impact?\n",
        "Are there any insights that lead to negative growth? Justify with specific reason."
      ]
    },
    {
      "cell_type": "markdown",
      "metadata": {
        "id": "ey_0qi68phqO"
      },
      "source": [
        "Answer Here"
      ]
    },
    {
      "cell_type": "markdown",
      "metadata": {
        "id": "YJ55k-q6phqO"
      },
      "source": [
        "#### Chart - 9"
      ]
    },
    {
      "cell_type": "code",
      "execution_count": null,
      "metadata": {
        "id": "B2aS4O1ophqO"
      },
      "outputs": [],
      "source": [
        "# Chart - 9 visualization code"
      ]
    },
    {
      "cell_type": "markdown",
      "metadata": {
        "id": "gCFgpxoyphqP"
      },
      "source": [
        "##### 1. Why did you pick the specific chart?"
      ]
    },
    {
      "cell_type": "markdown",
      "metadata": {
        "id": "TVxDimi2phqP"
      },
      "source": [
        "Answer Here."
      ]
    },
    {
      "cell_type": "markdown",
      "metadata": {
        "id": "OVtJsKN_phqQ"
      },
      "source": [
        "##### 2. What is/are the insight(s) found from the chart?"
      ]
    },
    {
      "cell_type": "markdown",
      "metadata": {
        "id": "ngGi97qjphqQ"
      },
      "source": [
        "Answer Here"
      ]
    },
    {
      "cell_type": "markdown",
      "metadata": {
        "id": "lssrdh5qphqQ"
      },
      "source": [
        "##### 3. Will the gained insights help creating a positive business impact?\n",
        "Are there any insights that lead to negative growth? Justify with specific reason."
      ]
    },
    {
      "cell_type": "markdown",
      "metadata": {
        "id": "tBpY5ekJphqQ"
      },
      "source": [
        "Answer Here"
      ]
    },
    {
      "cell_type": "markdown",
      "metadata": {
        "id": "U2RJ9gkRphqQ"
      },
      "source": [
        "#### Chart - 10"
      ]
    },
    {
      "cell_type": "code",
      "execution_count": null,
      "metadata": {
        "id": "GM7a4YP4phqQ"
      },
      "outputs": [],
      "source": [
        "# Chart - 10 visualization code"
      ]
    },
    {
      "cell_type": "markdown",
      "metadata": {
        "id": "1M8mcRywphqQ"
      },
      "source": [
        "##### 1. Why did you pick the specific chart?"
      ]
    },
    {
      "cell_type": "markdown",
      "metadata": {
        "id": "8agQvks0phqQ"
      },
      "source": [
        "Answer Here."
      ]
    },
    {
      "cell_type": "markdown",
      "metadata": {
        "id": "tgIPom80phqQ"
      },
      "source": [
        "##### 2. What is/are the insight(s) found from the chart?"
      ]
    },
    {
      "cell_type": "markdown",
      "metadata": {
        "id": "Qp13pnNzphqQ"
      },
      "source": [
        "Answer Here"
      ]
    },
    {
      "cell_type": "markdown",
      "metadata": {
        "id": "JMzcOPDDphqR"
      },
      "source": [
        "##### 3. Will the gained insights help creating a positive business impact?\n",
        "Are there any insights that lead to negative growth? Justify with specific reason."
      ]
    },
    {
      "cell_type": "markdown",
      "metadata": {
        "id": "R4Ka1PC2phqR"
      },
      "source": [
        "Answer Here"
      ]
    },
    {
      "cell_type": "markdown",
      "metadata": {
        "id": "x-EpHcCOp1ci"
      },
      "source": [
        "#### Chart - 11"
      ]
    },
    {
      "cell_type": "code",
      "execution_count": null,
      "metadata": {
        "id": "mAQTIvtqp1cj"
      },
      "outputs": [],
      "source": [
        "# Chart - 11 visualization code"
      ]
    },
    {
      "cell_type": "markdown",
      "metadata": {
        "id": "X_VqEhTip1ck"
      },
      "source": [
        "##### 1. Why did you pick the specific chart?"
      ]
    },
    {
      "cell_type": "markdown",
      "metadata": {
        "id": "-vsMzt_np1ck"
      },
      "source": [
        "Answer Here."
      ]
    },
    {
      "cell_type": "markdown",
      "metadata": {
        "id": "8zGJKyg5p1ck"
      },
      "source": [
        "##### 2. What is/are the insight(s) found from the chart?"
      ]
    },
    {
      "cell_type": "markdown",
      "metadata": {
        "id": "ZYdMsrqVp1ck"
      },
      "source": [
        "Answer Here"
      ]
    },
    {
      "cell_type": "markdown",
      "metadata": {
        "id": "PVzmfK_Ep1ck"
      },
      "source": [
        "##### 3. Will the gained insights help creating a positive business impact?\n",
        "Are there any insights that lead to negative growth? Justify with specific reason."
      ]
    },
    {
      "cell_type": "markdown",
      "metadata": {
        "id": "druuKYZpp1ck"
      },
      "source": [
        "Answer Here"
      ]
    },
    {
      "cell_type": "markdown",
      "metadata": {
        "id": "n3dbpmDWp1ck"
      },
      "source": [
        "#### Chart - 12"
      ]
    },
    {
      "cell_type": "code",
      "execution_count": null,
      "metadata": {
        "id": "bwevp1tKp1ck"
      },
      "outputs": [],
      "source": [
        "# Chart - 12 visualization code"
      ]
    },
    {
      "cell_type": "markdown",
      "metadata": {
        "id": "ylSl6qgtp1ck"
      },
      "source": [
        "##### 1. Why did you pick the specific chart?"
      ]
    },
    {
      "cell_type": "markdown",
      "metadata": {
        "id": "m2xqNkiQp1ck"
      },
      "source": [
        "Answer Here."
      ]
    },
    {
      "cell_type": "markdown",
      "metadata": {
        "id": "ZWILFDl5p1ck"
      },
      "source": [
        "##### 2. What is/are the insight(s) found from the chart?"
      ]
    },
    {
      "cell_type": "markdown",
      "metadata": {
        "id": "x-lUsV2mp1ck"
      },
      "source": [
        "Answer Here"
      ]
    },
    {
      "cell_type": "markdown",
      "metadata": {
        "id": "M7G43BXep1ck"
      },
      "source": [
        "##### 3. Will the gained insights help creating a positive business impact?\n",
        "Are there any insights that lead to negative growth? Justify with specific reason."
      ]
    },
    {
      "cell_type": "markdown",
      "metadata": {
        "id": "5wwDJXsLp1cl"
      },
      "source": [
        "Answer Here"
      ]
    },
    {
      "cell_type": "markdown",
      "metadata": {
        "id": "Ag9LCva-p1cl"
      },
      "source": [
        "#### Chart - 13"
      ]
    },
    {
      "cell_type": "code",
      "execution_count": null,
      "metadata": {
        "id": "EUfxeq9-p1cl"
      },
      "outputs": [],
      "source": [
        "# Chart - 13 visualization code"
      ]
    },
    {
      "cell_type": "markdown",
      "metadata": {
        "id": "E6MkPsBcp1cl"
      },
      "source": [
        "##### 1. Why did you pick the specific chart?"
      ]
    },
    {
      "cell_type": "markdown",
      "metadata": {
        "id": "V22bRsFWp1cl"
      },
      "source": [
        "Answer Here."
      ]
    },
    {
      "cell_type": "markdown",
      "metadata": {
        "id": "2cELzS2fp1cl"
      },
      "source": [
        "##### 2. What is/are the insight(s) found from the chart?"
      ]
    },
    {
      "cell_type": "markdown",
      "metadata": {
        "id": "ozQPc2_Ip1cl"
      },
      "source": [
        "Answer Here"
      ]
    },
    {
      "cell_type": "markdown",
      "metadata": {
        "id": "3MPXvC8up1cl"
      },
      "source": [
        "##### 3. Will the gained insights help creating a positive business impact?\n",
        "Are there any insights that lead to negative growth? Justify with specific reason."
      ]
    },
    {
      "cell_type": "markdown",
      "metadata": {
        "id": "GL8l1tdLp1cl"
      },
      "source": [
        "Answer Here"
      ]
    },
    {
      "cell_type": "markdown",
      "metadata": {
        "id": "NC_X3p0fY2L0"
      },
      "source": [
        "#### Chart - 14 - Correlation Heatmap"
      ]
    },
    {
      "cell_type": "code",
      "execution_count": null,
      "metadata": {
        "id": "xyC9zolEZNRQ"
      },
      "outputs": [],
      "source": [
        "# Correlation Heatmap visualization code"
      ]
    },
    {
      "cell_type": "markdown",
      "metadata": {
        "id": "UV0SzAkaZNRQ"
      },
      "source": [
        "##### 1. Why did you pick the specific chart?"
      ]
    },
    {
      "cell_type": "markdown",
      "metadata": {
        "id": "DVPuT8LYZNRQ"
      },
      "source": [
        "Answer Here."
      ]
    },
    {
      "cell_type": "markdown",
      "metadata": {
        "id": "YPEH6qLeZNRQ"
      },
      "source": [
        "##### 2. What is/are the insight(s) found from the chart?"
      ]
    },
    {
      "cell_type": "markdown",
      "metadata": {
        "id": "bfSqtnDqZNRR"
      },
      "source": [
        "Answer Here"
      ]
    },
    {
      "cell_type": "markdown",
      "metadata": {
        "id": "q29F0dvdveiT"
      },
      "source": [
        "#### Chart - 15 - Pair Plot"
      ]
    },
    {
      "cell_type": "code",
      "execution_count": null,
      "metadata": {
        "id": "o58-TEIhveiU"
      },
      "outputs": [],
      "source": [
        "# Pair Plot visualization code"
      ]
    },
    {
      "cell_type": "markdown",
      "metadata": {
        "id": "EXh0U9oCveiU"
      },
      "source": [
        "##### 1. Why did you pick the specific chart?"
      ]
    },
    {
      "cell_type": "markdown",
      "metadata": {
        "id": "eMmPjTByveiU"
      },
      "source": [
        "Answer Here."
      ]
    },
    {
      "cell_type": "markdown",
      "metadata": {
        "id": "22aHeOlLveiV"
      },
      "source": [
        "##### 2. What is/are the insight(s) found from the chart?"
      ]
    },
    {
      "cell_type": "markdown",
      "metadata": {
        "id": "uPQ8RGwHveiV"
      },
      "source": [
        "Answer Here"
      ]
    },
    {
      "cell_type": "markdown",
      "metadata": {
        "id": "g-ATYxFrGrvw"
      },
      "source": [
        "## ***5. Hypothesis Testing***"
      ]
    },
    {
      "cell_type": "markdown",
      "metadata": {
        "id": "Yfr_Vlr8HBkt"
      },
      "source": [
        "### Based on your chart experiments, define three hypothetical statements from the dataset. In the next three questions, perform hypothesis testing to obtain final conclusion about the statements through your code and statistical testing."
      ]
    },
    {
      "cell_type": "markdown",
      "metadata": {
        "id": "-7MS06SUHkB-"
      },
      "source": [
        "Answer Here."
      ]
    },
    {
      "cell_type": "markdown",
      "metadata": {
        "id": "8yEUt7NnHlrM"
      },
      "source": [
        "### Hypothetical Statement - 1"
      ]
    },
    {
      "cell_type": "markdown",
      "metadata": {
        "id": "tEA2Xm5dHt1r"
      },
      "source": [
        "#### 1. State Your research hypothesis as a null hypothesis and alternate hypothesis."
      ]
    },
    {
      "cell_type": "markdown",
      "metadata": {
        "id": "HI9ZP0laH0D-"
      },
      "source": [
        "Answer Here."
      ]
    },
    {
      "cell_type": "markdown",
      "metadata": {
        "id": "I79__PHVH19G"
      },
      "source": [
        "#### 2. Perform an appropriate statistical test."
      ]
    },
    {
      "cell_type": "code",
      "execution_count": null,
      "metadata": {
        "id": "oZrfquKtyian"
      },
      "outputs": [],
      "source": [
        "# Perform Statistical Test to obtain P-Value"
      ]
    },
    {
      "cell_type": "markdown",
      "metadata": {
        "id": "Ou-I18pAyIpj"
      },
      "source": [
        "##### Which statistical test have you done to obtain P-Value?"
      ]
    },
    {
      "cell_type": "markdown",
      "metadata": {
        "id": "s2U0kk00ygSB"
      },
      "source": [
        "Answer Here."
      ]
    },
    {
      "cell_type": "markdown",
      "metadata": {
        "id": "fF3858GYyt-u"
      },
      "source": [
        "##### Why did you choose the specific statistical test?"
      ]
    },
    {
      "cell_type": "markdown",
      "metadata": {
        "id": "HO4K0gP5y3B4"
      },
      "source": [
        "Answer Here."
      ]
    },
    {
      "cell_type": "markdown",
      "metadata": {
        "id": "4_0_7-oCpUZd"
      },
      "source": [
        "### Hypothetical Statement - 2"
      ]
    },
    {
      "cell_type": "markdown",
      "metadata": {
        "id": "hwyV_J3ipUZe"
      },
      "source": [
        "#### 1. State Your research hypothesis as a null hypothesis and alternate hypothesis."
      ]
    },
    {
      "cell_type": "markdown",
      "metadata": {
        "id": "FnpLGJ-4pUZe"
      },
      "source": [
        "Answer Here."
      ]
    },
    {
      "cell_type": "markdown",
      "metadata": {
        "id": "3yB-zSqbpUZe"
      },
      "source": [
        "#### 2. Perform an appropriate statistical test."
      ]
    },
    {
      "cell_type": "code",
      "execution_count": null,
      "metadata": {
        "id": "sWxdNTXNpUZe"
      },
      "outputs": [],
      "source": [
        "# Perform Statistical Test to obtain P-Value"
      ]
    },
    {
      "cell_type": "markdown",
      "metadata": {
        "id": "dEUvejAfpUZe"
      },
      "source": [
        "##### Which statistical test have you done to obtain P-Value?"
      ]
    },
    {
      "cell_type": "markdown",
      "metadata": {
        "id": "oLDrPz7HpUZf"
      },
      "source": [
        "Answer Here."
      ]
    },
    {
      "cell_type": "markdown",
      "metadata": {
        "id": "Fd15vwWVpUZf"
      },
      "source": [
        "##### Why did you choose the specific statistical test?"
      ]
    },
    {
      "cell_type": "markdown",
      "metadata": {
        "id": "4xOGYyiBpUZf"
      },
      "source": [
        "Answer Here."
      ]
    },
    {
      "cell_type": "markdown",
      "metadata": {
        "id": "bn_IUdTipZyH"
      },
      "source": [
        "### Hypothetical Statement - 3"
      ]
    },
    {
      "cell_type": "markdown",
      "metadata": {
        "id": "49K5P_iCpZyH"
      },
      "source": [
        "#### 1. State Your research hypothesis as a null hypothesis and alternate hypothesis."
      ]
    },
    {
      "cell_type": "markdown",
      "metadata": {
        "id": "7gWI5rT9pZyH"
      },
      "source": [
        "Answer Here."
      ]
    },
    {
      "cell_type": "markdown",
      "metadata": {
        "id": "Nff-vKELpZyI"
      },
      "source": [
        "#### 2. Perform an appropriate statistical test."
      ]
    },
    {
      "cell_type": "code",
      "execution_count": null,
      "metadata": {
        "id": "s6AnJQjtpZyI"
      },
      "outputs": [],
      "source": [
        "# Perform Statistical Test to obtain P-Value"
      ]
    },
    {
      "cell_type": "markdown",
      "metadata": {
        "id": "kLW572S8pZyI"
      },
      "source": [
        "##### Which statistical test have you done to obtain P-Value?"
      ]
    },
    {
      "cell_type": "markdown",
      "metadata": {
        "id": "ytWJ8v15pZyI"
      },
      "source": [
        "Answer Here."
      ]
    },
    {
      "cell_type": "markdown",
      "metadata": {
        "id": "dWbDXHzopZyI"
      },
      "source": [
        "##### Why did you choose the specific statistical test?"
      ]
    },
    {
      "cell_type": "markdown",
      "metadata": {
        "id": "M99G98V6pZyI"
      },
      "source": [
        "Answer Here."
      ]
    },
    {
      "cell_type": "markdown",
      "metadata": {
        "id": "yLjJCtPM0KBk"
      },
      "source": [
        "## ***6. Feature Engineering & Data Pre-processing***"
      ]
    },
    {
      "cell_type": "markdown",
      "metadata": {
        "id": "xiyOF9F70UgQ"
      },
      "source": [
        "### 1. Handling Missing Values"
      ]
    },
    {
      "cell_type": "code",
      "execution_count": null,
      "metadata": {
        "colab": {
          "base_uri": "https://localhost:8080/"
        },
        "id": "iRsAHk1K0fpS",
        "outputId": "b12b45c8-03e8-420a-b313-b203375c0085"
      },
      "outputs": [
        {
          "output_type": "execute_result",
          "data": {
            "text/plain": [
              "Name            0.00\n",
              "Links           0.00\n",
              "Cost            0.00\n",
              "Collections    51.43\n",
              "Cuisines        0.00\n",
              "Timings         0.95\n",
              "dtype: float64"
            ]
          },
          "metadata": {},
          "execution_count": 54
        }
      ],
      "source": [
        "# Handling Missing Values & Missing Value Imputation\n",
        "(first_df.isnull().sum()/len(first_df['Collections'])*100).round(2)"
      ]
    },
    {
      "cell_type": "code",
      "execution_count": null,
      "metadata": {
        "id": "U1oUFgnvqObj"
      },
      "outputs": [],
      "source": [
        "first_df.fillna(' ',inplace = True)"
      ]
    },
    {
      "cell_type": "code",
      "execution_count": null,
      "metadata": {
        "colab": {
          "base_uri": "https://localhost:8080/"
        },
        "id": "lxSP82RTSxP4",
        "outputId": "bd79dc4b-6915-4942-f00d-337e5fcddd44"
      },
      "outputs": [
        {
          "output_type": "execute_result",
          "data": {
            "text/plain": [
              "Restaurant    0.0000\n",
              "Reviewer      0.0038\n",
              "Review        0.0045\n",
              "Rating        0.0038\n",
              "Metadata      0.0037\n",
              "Time          0.0038\n",
              "Pictures      0.0000\n",
              "dtype: float64"
            ]
          },
          "metadata": {},
          "execution_count": 56
        }
      ],
      "source": [
        "(second_df.isnull().sum()/len(second_df['Metadata']))"
      ]
    },
    {
      "cell_type": "code",
      "execution_count": null,
      "metadata": {
        "id": "Ymy-gH0n6_Be"
      },
      "outputs": [],
      "source": [
        "second_df.dropna(inplace = True)"
      ]
    },
    {
      "cell_type": "markdown",
      "metadata": {
        "id": "7wuGOrhz0itI"
      },
      "source": [
        "#### What all missing value imputation techniques have you used and why did you use those techniques?"
      ]
    },
    {
      "cell_type": "markdown",
      "metadata": {
        "id": "1ixusLtI0pqI"
      },
      "source": [
        "Answer Here."
      ]
    },
    {
      "cell_type": "markdown",
      "metadata": {
        "id": "id1riN9m0vUs"
      },
      "source": [
        "### 2. Handling Outliers"
      ]
    },
    {
      "cell_type": "code",
      "execution_count": null,
      "metadata": {
        "id": "M6w2CzZf04JK"
      },
      "outputs": [],
      "source": [
        "# Handling Outliers & Outlier treatments\n"
      ]
    },
    {
      "cell_type": "markdown",
      "metadata": {
        "id": "578E2V7j08f6"
      },
      "source": [
        "##### What all outlier treatment techniques have you used and why did you use those techniques?"
      ]
    },
    {
      "cell_type": "markdown",
      "metadata": {
        "id": "uGZz5OrT1HH-"
      },
      "source": [
        "Answer Here."
      ]
    },
    {
      "cell_type": "markdown",
      "metadata": {
        "id": "89xtkJwZ18nB"
      },
      "source": [
        "### 3. Categorical Encoding"
      ]
    },
    {
      "cell_type": "code",
      "execution_count": null,
      "metadata": {
        "id": "21JmIYMG2hEo"
      },
      "outputs": [],
      "source": [
        "# Encode your categorical columns"
      ]
    },
    {
      "cell_type": "markdown",
      "metadata": {
        "id": "67NQN5KX2AMe"
      },
      "source": [
        "#### What all categorical encoding techniques have you used & why did you use those techniques?"
      ]
    },
    {
      "cell_type": "markdown",
      "metadata": {
        "id": "UDaue5h32n_G"
      },
      "source": [
        "Answer Here."
      ]
    },
    {
      "cell_type": "markdown",
      "metadata": {
        "id": "Iwf50b-R2tYG"
      },
      "source": [
        "### 4. Textual Data Preprocessing for Content Based Filtering\n",
        "(It's mandatory for textual dataset i.e., NLP, Sentiment Analysis, Text Clustering etc.)"
      ]
    },
    {
      "cell_type": "code",
      "execution_count": null,
      "metadata": {
        "id": "dIPVzG-jnqdn"
      },
      "outputs": [],
      "source": [
        "def natural_language_processing(text):\n",
        "    # Fix contractions\n",
        "    first = contractions.fix(text)\n",
        "\n",
        "    # Remove URLs\n",
        "    without_urls = re.sub(r'http\\S+|www\\S+', '', first)\n",
        "\n",
        "    # Convert to lowercase\n",
        "    second = without_urls.lower()\n",
        "\n",
        "    # Remove punctuation\n",
        "    punct = set(string.punctuation)\n",
        "    third = ''.join([i for i in second if i not in punct])\n",
        "\n",
        "    # Remove white spaces\n",
        "    fourth = re.sub('\\s+', ' ', third).strip()\n",
        "\n",
        "    # Remove stopwords\n",
        "    stop = set(stopwords.words('english'))\n",
        "    fifth = ' '.join([i for i in fourth.split() if i not in stop])\n",
        "\n",
        "    # Tokenize words\n",
        "    word_tokens = word_tokenize(fifth)\n",
        "\n",
        "    # Replace words with synonyms\n",
        "    rephrased_sentence = []\n",
        "    for word in word_tokens:\n",
        "        synonyms = wordnet.synsets(word)\n",
        "        if len(synonyms) > 0:\n",
        "            wor = synonyms[0].lemmas()[0].name()\n",
        "        else:\n",
        "            wor = word\n",
        "        rephrased_sentence.append(wor)\n",
        "\n",
        "    # Join rephrased words\n",
        "    sixth = ' '.join(rephrased_sentence)\n",
        "\n",
        "    # Tokenize words again\n",
        "    seventh = word_tokenize(sixth)\n",
        "\n",
        "    # Lemmatize words\n",
        "    lemmatizer = WordNetLemmatizer()\n",
        "    eighth = ' '.join([lemmatizer.lemmatize(i) for i in seventh])\n",
        "\n",
        "    return eighth\n"
      ]
    },
    {
      "cell_type": "markdown",
      "metadata": {
        "id": "F5pb-sd8oe_0"
      },
      "source": [
        "#### **Beginning of the Conten based filtering**"
      ]
    },
    {
      "cell_type": "code",
      "execution_count": null,
      "metadata": {
        "id": "dADxosdAorkw"
      },
      "outputs": [],
      "source": [
        "first_df['tags'] = first_df['Links'] + first_df['Collections'] + first_df['Cuisines']"
      ]
    },
    {
      "cell_type": "code",
      "execution_count": null,
      "metadata": {
        "id": "CMcvOcJ9o_IP"
      },
      "outputs": [],
      "source": [
        "first_df['new_tags'] = first_df['tags'].apply(natural_language_processing)"
      ]
    },
    {
      "cell_type": "markdown",
      "metadata": {
        "id": "T0VqWOYE6DLQ"
      },
      "source": [
        "#### 10. Text Vectorization"
      ]
    },
    {
      "cell_type": "code",
      "execution_count": null,
      "metadata": {
        "id": "yBRtdhth6JDE"
      },
      "outputs": [],
      "source": [
        "# Vectorizing Text\n",
        "tfidf = TfidfVectorizer()\n",
        "hotel_bag_tf=tfidf.fit_transform(first_df['new_tags'].values).toarray()"
      ]
    },
    {
      "cell_type": "code",
      "execution_count": null,
      "metadata": {
        "colab": {
          "base_uri": "https://localhost:8080/"
        },
        "id": "hUiiE-li42qy",
        "outputId": "9eb375cb-c8ed-4902-b369-63fcda91331f"
      },
      "outputs": [
        {
          "output_type": "execute_result",
          "data": {
            "text/plain": [
              "(105, 135)"
            ]
          },
          "metadata": {},
          "execution_count": 64
        }
      ],
      "source": [
        "hotel_bag_tf.shape"
      ]
    },
    {
      "cell_type": "code",
      "execution_count": null,
      "metadata": {
        "colab": {
          "base_uri": "https://localhost:8080/"
        },
        "id": "MFc6ZHzNr9Ye",
        "outputId": "107f3cf3-9ee3-46ba-d88a-77ef12456aab"
      },
      "outputs": [
        {
          "output_type": "execute_result",
          "data": {
            "text/plain": [
              "(15, 135)"
            ]
          },
          "metadata": {},
          "execution_count": 65
        }
      ],
      "source": [
        "words=hotel_bag_tf.sum(axis = 0)\n",
        "high_word =sorted(words,reverse =  True)\n",
        "\n",
        "index_wor= np.flip(np.argsort(words))[:15]\n",
        "index_wor\n",
        "res_array=np.zeros([index_wor.shape[0],words.shape[0]])\n",
        "res_array.shape"
      ]
    },
    {
      "cell_type": "code",
      "execution_count": null,
      "metadata": {
        "colab": {
          "base_uri": "https://localhost:8080/"
        },
        "id": "jDufXgym44dz",
        "outputId": "20279403-db45-4fe1-c5b3-ccc540548f38"
      },
      "outputs": [
        {
          "output_type": "execute_result",
          "data": {
            "text/plain": [
              "[array(['indian'], dtype='<U19'),\n",
              " array(['north'], dtype='<U19'),\n",
              " array(['chinese'], dtype='<U19'),\n",
              " array(['food'], dtype='<U19'),\n",
              " array(['biryani'], dtype='<U19'),\n",
              " array(['fast'], dtype='<U19'),\n",
              " array(['continental'], dtype='<U19'),\n",
              " array(['asian'], dtype='<U19'),\n",
              " array(['dessert'], dtype='<U19'),\n",
              " array(['italian'], dtype='<U19'),\n",
              " array(['mughlai'], dtype='<U19'),\n",
              " array(['south'], dtype='<U19'),\n",
              " array(['bakery'], dtype='<U19'),\n",
              " array(['cafe'], dtype='<U19'),\n",
              " array(['andhra'], dtype='<U19')]"
            ]
          },
          "metadata": {},
          "execution_count": 66
        }
      ],
      "source": [
        "for i,j in enumerate(index_wor):\n",
        "  res_array[i,j] = 1\n",
        "high_freq_words=tfidf.inverse_transform(res_array)\n",
        "high_freq_words"
      ]
    },
    {
      "cell_type": "code",
      "execution_count": null,
      "metadata": {
        "colab": {
          "base_uri": "https://localhost:8080/"
        },
        "id": "PW7VcZg94_lx",
        "outputId": "19a6b275-0e24-4dd1-cdfc-8276a08b5fcc"
      },
      "outputs": [
        {
          "output_type": "execute_result",
          "data": {
            "text/plain": [
              "<matplotlib.image.AxesImage at 0x7f02c7804940>"
            ]
          },
          "metadata": {},
          "execution_count": 67
        },
        {
          "output_type": "display_data",
          "data": {
            "text/plain": [
              "<Figure size 640x480 with 1 Axes>"
            ],
            "image/png": "[encoded data removed]"
          },
          "metadata": {}
        }
      ],
      "source": [
        "from wordcloud import WordCloud, STOPWORDS\n",
        "wordcloud=WordCloud().generate(' '.join([i[0] for i in high_freq_words]))\n",
        "plt.imshow(wordcloud)"
      ]
    },
    {
      "cell_type": "markdown",
      "metadata": {
        "id": "qBMux9mC6MCf"
      },
      "source": [
        "##### Which text vectorization technique have you used and why?"
      ]
    },
    {
      "cell_type": "markdown",
      "metadata": {
        "id": "su2EnbCh6UKQ"
      },
      "source": [
        "Answer Here."
      ]
    },
    {
      "cell_type": "code",
      "execution_count": null,
      "metadata": {
        "id": "RkHzZr8z5h_p"
      },
      "outputs": [],
      "source": []
    },
    {
      "cell_type": "markdown",
      "metadata": {
        "id": "7NyAzDLA5ij4"
      },
      "source": [
        "### 5. Textual Data Preprocessing for Sentiment Analysis\n",
        "(It's mandatory for textual dataset i.e., NLP, Sentiment Analysis, Text Clustering etc.)"
      ]
    },
    {
      "cell_type": "code",
      "execution_count": null,
      "metadata": {
        "id": "FkQwsZR75ij5"
      },
      "outputs": [],
      "source": [
        "def natural_language_processing(text):\n",
        "\n",
        "    # Fix contractions\n",
        "    first = contractions.fix(text)\n",
        "\n",
        "    # Remove URLs\n",
        "    without_urls = re.sub(r'http\\S+|www\\S+', '', first)\n",
        "\n",
        "    # Convert to lowercase\n",
        "    second = without_urls.lower()\n",
        "\n",
        "    # Remove punctuation\n",
        "    punct = set(string.punctuation)\n",
        "    third = ''.join([i for i in second if i not in punct])\n",
        "\n",
        "    # Remove white spaces\n",
        "    fourth = re.sub('\\s+', ' ', third).strip()\n",
        "\n",
        "    # Remove stopwords\n",
        "    stop = set(stopwords.words('english'))\n",
        "    fifth = ' '.join([i for i in fourth.split() if i not in stop])\n",
        "\n",
        "    # Tokenize words\n",
        "    word_tokens = word_tokenize(fifth)\n",
        "\n",
        "    # Replace words with synonyms\n",
        "    rephrased_sentence = []\n",
        "    for word in word_tokens:\n",
        "        synonyms = wordnet.synsets(word)\n",
        "        if len(synonyms) > 0:\n",
        "            wor = synonyms[0].lemmas()[0].name()\n",
        "        else:\n",
        "            wor = word\n",
        "        rephrased_sentence.append(wor)\n",
        "\n",
        "    # Join rephrased words\n",
        "    sixth = ' '.join(rephrased_sentence)\n",
        "\n",
        "    # Tokenize words again\n",
        "    seventh = word_tokenize(sixth)\n",
        "\n",
        "    # Lemmatize words\n",
        "    lemmatizer = WordNetLemmatizer()\n",
        "    eighth = ' '.join([lemmatizer.lemmatize(i) for i in seventh])\n",
        "\n",
        "    return eighth\n"
      ]
    },
    {
      "cell_type": "markdown",
      "metadata": {
        "id": "8A0DLFfp5ij6"
      },
      "source": [
        "#### **Beginning of the Sentiment Analysis**"
      ]
    },
    {
      "cell_type": "code",
      "execution_count": null,
      "metadata": {
        "colab": {
          "base_uri": "https://localhost:8080/",
          "height": 206
        },
        "id": "EtEqXXZr6KVn",
        "outputId": "eb935e89-4777-42b7-c990-724c64150012"
      },
      "outputs": [
        {
          "output_type": "execute_result",
          "data": {
            "text/plain": [
              "        Restaurant              Reviewer  \\\n",
              "0  Beyond Flavours     Rusha Chakraborty   \n",
              "1  Beyond Flavours  Anusha Tirumalaneedi   \n",
              "2  Beyond Flavours       Ashok Shekhawat   \n",
              "3  Beyond Flavours        Swapnil Sarkar   \n",
              "4  Beyond Flavours                Dileep   \n",
              "\n",
              "                                              Review  Rating  \\\n",
              "0  The ambience was good, food was quite good . h...     5.0   \n",
              "1  Ambience is too good for a pleasant evening. S...     5.0   \n",
              "2  A must try.. great food great ambience. Thnx f...     5.0   \n",
              "3  Soumen das and Arun was a great guy. Only beca...     5.0   \n",
              "4  Food is good.we ordered Kodi drumsticks and ba...     5.0   \n",
              "\n",
              "                  Metadata             Time  Pictures  \n",
              "0   1 Review , 2 Followers  5/25/2019 15:54         0  \n",
              "1  3 Reviews , 2 Followers  5/25/2019 14:20         0  \n",
              "2  2 Reviews , 3 Followers  5/24/2019 22:54         0  \n",
              "3    1 Review , 1 Follower  5/24/2019 22:11         0  \n",
              "4  3 Reviews , 2 Followers  5/24/2019 21:37         0  "
            ],
            "text/html": [
              "\n",
              "  <div id=\"df-e0d45cfe-8b77-416b-89a3-3ff0c76cf43a\">\n",
              "    <div class=\"colab-df-container\">\n",
              "      <div>\n",
              "<style scoped>\n",
              "    .dataframe tbody tr th:only-of-type {\n",
              "        vertical-align: middle;\n",
              "    }\n",
              "\n",
              "    .dataframe tbody tr th {\n",
              "        vertical-align: top;\n",
              "    }\n",
              "\n",
              "    .dataframe thead th {\n",
              "        text-align: right;\n",
              "    }\n",
              "</style>\n",
              "<table border=\"1\" class=\"dataframe\">\n",
              "  <thead>\n",
              "    <tr style=\"text-align: right;\">\n",
              "      <th></th>\n",
              "      <th>Restaurant</th>\n",
              "      <th>Reviewer</th>\n",
              "      <th>Review</th>\n",
              "      <th>Rating</th>\n",
              "      <th>Metadata</th>\n",
              "      <th>Time</th>\n",
              "      <th>Pictures</th>\n",
              "    </tr>\n",
              "  </thead>\n",
              "  <tbody>\n",
              "    <tr>\n",
              "      <th>0</th>\n",
              "      <td>Beyond Flavours</td>\n",
              "      <td>Rusha Chakraborty</td>\n",
              "      <td>The ambience was good, food was quite good . h...</td>\n",
              "      <td>5.0</td>\n",
              "      <td>1 Review , 2 Followers</td>\n",
              "      <td>5/25/2019 15:54</td>\n",
              "      <td>0</td>\n",
              "    </tr>\n",
              "    <tr>\n",
              "      <th>1</th>\n",
              "      <td>Beyond Flavours</td>\n",
              "      <td>Anusha Tirumalaneedi</td>\n",
              "      <td>Ambience is too good for a pleasant evening. S...</td>\n",
              "      <td>5.0</td>\n",
              "      <td>3 Reviews , 2 Followers</td>\n",
              "      <td>5/25/2019 14:20</td>\n",
              "      <td>0</td>\n",
              "    </tr>\n",
              "    <tr>\n",
              "      <th>2</th>\n",
              "      <td>Beyond Flavours</td>\n",
              "      <td>Ashok Shekhawat</td>\n",
              "      <td>A must try.. great food great ambience. Thnx f...</td>\n",
              "      <td>5.0</td>\n",
              "      <td>2 Reviews , 3 Followers</td>\n",
              "      <td>5/24/2019 22:54</td>\n",
              "      <td>0</td>\n",
              "    </tr>\n",
              "    <tr>\n",
              "      <th>3</th>\n",
              "      <td>Beyond Flavours</td>\n",
              "      <td>Swapnil Sarkar</td>\n",
              "      <td>Soumen das and Arun was a great guy. Only beca...</td>\n",
              "      <td>5.0</td>\n",
              "      <td>1 Review , 1 Follower</td>\n",
              "      <td>5/24/2019 22:11</td>\n",
              "      <td>0</td>\n",
              "    </tr>\n",
              "    <tr>\n",
              "      <th>4</th>\n",
              "      <td>Beyond Flavours</td>\n",
              "      <td>Dileep</td>\n",
              "      <td>Food is good.we ordered Kodi drumsticks and ba...</td>\n",
              "      <td>5.0</td>\n",
              "      <td>3 Reviews , 2 Followers</td>\n",
              "      <td>5/24/2019 21:37</td>\n",
              "      <td>0</td>\n",
              "    </tr>\n",
              "  </tbody>\n",
              "</table>\n",
              "</div>\n",
              "      <button class=\"colab-df-convert\" onclick=\"convertToInteractive('df-e0d45cfe-8b77-416b-89a3-3ff0c76cf43a')\"\n",
              "              title=\"Convert this dataframe to an interactive table.\"\n",
              "              style=\"display:none;\">\n",
              "        \n",
              "  <svg xmlns=\"http://www.w3.org/2000/svg\" height=\"24px\"viewBox=\"0 0 24 24\"\n",
              "       width=\"24px\">\n",
              "    <path d=\"M0 0h24v24H0V0z\" fill=\"none\"/>\n",
              "    <path d=\"M18.56 5.44l.94 2.06.94-2.06 2.06-.94-2.06-.94-.94-2.06-.94 2.06-2.06.94zm-11 1L8.5 8.5l.94-2.06 2.06-.94-2.06-.94L8.5 2.5l-.94 2.06-2.06.94zm10 10l.94 2.06.94-2.06 2.06-.94-2.06-.94-.94-2.06-.94 2.06-2.06.94z\"/><path d=\"M17.41 7.96l-1.37-1.37c-.4-.4-.92-.59-1.43-.59-.52 0-1.04.2-1.43.59L10.3 9.45l-7.72 7.72c-.78.78-.78 2.05 0 2.83L4 21.41c.39.39.9.59 1.41.59.51 0 1.02-.2 1.41-.59l7.78-7.78 2.81-2.81c.8-.78.8-2.07 0-2.86zM5.41 20L4 18.59l7.72-7.72 1.47 1.35L5.41 20z\"/>\n",
              "  </svg>\n",
              "      </button>\n",
              "      \n",
              "  <style>\n",
              "    .colab-df-container {\n",
              "      display:flex;\n",
              "      flex-wrap:wrap;\n",
              "      gap: 12px;\n",
              "    }\n",
              "\n",
              "    .colab-df-convert {\n",
              "      background-color: #E8F0FE;\n",
              "      border: none;\n",
              "      border-radius: 50%;\n",
              "      cursor: pointer;\n",
              "      display: none;\n",
              "      fill: #1967D2;\n",
              "      height: 32px;\n",
              "      padding: 0 0 0 0;\n",
              "      width: 32px;\n",
              "    }\n",
              "\n",
              "    .colab-df-convert:hover {\n",
              "      background-color: #E2EBFA;\n",
              "      box-shadow: 0px 1px 2px rgba(60, 64, 67, 0.3), 0px 1px 3px 1px rgba(60, 64, 67, 0.15);\n",
              "      fill: #174EA6;\n",
              "    }\n",
              "\n",
              "    [theme=dark] .colab-df-convert {\n",
              "      background-color: #3B4455;\n",
              "      fill: #D2E3FC;\n",
              "    }\n",
              "\n",
              "    [theme=dark] .colab-df-convert:hover {\n",
              "      background-color: #434B5C;\n",
              "      box-shadow: 0px 1px 3px 1px rgba(0, 0, 0, 0.15);\n",
              "      filter: drop-shadow(0px 1px 2px rgba(0, 0, 0, 0.3));\n",
              "      fill: #FFFFFF;\n",
              "    }\n",
              "  </style>\n",
              "\n",
              "      <script>\n",
              "        const buttonEl =\n",
              "          document.querySelector('#df-e0d45cfe-8b77-416b-89a3-3ff0c76cf43a button.colab-df-convert');\n",
              "        buttonEl.style.display =\n",
              "          google.colab.kernel.accessAllowed ? 'block' : 'none';\n",
              "\n",
              "        async function convertToInteractive(key) {\n",
              "          const element = document.querySelector('#df-e0d45cfe-8b77-416b-89a3-3ff0c76cf43a');\n",
              "          const dataTable =\n",
              "            await google.colab.kernel.invokeFunction('convertToInteractive',\n",
              "                                                     [key], {});\n",
              "          if (!dataTable) return;\n",
              "\n",
              "          const docLinkHtml = 'Like what you see? Visit the ' +\n",
              "            '<a target=\"_blank\" href=https://colab.research.google.com/notebooks/data_table.ipynb>data table notebook</a>'\n",
              "            + ' to learn more about interactive tables.';\n",
              "          element.innerHTML = '';\n",
              "          dataTable['output_type'] = 'display_data';\n",
              "          await google.colab.output.renderOutput(dataTable, element);\n",
              "          const docLink = document.createElement('div');\n",
              "          docLink.innerHTML = docLinkHtml;\n",
              "          element.appendChild(docLink);\n",
              "        }\n",
              "      </script>\n",
              "    </div>\n",
              "  </div>\n",
              "  "
            ]
          },
          "metadata": {},
          "execution_count": 69
        }
      ],
      "source": [
        "second_df.head()"
      ]
    },
    {
      "cell_type": "code",
      "execution_count": null,
      "metadata": {
        "id": "6vtuSFwE5ij6"
      },
      "outputs": [],
      "source": [
        "second_df['tags'] = second_df['Review'].apply(natural_language_processing)"
      ]
    },
    {
      "cell_type": "code",
      "execution_count": null,
      "metadata": {
        "colab": {
          "base_uri": "https://localhost:8080/"
        },
        "id": "hi34KfhE7KZk",
        "outputId": "b3ef83f1-368a-4568-e389-6a75d89b11e6"
      },
      "outputs": [
        {
          "output_type": "execute_result",
          "data": {
            "text/plain": [
              "array(['atmosphere good food quite good Saturday lunch cost effective good topographic_point satiate brunch one besides chill friend parent waiter soumen hyrax truly courteous helpful',\n",
              "       'atmosphere good pleasant evening service prompt food good good experience soumen hyrax praise service',\n",
              "       'must attempt great food great atmosphere thnx service pradeep subroto personal recommendation penne alfredo pasta besides music background amaze',\n",
              "       ...,\n",
              "       'bad evaluation chiefly chicken bone found vegetable food acceptable vegetarian satiate craving Chinese food head Chinese pavilion besides voucher available little app lunch tray roentgen 310 vegetable well fuss voucher monetary_value vegetable lunch tray roentgen 275 tax restaurant atmosphere decent since noon many table busy pretty quite thrusday special vegetable hot sour soup Oklahoma well sprout crunchy mouth something different kimchi salad personally never affectionate potato plum sauce good well make brocolli baby corn mushroom piquant sauce dish populate name piquant fine fry rice vegetable Hakka noodle good vegetable fry rice overall food taste good piece chicken bone come friend pure vegetarian mouth eating noodle disappointment complete experience destroy well management apologize surely can not put_option thing correct offer exploitation coupon surely privation visit topographic_point request see kitchen truly segregate pan vegnonveg cooking director worsen brand believe staff service fine truly need better segregation vegetable nonveg Indian culture mean batch upload photograph bone found',\n",
              "       'personally love prefer Chinese food couple time husband atmosphere topographic_point good entrance carving wall nicely decorate waiter polite semen food topographic_point disappointthis smallcomfy restaurant surprisingly herd evening weekend travel anniversary celebration perfective crowd get attention service look',\n",
              "       'check attempt Delicious Chinese food see nonveg lunch tray menu autonomic_nervous_system try charge three_hundred tax get_down manchow soup wish immediately thereafter lunch tray come pepper chicken starter kimchi salad wolly chicken egg fry rice egg Hakka noodle taste fine wish eating egg Hakka noodle egg fry rice time badly miss dessert along tray dnt mind supernumerary monetary_value value money fine atmosphere'],\n",
              "      dtype=object)"
            ]
          },
          "metadata": {},
          "execution_count": 71
        }
      ],
      "source": [
        "second_df['tags'].values"
      ]
    },
    {
      "cell_type": "markdown",
      "metadata": {
        "id": "UJFKdySQ5ij7"
      },
      "source": [
        "#### 10. Text Vectorization"
      ]
    },
    {
      "cell_type": "code",
      "execution_count": null,
      "metadata": {
        "id": "Mpf0pFST5ij8"
      },
      "outputs": [],
      "source": [
        "# Vectorizing Text\n",
        "tfidf2 = TfidfVectorizer()\n",
        "sentiment_bag=tfidf2.fit_transform(second_df['tags'].values).toarray()"
      ]
    },
    {
      "cell_type": "code",
      "execution_count": null,
      "metadata": {
        "colab": {
          "base_uri": "https://localhost:8080/"
        },
        "id": "8jfj6g3l5ij8",
        "outputId": "6cad49c8-0e4f-40d5-e52f-776457be9e10"
      },
      "outputs": [
        {
          "output_type": "execute_result",
          "data": {
            "text/plain": [
              "(9955, 15439)"
            ]
          },
          "metadata": {},
          "execution_count": 73
        }
      ],
      "source": [
        "sentiment_bag.shape"
      ]
    },
    {
      "cell_type": "code",
      "execution_count": null,
      "metadata": {
        "colab": {
          "base_uri": "https://localhost:8080/"
        },
        "id": "9oAmrOba5ij9",
        "outputId": "55d3304a-326f-4059-e27f-7f7cad0907db"
      },
      "outputs": [
        {
          "output_type": "execute_result",
          "data": {
            "text/plain": [
              "(15, 15439)"
            ]
          },
          "metadata": {},
          "execution_count": 74
        }
      ],
      "source": [
        "sum_words=sentiment_bag.sum(axis = 0)\n",
        "sorted_freq =sorted(sum_words,reverse =  True)\n",
        "\n",
        "high_freq_word= np.flip(np.argsort(sum_words))[:15]\n",
        "high_freq_word\n",
        "new_array=np.zeros([high_freq_word.shape[0],sum_words.shape[0]])\n",
        "new_array.shape"
      ]
    },
    {
      "cell_type": "code",
      "execution_count": null,
      "metadata": {
        "colab": {
          "base_uri": "https://localhost:8080/"
        },
        "id": "T-XlgOPe5ij9",
        "outputId": "e9ae1af1-3436-4556-e2db-fc9d0a8eac02"
      },
      "outputs": [
        {
          "output_type": "execute_result",
          "data": {
            "text/plain": [
              "[array(['good'], dtype='<U170'),\n",
              " array(['food'], dtype='<U170'),\n",
              " array(['topographic_point'], dtype='<U170'),\n",
              " array(['service'], dtype='<U170'),\n",
              " array(['order'], dtype='<U170'),\n",
              " array(['taste'], dtype='<U170'),\n",
              " array(['chicken'], dtype='<U170'),\n",
              " array(['nice'], dtype='<U170'),\n",
              " array(['atmosphere'], dtype='<U170'),\n",
              " array(['time'], dtype='<U170'),\n",
              " array(['great'], dtype='<U170'),\n",
              " array(['one'], dtype='<U170'),\n",
              " array(['biryani'], dtype='<U170'),\n",
              " array(['visit'], dtype='<U170'),\n",
              " array(['truly'], dtype='<U170')]"
            ]
          },
          "metadata": {},
          "execution_count": 75
        }
      ],
      "source": [
        "for i,j in enumerate(high_freq_word):\n",
        "  new_array[i,j] = 1\n",
        "most_freq=tfidf2.inverse_transform(new_array)\n",
        "most_freq"
      ]
    },
    {
      "cell_type": "code",
      "execution_count": null,
      "metadata": {
        "colab": {
          "base_uri": "https://localhost:8080/",
          "height": 331
        },
        "id": "dpbS0pGe5ij-",
        "outputId": "76aba489-95fb-4945-ec3d-afc0e759e08f"
      },
      "outputs": [
        {
          "output_type": "execute_result",
          "data": {
            "text/plain": [
              "<matplotlib.image.AxesImage at 0x7f02b989b2e0>"
            ]
          },
          "metadata": {},
          "execution_count": 76
        },
        {
          "output_type": "display_data",
          "data": {
            "text/plain": [
              "<Figure size 640x480 with 1 Axes>"
            ],
            "image/png": "[encoded data removed]"
          },
          "metadata": {}
        }
      ],
      "source": [
        "from wordcloud import WordCloud, STOPWORDS\n",
        "wordcloud=WordCloud().generate(' '.join([i[0] for i in most_freq]))\n",
        "plt.imshow(wordcloud)"
      ]
    },
    {
      "cell_type": "markdown",
      "metadata": {
        "id": "JX9xAe2o5ij-"
      },
      "source": [
        "##### Which text vectorization technique have you used and why?"
      ]
    },
    {
      "cell_type": "markdown",
      "metadata": {
        "id": "VT2pGnbC5ij_"
      },
      "source": [
        "Answer Here."
      ]
    },
    {
      "cell_type": "markdown",
      "metadata": {
        "id": "-oLEiFgy-5Pf"
      },
      "source": [
        "### 4. Feature Manipulation & Selection"
      ]
    },
    {
      "cell_type": "markdown",
      "metadata": {
        "id": "C74aWNz2AliB"
      },
      "source": [
        "#### 1. Feature Manipulation"
      ]
    },
    {
      "cell_type": "code",
      "execution_count": null,
      "metadata": {
        "colab": {
          "base_uri": "https://localhost:8080/"
        },
        "id": "w1v5UKkyBkl5",
        "outputId": "9a971cae-3a6c-4d20-b84d-ea56918d3352"
      },
      "outputs": [
        {
          "output_type": "execute_result",
          "data": {
            "text/plain": [
              "5.00    3826\n",
              "4.00    2373\n",
              "1.00    1735\n",
              "3.00    1192\n",
              "2.00     684\n",
              "4.50      69\n",
              "3.50      47\n",
              "2.50      19\n",
              "1.50       9\n",
              "3.62       1\n",
              "Name: Rating, dtype: int64"
            ]
          },
          "metadata": {},
          "execution_count": 77
        }
      ],
      "source": [
        "second_df['Rating'].value_counts()"
      ]
    },
    {
      "cell_type": "code",
      "execution_count": null,
      "metadata": {
        "id": "h1qC4yhBApWC"
      },
      "outputs": [],
      "source": [
        "# Manipulate Features to minimize feature correlation and create new features\n",
        "second_df['new_Rating'] = second_df['Rating'].round()"
      ]
    },
    {
      "cell_type": "code",
      "execution_count": null,
      "metadata": {
        "id": "IQPtD0Mga_iZ"
      },
      "outputs": [],
      "source": [
        "second_df['new_Rating']=second_df['new_Rating'].astype(int)"
      ]
    },
    {
      "cell_type": "code",
      "execution_count": null,
      "metadata": {
        "colab": {
          "base_uri": "https://localhost:8080/"
        },
        "id": "yzXgrnCk0ApY",
        "outputId": "525fe20d-84e4-42ce-bf9c-d785250dd670"
      },
      "outputs": [
        {
          "output_type": "execute_result",
          "data": {
            "text/plain": [
              "5    3826\n",
              "4    2490\n",
              "1    1735\n",
              "3    1192\n",
              "2     712\n",
              "Name: new_Rating, dtype: int64"
            ]
          },
          "metadata": {},
          "execution_count": 80
        }
      ],
      "source": [
        "second_df['new_Rating'].value_counts()"
      ]
    },
    {
      "cell_type": "code",
      "execution_count": null,
      "metadata": {
        "id": "dvPoiDRWz7lq"
      },
      "outputs": [],
      "source": [
        "second_df.replace({'new_Rating':{5:0,4:0,3:0,2:1}},inplace = True)"
      ]
    },
    {
      "cell_type": "markdown",
      "metadata": {
        "id": "2DejudWSA-a0"
      },
      "source": [
        "#### 2. Feature Selection"
      ]
    },
    {
      "cell_type": "code",
      "execution_count": null,
      "metadata": {
        "id": "YLhe8UmaBCEE"
      },
      "outputs": [],
      "source": [
        "# Select your features wisely to avoid overfitting\n",
        "independent_variable = sentiment_bag\n",
        "dependent_variable = second_df['new_Rating']"
      ]
    },
    {
      "cell_type": "markdown",
      "metadata": {
        "id": "pEMng2IbBLp7"
      },
      "source": [
        "##### What all feature selection methods have you used  and why?"
      ]
    },
    {
      "cell_type": "markdown",
      "metadata": {
        "id": "rb2Lh6Z8BgGs"
      },
      "source": [
        "Answer Here."
      ]
    },
    {
      "cell_type": "markdown",
      "metadata": {
        "id": "rAdphbQ9Bhjc"
      },
      "source": [
        "##### Which all features you found important and why?"
      ]
    },
    {
      "cell_type": "markdown",
      "metadata": {
        "id": "fGgaEstsBnaf"
      },
      "source": [
        "Answer Here."
      ]
    },
    {
      "cell_type": "markdown",
      "metadata": {
        "id": "1UUpS68QDMuG"
      },
      "source": [
        "### 7. Dimesionality Reduction"
      ]
    },
    {
      "cell_type": "markdown",
      "metadata": {
        "id": "kexQrXU-DjzY"
      },
      "source": [
        "##### Do you think that dimensionality reduction is needed? Explain Why?"
      ]
    },
    {
      "cell_type": "markdown",
      "metadata": {
        "id": "GGRlBsSGDtTQ"
      },
      "source": [
        "Answer Here."
      ]
    },
    {
      "cell_type": "code",
      "execution_count": null,
      "metadata": {
        "id": "kQfvxBBHDvCa"
      },
      "outputs": [],
      "source": [
        "# DImensionality Reduction (If needed)\n",
        "from sklearn.decomposition import PCA\n",
        "\n",
        "pca = PCA()\n",
        "pca_features=pca.fit_transform(sentiment_bag)"
      ]
    },
    {
      "cell_type": "code",
      "execution_count": null,
      "metadata": {
        "id": "MQuafE-je9rL",
        "colab": {
          "base_uri": "https://localhost:8080/"
        },
        "outputId": "8f56b099-6ce0-4c14-a655-ab3e47b42d3a"
      },
      "outputs": [
        {
          "output_type": "execute_result",
          "data": {
            "text/plain": [
              "(9955, 9955)"
            ]
          },
          "metadata": {},
          "execution_count": 94
        }
      ],
      "source": [
        "pca_features.shape"
      ]
    },
    {
      "cell_type": "code",
      "execution_count": null,
      "metadata": {
        "id": "L3kp-RQeffSH",
        "colab": {
          "base_uri": "https://localhost:8080/",
          "height": 505
        },
        "outputId": "7a1abc2e-61a7-4177-cd7c-45e79f7ec247"
      },
      "outputs": [
        {
          "output_type": "execute_result",
          "data": {
            "text/plain": [
              "<matplotlib.lines.Line2D at 0x7f020908abc0>"
            ]
          },
          "metadata": {},
          "execution_count": 93
        },
        {
          "output_type": "display_data",
          "data": {
            "text/plain": [
              "<Figure size 1000x500 with 1 Axes>"
            ],
            "image/png": "[encoded data removed]"
          },
          "metadata": {}
        }
      ],
      "source": [
        "#Analysing the variance for different number of features and plotting the graph\n",
        "\n",
        "plt.figure(figsize=(10,5))\n",
        "plt.plot(np.cumsum(pca.explained_variance_ratio_))\n",
        "plt.title('The Principal Components and Maximisation of Variance')\n",
        "plt.xlabel('Number of Principal Components')\n",
        "plt.ylabel('Cumulative Sum of Variance')\n",
        "plt.axhline(0.95,color='r',linestyle= '-.')\n",
        "plt.axvline(4000,color='r',linestyle= '-.')"
      ]
    },
    {
      "cell_type": "code",
      "execution_count": null,
      "metadata": {
        "id": "leqWXg7zpAsV"
      },
      "outputs": [],
      "source": [
        "pca = PCA(n_components = 4000)\n",
        "final_features=pca.fit_transform(sentiment_bag)"
      ]
    },
    {
      "cell_type": "code",
      "execution_count": null,
      "metadata": {
        "id": "tMY0Ym5-pR2K",
        "colab": {
          "base_uri": "https://localhost:8080/"
        },
        "outputId": "d9671d29-79a8-4991-fe09-e5ebef9013b9"
      },
      "outputs": [
        {
          "output_type": "execute_result",
          "data": {
            "text/plain": [
              "(9955, 4000)"
            ]
          },
          "metadata": {},
          "execution_count": 92
        }
      ],
      "source": [
        "final_features.shape"
      ]
    },
    {
      "cell_type": "markdown",
      "metadata": {
        "id": "BhH2vgX9EjGr"
      },
      "source": [
        "### 8. Data Splitting"
      ]
    },
    {
      "cell_type": "code",
      "execution_count": null,
      "metadata": {
        "id": "0CTyd2UwEyNM",
        "colab": {
          "base_uri": "https://localhost:8080/"
        },
        "outputId": "7cf3042a-ea32-4c63-a010-f7dddd17031e"
      },
      "outputs": [
        {
          "output_type": "stream",
          "name": "stdout",
          "text": [
            "(7964, 15439) (1991, 15439)\n",
            "(7964,) (1991,)\n"
          ]
        }
      ],
      "source": [
        "# Split your data to train and test. Choose Splitting ratio wisely.\n",
        "X_train,X_test , y_train,y_test = train_test_split(sentiment_bag,second_df['new_Rating'].values,test_size = 0.2,random_state = 42)\n",
        "print(X_train.shape, X_test.shape)\n",
        "print(y_train.shape, y_test.shape)"
      ]
    },
    {
      "cell_type": "markdown",
      "metadata": {
        "id": "qjKvONjwE8ra"
      },
      "source": [
        "##### What data splitting ratio have you used and why?"
      ]
    },
    {
      "cell_type": "markdown",
      "metadata": {
        "id": "Y2lJ8cobFDb_"
      },
      "source": [
        "Answer Here."
      ]
    },
    {
      "cell_type": "markdown",
      "metadata": {
        "id": "P1XJ9OREExlT"
      },
      "source": [
        "### 9. Handling Imbalanced Dataset"
      ]
    },
    {
      "cell_type": "markdown",
      "metadata": {
        "id": "VFOzZv6IFROw"
      },
      "source": [
        "##### Do you think the dataset is imbalanced? Explain Why."
      ]
    },
    {
      "cell_type": "markdown",
      "metadata": {
        "id": "GeKDIv7pFgcC"
      },
      "source": [
        "Answer Here."
      ]
    },
    {
      "cell_type": "code",
      "execution_count": null,
      "metadata": {
        "id": "nQsRhhZLFiDs",
        "colab": {
          "base_uri": "https://localhost:8080/"
        },
        "outputId": "75512b02-8f74-4e87-cf64-308e13befa35"
      },
      "outputs": [
        {
          "output_type": "execute_result",
          "data": {
            "text/plain": [
              "0    7508\n",
              "1    2447\n",
              "Name: new_Rating, dtype: int64"
            ]
          },
          "metadata": {},
          "execution_count": 96
        }
      ],
      "source": [
        "# Handling Imbalanced Dataset (If needed)\n",
        "second_df['new_Rating'].value_counts()"
      ]
    },
    {
      "cell_type": "code",
      "execution_count": null,
      "metadata": {
        "id": "FVhLdtxG9Vml"
      },
      "outputs": [],
      "source": [
        "from imblearn.over_sampling import SMOTE\n",
        "\n",
        "x_oversampled, y_oversampled = SMOTE(\n",
        "    random_state=2023,).fit_resample(X_train ,y_train)"
      ]
    },
    {
      "cell_type": "code",
      "execution_count": null,
      "metadata": {
        "id": "K36g0HzC9gci",
        "colab": {
          "base_uri": "https://localhost:8080/"
        },
        "outputId": "460cd5ff-415e-4bbb-935f-8994c55ffc8b"
      },
      "outputs": [
        {
          "output_type": "execute_result",
          "data": {
            "text/plain": [
              "(12052,)"
            ]
          },
          "metadata": {},
          "execution_count": 98
        }
      ],
      "source": [
        "y_oversampled.shape"
      ]
    },
    {
      "cell_type": "markdown",
      "metadata": {
        "id": "TIqpNgepFxVj"
      },
      "source": [
        "##### What technique did you use to handle the imbalance dataset and why? (If needed to be balanced)"
      ]
    },
    {
      "cell_type": "markdown",
      "metadata": {
        "id": "qbet1HwdGDTz"
      },
      "source": [
        "Answer Here."
      ]
    },
    {
      "cell_type": "markdown",
      "metadata": {
        "id": "VfCC591jGiD4"
      },
      "source": [
        "## ***7. ML Model Implementation***"
      ]
    },
    {
      "cell_type": "markdown",
      "metadata": {
        "id": "Yo3vwSdSUlxo"
      },
      "source": [
        "## Sentiment Analysis"
      ]
    },
    {
      "cell_type": "markdown",
      "metadata": {
        "id": "OB4l2ZhMeS1U"
      },
      "source": [
        "### ML Model - 1"
      ]
    },
    {
      "cell_type": "code",
      "execution_count": null,
      "metadata": {
        "id": "7ebyywQieS1U",
        "colab": {
          "base_uri": "https://localhost:8080/",
          "height": 708
        },
        "outputId": "31dd920b-5fb4-4309-d540-de08e2ccb155"
      },
      "outputs": [
        {
          "output_type": "stream",
          "name": "stdout",
          "text": [
            "Training accuracy for the given Model is : 0.9929472286757385\n",
            "Testing accuracy for the given Model is : 0.8890005022601708\n",
            " \n",
            "              precision    recall  f1-score   support\n",
            "\n",
            "           0       0.92      0.94      0.93      1482\n",
            "           1       0.80      0.75      0.78       509\n",
            "\n",
            "    accuracy                           0.89      1991\n",
            "   macro avg       0.86      0.84      0.85      1991\n",
            "weighted avg       0.89      0.89      0.89      1991\n",
            "\n"
          ]
        },
        {
          "output_type": "display_data",
          "data": {
            "text/plain": [
              "<Figure size 600x500 with 2 Axes>"
            ],
            "image/png": "[encoded data removed]"
          },
          "metadata": {}
        }
      ],
      "source": [
        "#line of code is calling the function train_and_evaluate_machine() with four arguments:\n",
        "#The train_and_evaluate_machine() function is responsible for training the model using the training data set and evaluating its\n",
        "#performance using the test data set. The specific implementation of this function will depend on the algorithm being used.\n",
        "'''Purpose of this line of code is to use the Multinomial Naive Bayes algorithm to train and evaluate a machine learning\n",
        "   model using a specific training and test data set. The results of this evaluation\n",
        "   can then be used to assess the performance of the algorithm and compare it to other algorithms or variations of the same algorithm.'''\n",
        "\n",
        "\n",
        "# ML Model - 1 Implementation\n",
        "\n",
        "Ml_model1 = Machine_Learning(RandomForestClassifier,x_oversampled , X_test ,y_oversampled,y_test)\n",
        "\n",
        "# Fit the Algorithm\n",
        "Ml_model1.train_and_evaluate_machine('RandomForestClassifier')\n",
        "# Predict on the model"
      ]
    },
    {
      "cell_type": "code",
      "source": [
        "Ml_model1 = Machine_Learning(RandomForestClassifier,X_train , X_test ,y_train,y_test)\n",
        "\n",
        "# Fit the Algorithm\n",
        "Ml_model1.train_and_evaluate_machine('RandomForestClassifier')\n",
        "# Predict on the model"
      ],
      "metadata": {
        "colab": {
          "base_uri": "https://localhost:8080/",
          "height": 708
        },
        "id": "6dHc4y8A8HuW",
        "outputId": "9d3a7905-b9e5-4534-ae46-493a395701c0"
      },
      "execution_count": null,
      "outputs": [
        {
          "output_type": "stream",
          "name": "stdout",
          "text": [
            "Training accuracy for the given Model is : 0.9939728779507785\n",
            "Testing accuracy for the given Model is : 0.8895027624309392\n",
            " \n",
            "              precision    recall  f1-score   support\n",
            "\n",
            "           0       0.89      0.98      0.93      1482\n",
            "           1       0.90      0.64      0.75       509\n",
            "\n",
            "    accuracy                           0.89      1991\n",
            "   macro avg       0.89      0.81      0.84      1991\n",
            "weighted avg       0.89      0.89      0.88      1991\n",
            "\n"
          ]
        },
        {
          "output_type": "display_data",
          "data": {
            "text/plain": [
              "<Figure size 600x500 with 2 Axes>"
            ],
            "image/png": "[encoded data removed]"
          },
          "metadata": {}
        }
      ]
    },
    {
      "cell_type": "markdown",
      "metadata": {
        "id": "ArJBuiUVfxKd"
      },
      "source": [
        "#### 1. Explain the ML Model used and it's performance using Evaluation metric Score Chart."
      ]
    },
    {
      "cell_type": "code",
      "execution_count": null,
      "metadata": {
        "id": "rqD5ZohzfxKe"
      },
      "outputs": [],
      "source": [
        "# Visualizing evaluation Metric Score chart"
      ]
    },
    {
      "cell_type": "markdown",
      "metadata": {
        "id": "4qY1EAkEfxKe"
      },
      "source": [
        "#### 2. Cross- Validation & Hyperparameter Tuning"
      ]
    },
    {
      "cell_type": "code",
      "execution_count": null,
      "metadata": {
        "id": "qcxGarPK8RKE"
      },
      "outputs": [],
      "source": [
        "from sklearn.model_selection import RandomizedSearchCV"
      ]
    },
    {
      "cell_type": "code",
      "execution_count": null,
      "metadata": {
        "id": "Dy61ujd6fxKe",
        "colab": {
          "base_uri": "https://localhost:8080/"
        },
        "outputId": "f7090b44-6730-45f4-e889-db8b59c72a11"
      },
      "outputs": [
        {
          "output_type": "stream",
          "name": "stdout",
          "text": [
            "Fitting 3 folds for each of 10 candidates, totalling 30 fits\n",
            "[CV 1/3] END max_depth=30, max_features=log2, min_samples_split=10, n_estimators=200;, score=(train=0.758, test=0.757) total time=   5.4s\n",
            "[CV 2/3] END max_depth=30, max_features=log2, min_samples_split=10, n_estimators=200;, score=(train=0.757, test=0.757) total time=   7.8s\n",
            "[CV 3/3] END max_depth=30, max_features=log2, min_samples_split=10, n_estimators=200;, score=(train=0.757, test=0.757) total time=   7.0s\n",
            "[CV 1/3] END max_depth=30, max_features=log2, min_samples_split=10, n_estimators=150;, score=(train=0.758, test=0.757) total time=   4.8s\n",
            "[CV 2/3] END max_depth=30, max_features=log2, min_samples_split=10, n_estimators=150;, score=(train=0.757, test=0.757) total time=   4.1s\n",
            "[CV 3/3] END max_depth=30, max_features=log2, min_samples_split=10, n_estimators=150;, score=(train=0.757, test=0.757) total time=   4.3s\n",
            "[CV 1/3] END max_depth=15, max_features=sqrt, min_samples_split=10, n_estimators=150;, score=(train=0.782, test=0.771) total time=  13.8s\n",
            "[CV 2/3] END max_depth=15, max_features=sqrt, min_samples_split=10, n_estimators=150;, score=(train=0.782, test=0.764) total time=  13.3s\n",
            "[CV 3/3] END max_depth=15, max_features=sqrt, min_samples_split=10, n_estimators=150;, score=(train=0.782, test=0.766) total time=  13.5s\n",
            "[CV 1/3] END max_depth=30, max_features=sqrt, min_samples_split=5, n_estimators=150;, score=(train=0.876, test=0.826) total time=  23.3s\n",
            "[CV 2/3] END max_depth=30, max_features=sqrt, min_samples_split=5, n_estimators=150;, score=(train=0.878, test=0.815) total time=  22.8s\n",
            "[CV 3/3] END max_depth=30, max_features=sqrt, min_samples_split=5, n_estimators=150;, score=(train=0.878, test=0.820) total time=  22.5s\n",
            "[CV 1/3] END max_depth=20, max_features=log2, min_samples_split=10, n_estimators=150;, score=(train=0.757, test=0.757) total time=   3.8s\n",
            "[CV 2/3] END max_depth=20, max_features=log2, min_samples_split=10, n_estimators=150;, score=(train=0.757, test=0.757) total time=   3.1s\n",
            "[CV 3/3] END max_depth=20, max_features=log2, min_samples_split=10, n_estimators=150;, score=(train=0.757, test=0.757) total time=   3.1s\n",
            "[CV 1/3] END max_depth=20, max_features=sqrt, min_samples_split=5, n_estimators=150;, score=(train=0.823, test=0.788) total time=  17.4s\n",
            "[CV 2/3] END max_depth=20, max_features=sqrt, min_samples_split=5, n_estimators=150;, score=(train=0.828, test=0.794) total time=  16.8s\n",
            "[CV 3/3] END max_depth=20, max_features=sqrt, min_samples_split=5, n_estimators=150;, score=(train=0.817, test=0.786) total time=  16.8s\n",
            "[CV 1/3] END max_depth=15, max_features=log2, min_samples_split=5, n_estimators=150;, score=(train=0.757, test=0.757) total time=   3.4s\n",
            "[CV 2/3] END max_depth=15, max_features=log2, min_samples_split=5, n_estimators=150;, score=(train=0.757, test=0.757) total time=   2.6s\n",
            "[CV 3/3] END max_depth=15, max_features=log2, min_samples_split=5, n_estimators=150;, score=(train=0.757, test=0.757) total time=   2.6s\n",
            "[CV 1/3] END max_depth=15, max_features=sqrt, min_samples_split=5, n_estimators=200;, score=(train=0.783, test=0.767) total time=  18.0s\n",
            "[CV 2/3] END max_depth=15, max_features=sqrt, min_samples_split=5, n_estimators=200;, score=(train=0.786, test=0.767) total time=  17.5s\n",
            "[CV 3/3] END max_depth=15, max_features=sqrt, min_samples_split=5, n_estimators=200;, score=(train=0.780, test=0.766) total time=  17.9s\n",
            "[CV 1/3] END max_depth=15, max_features=log2, min_samples_split=5, n_estimators=200;, score=(train=0.757, test=0.757) total time=   3.7s\n",
            "[CV 2/3] END max_depth=15, max_features=log2, min_samples_split=5, n_estimators=200;, score=(train=0.757, test=0.757) total time=   3.3s\n",
            "[CV 3/3] END max_depth=15, max_features=log2, min_samples_split=5, n_estimators=200;, score=(train=0.757, test=0.757) total time=   3.2s\n",
            "[CV 1/3] END max_depth=30, max_features=sqrt, min_samples_split=10, n_estimators=150;, score=(train=0.872, test=0.824) total time=  23.3s\n",
            "[CV 2/3] END max_depth=30, max_features=sqrt, min_samples_split=10, n_estimators=150;, score=(train=0.872, test=0.817) total time=  23.7s\n",
            "[CV 3/3] END max_depth=30, max_features=sqrt, min_samples_split=10, n_estimators=150;, score=(train=0.871, test=0.823) total time=  23.2s\n",
            " \n",
            "{'n_estimators': 150, 'min_samples_split': 10, 'max_features': 'sqrt', 'max_depth': 30}\n"
          ]
        }
      ],
      "source": [
        "\n",
        "\n",
        "\n",
        "params_rf = {\n",
        "    'n_estimators': [150, 200],\n",
        "    'max_depth': [ 15, 20,30],\n",
        "    'min_samples_split': [5, 10],\n",
        "    'max_features': ['sqrt','log2']\n",
        "}\n",
        "# Fit the Algorithm\n",
        "Ml_model1.Cross_validation( params_rf)\n",
        "# Predict on the model\n"
      ]
    },
    {
      "cell_type": "code",
      "source": [
        "# Fitting the model with best hyperparameters.\n",
        "RFC_best = RandomForestClassifier(n_estimators=150,min_samples_split= 10,max_features = 'sqrt', max_depth = 30)\n",
        "RFC_best.fit(x_oversampled ,y_oversampled)"
      ],
      "metadata": {
        "id": "sTRu8kRABipw",
        "colab": {
          "base_uri": "https://localhost:8080/",
          "height": 75
        },
        "outputId": "410d5850-383c-42f0-bf30-47f6d46ecbb3"
      },
      "execution_count": null,
      "outputs": [
        {
          "output_type": "execute_result",
          "data": {
            "text/plain": [
              "RandomForestClassifier(max_depth=30, min_samples_split=10, n_estimators=150)"
            ],
            "text/html": [
              "<style>#sk-container-id-2 {color: black;background-color: white;}#sk-container-id-2 pre{padding: 0;}#sk-container-id-2 div.sk-toggleable {background-color: white;}#sk-container-id-2 label.sk-toggleable__label {cursor: pointer;display: block;width: 100%;margin-bottom: 0;padding: 0.3em;box-sizing: border-box;text-align: center;}#sk-container-id-2 label.sk-toggleable__label-arrow:before {content: \"▸\";float: left;margin-right: 0.25em;color: #696969;}#sk-container-id-2 label.sk-toggleable__label-arrow:hover:before {color: black;}#sk-container-id-2 div.sk-estimator:hover label.sk-toggleable__label-arrow:before {color: black;}#sk-container-id-2 div.sk-toggleable__content {max-height: 0;max-width: 0;overflow: hidden;text-align: left;background-color: #f0f8ff;}#sk-container-id-2 div.sk-toggleable__content pre {margin: 0.2em;color: black;border-radius: 0.25em;background-color: #f0f8ff;}#sk-container-id-2 input.sk-toggleable__control:checked~div.sk-toggleable__content {max-height: 200px;max-width: 100%;overflow: auto;}#sk-container-id-2 input.sk-toggleable__control:checked~label.sk-toggleable__label-arrow:before {content: \"▾\";}#sk-container-id-2 div.sk-estimator input.sk-toggleable__control:checked~label.sk-toggleable__label {background-color: #d4ebff;}#sk-container-id-2 div.sk-label input.sk-toggleable__control:checked~label.sk-toggleable__label {background-color: #d4ebff;}#sk-container-id-2 input.sk-hidden--visually {border: 0;clip: rect(1px 1px 1px 1px);clip: rect(1px, 1px, 1px, 1px);height: 1px;margin: -1px;overflow: hidden;padding: 0;position: absolute;width: 1px;}#sk-container-id-2 div.sk-estimator {font-family: monospace;background-color: #f0f8ff;border: 1px dotted black;border-radius: 0.25em;box-sizing: border-box;margin-bottom: 0.5em;}#sk-container-id-2 div.sk-estimator:hover {background-color: #d4ebff;}#sk-container-id-2 div.sk-parallel-item::after {content: \"\";width: 100%;border-bottom: 1px solid gray;flex-grow: 1;}#sk-container-id-2 div.sk-label:hover label.sk-toggleable__label {background-color: #d4ebff;}#sk-container-id-2 div.sk-serial::before {content: \"\";position: absolute;border-left: 1px solid gray;box-sizing: border-box;top: 0;bottom: 0;left: 50%;z-index: 0;}#sk-container-id-2 div.sk-serial {display: flex;flex-direction: column;align-items: center;background-color: white;padding-right: 0.2em;padding-left: 0.2em;position: relative;}#sk-container-id-2 div.sk-item {position: relative;z-index: 1;}#sk-container-id-2 div.sk-parallel {display: flex;align-items: stretch;justify-content: center;background-color: white;position: relative;}#sk-container-id-2 div.sk-item::before, #sk-container-id-2 div.sk-parallel-item::before {content: \"\";position: absolute;border-left: 1px solid gray;box-sizing: border-box;top: 0;bottom: 0;left: 50%;z-index: -1;}#sk-container-id-2 div.sk-parallel-item {display: flex;flex-direction: column;z-index: 1;position: relative;background-color: white;}#sk-container-id-2 div.sk-parallel-item:first-child::after {align-self: flex-end;width: 50%;}#sk-container-id-2 div.sk-parallel-item:last-child::after {align-self: flex-start;width: 50%;}#sk-container-id-2 div.sk-parallel-item:only-child::after {width: 0;}#sk-container-id-2 div.sk-dashed-wrapped {border: 1px dashed gray;margin: 0 0.4em 0.5em 0.4em;box-sizing: border-box;padding-bottom: 0.4em;background-color: white;}#sk-container-id-2 div.sk-label label {font-family: monospace;font-weight: bold;display: inline-block;line-height: 1.2em;}#sk-container-id-2 div.sk-label-container {text-align: center;}#sk-container-id-2 div.sk-container {/* jupyter's `normalize.less` sets `[hidden] { display: none; }` but bootstrap.min.css set `[hidden] { display: none !important; }` so we also need the `!important` here to be able to override the default hidden behavior on the sphinx rendered scikit-learn.org. See: https://github.com/scikit-learn/scikit-learn/issues/21755 */display: inline-block !important;position: relative;}#sk-container-id-2 div.sk-text-repr-fallback {display: none;}</style><div id=\"sk-container-id-2\" class=\"sk-top-container\"><div class=\"sk-text-repr-fallback\"><pre>RandomForestClassifier(max_depth=30, min_samples_split=10, n_estimators=150)</pre><b>In a Jupyter environment, please rerun this cell to show the HTML representation or trust the notebook. <br />On GitHub, the HTML representation is unable to render, please try loading this page with nbviewer.org.</b></div><div class=\"sk-container\" hidden><div class=\"sk-item\"><div class=\"sk-estimator sk-toggleable\"><input class=\"sk-toggleable__control sk-hidden--visually\" id=\"sk-estimator-id-2\" type=\"checkbox\" checked><label for=\"sk-estimator-id-2\" class=\"sk-toggleable__label sk-toggleable__label-arrow\">RandomForestClassifier</label><div class=\"sk-toggleable__content\"><pre>RandomForestClassifier(max_depth=30, min_samples_split=10, n_estimators=150)</pre></div></div></div></div></div>"
            ]
          },
          "metadata": {},
          "execution_count": 110
        }
      ]
    },
    {
      "cell_type": "code",
      "source": [
        "train_accuracy = accuracy_score(y_oversampled, RFC_best.predict(x_oversampled))\n",
        "test_accuracy = accuracy_score(y_test, RFC_best.predict(X_test))\n",
        "print('The train accuracy for the given best model is', train_accuracy)\n",
        "print('The test accuracy for the given best model is', test_accuracy)"
      ],
      "metadata": {
        "id": "Bsj5ESsUCG4e",
        "colab": {
          "base_uri": "https://localhost:8080/"
        },
        "outputId": "ef7cd9b0-9e4a-46bb-a93d-4c7e1227c650"
      },
      "execution_count": null,
      "outputs": [
        {
          "output_type": "stream",
          "name": "stdout",
          "text": [
            "The train accuracy for the given best model is 0.9480584135413209\n",
            "The test accuracy for the given best model is 0.8714213962832748\n"
          ]
        }
      ]
    },
    {
      "cell_type": "code",
      "source": [
        "confusion_matrix(y_test,RFC_best.predict(X_test))"
      ],
      "metadata": {
        "colab": {
          "base_uri": "https://localhost:8080/"
        },
        "id": "XlelO0wiZ6Cv",
        "outputId": "11701bb3-1029-4423-a003-2c16c69803f3"
      },
      "execution_count": null,
      "outputs": [
        {
          "output_type": "execute_result",
          "data": {
            "text/plain": [
              "array([[1336,  146],\n",
              "       [ 110,  399]])"
            ]
          },
          "metadata": {},
          "execution_count": 112
        }
      ]
    },
    {
      "cell_type": "markdown",
      "metadata": {
        "id": "PiV4Ypx8fxKe"
      },
      "source": [
        "##### Which hyperparameter optimization technique have you used and why?"
      ]
    },
    {
      "cell_type": "markdown",
      "metadata": {
        "id": "negyGRa7fxKf"
      },
      "source": [
        "Answer Here."
      ]
    },
    {
      "cell_type": "markdown",
      "metadata": {
        "id": "TfvqoZmBfxKf"
      },
      "source": [
        "##### Have you seen any improvement? Note down the improvement with updates Evaluation metric Score Chart."
      ]
    },
    {
      "cell_type": "markdown",
      "metadata": {
        "id": "OaLui8CcfxKf"
      },
      "source": [
        "Answer Here."
      ]
    },
    {
      "cell_type": "markdown",
      "metadata": {
        "id": "dJ2tPlVmpsJ0"
      },
      "source": [
        "### ML Model - 2"
      ]
    },
    {
      "cell_type": "code",
      "execution_count": null,
      "metadata": {
        "id": "VeeUvIK5UJtK"
      },
      "outputs": [],
      "source": [
        "from sklearn.ensemble import HistGradientBoostingClassifier\n",
        "\n",
        "# This is my Second Model\n",
        "Ml_model2 = Machine_Learning(\n",
        "    ,x_oversampled , X_test ,y_oversampled,y_test)"
      ]
    },
    {
      "cell_type": "code",
      "execution_count": null,
      "metadata": {
        "id": "Qy73rzy_UUsQ",
        "colab": {
          "base_uri": "https://localhost:8080/",
          "height": 708
        },
        "outputId": "71038e6a-72bd-4be3-889f-38d878de999b"
      },
      "outputs": [
        {
          "output_type": "stream",
          "name": "stdout",
          "text": [
            "Training accuracy for the given Model is : 0.9548622635247261\n",
            "Testing accuracy for the given Model is : 0.8839779005524862\n",
            " \n",
            "              precision    recall  f1-score   support\n",
            "\n",
            "           0       0.94      0.90      0.92      1482\n",
            "           1       0.75      0.82      0.78       509\n",
            "\n",
            "    accuracy                           0.88      1991\n",
            "   macro avg       0.84      0.86      0.85      1991\n",
            "weighted avg       0.89      0.88      0.89      1991\n",
            "\n"
          ]
        },
        {
          "output_type": "display_data",
          "data": {
            "text/plain": [
              "<Figure size 600x500 with 2 Axes>"
            ],
            "image/png": "[encoded data removed]"
          },
          "metadata": {}
        }
      ],
      "source": [
        "Ml_model2.train_and_evaluate_machine('HistGradientBoostingClassifier')"
      ]
    },
    {
      "cell_type": "markdown",
      "metadata": {
        "id": "JWYfwnehpsJ1"
      },
      "source": [
        "#### 1. Explain the ML Model used and it's performance using Evaluation metric Score Chart."
      ]
    },
    {
      "cell_type": "code",
      "execution_count": null,
      "metadata": {
        "id": "yEl-hgQWpsJ1"
      },
      "outputs": [],
      "source": [
        "# Visualizing evaluation Metric Score chart"
      ]
    },
    {
      "cell_type": "markdown",
      "metadata": {
        "id": "-jK_YjpMpsJ2"
      },
      "source": [
        "#### 2. Cross- Validation & Hyperparameter Tuning"
      ]
    },
    {
      "cell_type": "code",
      "execution_count": null,
      "metadata": {
        "id": "Dn0EOfS6psJ2",
        "colab": {
          "base_uri": "https://localhost:8080/"
        },
        "outputId": "ded08004-4a8c-4ce2-c684-49a9af2332b0"
      },
      "outputs": [
        {
          "output_type": "stream",
          "name": "stdout",
          "text": [
            "Fitting 3 folds for each of 10 candidates, totalling 30 fits\n",
            "[CV 1/3] END learning_rate=0.1, max_depth=8, min_samples_leaf=1;, score=(train=0.962, test=0.873) total time= 3.6min\n",
            "[CV 2/3] END learning_rate=0.1, max_depth=8, min_samples_leaf=1;, score=(train=0.949, test=0.921) total time= 3.5min\n",
            "[CV 3/3] END learning_rate=0.1, max_depth=8, min_samples_leaf=1;, score=(train=0.947, test=0.929) total time= 3.5min\n",
            "[CV 1/3] END learning_rate=0.1, max_depth=5, min_samples_leaf=5;, score=(train=0.935, test=0.855) total time= 2.1min\n",
            "[CV 2/3] END learning_rate=0.1, max_depth=5, min_samples_leaf=5;, score=(train=0.918, test=0.905) total time= 2.1min\n",
            "[CV 3/3] END learning_rate=0.1, max_depth=5, min_samples_leaf=5;, score=(train=0.915, test=0.915) total time= 2.1min\n",
            "[CV 1/3] END learning_rate=0.01, max_depth=5, min_samples_leaf=5;, score=(train=0.856, test=0.791) total time= 2.4min\n",
            "[CV 2/3] END learning_rate=0.01, max_depth=5, min_samples_leaf=5;, score=(train=0.840, test=0.850) total time= 2.4min\n",
            "[CV 3/3] END learning_rate=0.01, max_depth=5, min_samples_leaf=5;, score=(train=0.834, test=0.852) total time= 2.4min\n",
            "[CV 1/3] END learning_rate=0.1, max_depth=8, min_samples_leaf=5;, score=(train=0.960, test=0.874) total time= 3.4min\n",
            "[CV 2/3] END learning_rate=0.1, max_depth=8, min_samples_leaf=5;, score=(train=0.946, test=0.916) total time= 3.4min\n",
            "[CV 3/3] END learning_rate=0.1, max_depth=8, min_samples_leaf=5;, score=(train=0.942, test=0.923) total time= 3.4min\n",
            "[CV 1/3] END learning_rate=0.01, max_depth=8, min_samples_leaf=1;, score=(train=0.882, test=0.813) total time= 3.8min\n",
            "[CV 2/3] END learning_rate=0.01, max_depth=8, min_samples_leaf=1;, score=(train=0.868, test=0.863) total time= 3.7min\n",
            "[CV 3/3] END learning_rate=0.01, max_depth=8, min_samples_leaf=1;, score=(train=0.858, test=0.875) total time= 3.8min\n",
            "[CV 1/3] END learning_rate=0.1, max_depth=8, min_samples_leaf=20;, score=(train=0.948, test=0.862) total time= 3.3min\n",
            "[CV 2/3] END learning_rate=0.1, max_depth=8, min_samples_leaf=20;, score=(train=0.931, test=0.913) total time= 3.3min\n",
            "[CV 3/3] END learning_rate=0.1, max_depth=8, min_samples_leaf=20;, score=(train=0.930, test=0.920) total time= 3.2min\n",
            "[CV 1/3] END learning_rate=0.1, max_depth=5, min_samples_leaf=20;, score=(train=0.928, test=0.853) total time= 2.0min\n",
            "[CV 2/3] END learning_rate=0.1, max_depth=5, min_samples_leaf=20;, score=(train=0.909, test=0.904) total time= 2.0min\n",
            "[CV 3/3] END learning_rate=0.1, max_depth=5, min_samples_leaf=20;, score=(train=0.907, test=0.911) total time= 2.0min\n",
            "[CV 1/3] END learning_rate=0.01, max_depth=5, min_samples_leaf=20;, score=(train=0.852, test=0.790) total time= 2.4min\n",
            "[CV 2/3] END learning_rate=0.01, max_depth=5, min_samples_leaf=20;, score=(train=0.839, test=0.853) total time= 2.5min\n",
            "[CV 3/3] END learning_rate=0.01, max_depth=5, min_samples_leaf=20;, score=(train=0.830, test=0.850) total time= 2.4min\n",
            "[CV 1/3] END learning_rate=0.1, max_depth=5, min_samples_leaf=1;, score=(train=0.939, test=0.857) total time= 2.2min\n",
            "[CV 2/3] END learning_rate=0.1, max_depth=5, min_samples_leaf=1;, score=(train=0.923, test=0.905) total time= 2.2min\n",
            "[CV 3/3] END learning_rate=0.1, max_depth=5, min_samples_leaf=1;, score=(train=0.917, test=0.914) total time= 2.2min\n",
            "[CV 1/3] END learning_rate=0.01, max_depth=8, min_samples_leaf=5;, score=(train=0.882, test=0.813) total time= 3.8min\n",
            "[CV 2/3] END learning_rate=0.01, max_depth=8, min_samples_leaf=5;, score=(train=0.867, test=0.862) total time= 3.7min\n",
            "[CV 3/3] END learning_rate=0.01, max_depth=8, min_samples_leaf=5;, score=(train=0.860, test=0.876) total time= 3.7min\n"
          ]
        }
      ],
      "source": [
        "HGB_params = {\n",
        "    'learning_rate': [0.01, 0.1],\n",
        "    'max_depth': [5,8],\n",
        "    'min_samples_leaf': [1, 5, 20]\n",
        "}\n",
        "# Implementing the cross vaidation for the model\n",
        "Ml_model2.Cross_validation(HGB_params)"
      ]
    },
    {
      "cell_type": "code",
      "source": [
        "HGB_best = HistGradientBoostingClassifier(min_samples_leaf = 20, max_depth = 5,learning_rate = 0.1)\n",
        "HGB_best.fit(x_oversampled,y_oversampled)"
      ],
      "metadata": {
        "id": "KamlY-d6RsZk",
        "colab": {
          "base_uri": "https://localhost:8080/",
          "height": 75
        },
        "outputId": "e24fc3a3-575f-448d-ccc0-bc55a56000bd"
      },
      "execution_count": null,
      "outputs": [
        {
          "output_type": "execute_result",
          "data": {
            "text/plain": [
              "HistGradientBoostingClassifier(max_depth=5)"
            ],
            "text/html": [
              "<style>#sk-container-id-3 {color: black;background-color: white;}#sk-container-id-3 pre{padding: 0;}#sk-container-id-3 div.sk-toggleable {background-color: white;}#sk-container-id-3 label.sk-toggleable__label {cursor: pointer;display: block;width: 100%;margin-bottom: 0;padding: 0.3em;box-sizing: border-box;text-align: center;}#sk-container-id-3 label.sk-toggleable__label-arrow:before {content: \"▸\";float: left;margin-right: 0.25em;color: #696969;}#sk-container-id-3 label.sk-toggleable__label-arrow:hover:before {color: black;}#sk-container-id-3 div.sk-estimator:hover label.sk-toggleable__label-arrow:before {color: black;}#sk-container-id-3 div.sk-toggleable__content {max-height: 0;max-width: 0;overflow: hidden;text-align: left;background-color: #f0f8ff;}#sk-container-id-3 div.sk-toggleable__content pre {margin: 0.2em;color: black;border-radius: 0.25em;background-color: #f0f8ff;}#sk-container-id-3 input.sk-toggleable__control:checked~div.sk-toggleable__content {max-height: 200px;max-width: 100%;overflow: auto;}#sk-container-id-3 input.sk-toggleable__control:checked~label.sk-toggleable__label-arrow:before {content: \"▾\";}#sk-container-id-3 div.sk-estimator input.sk-toggleable__control:checked~label.sk-toggleable__label {background-color: #d4ebff;}#sk-container-id-3 div.sk-label input.sk-toggleable__control:checked~label.sk-toggleable__label {background-color: #d4ebff;}#sk-container-id-3 input.sk-hidden--visually {border: 0;clip: rect(1px 1px 1px 1px);clip: rect(1px, 1px, 1px, 1px);height: 1px;margin: -1px;overflow: hidden;padding: 0;position: absolute;width: 1px;}#sk-container-id-3 div.sk-estimator {font-family: monospace;background-color: #f0f8ff;border: 1px dotted black;border-radius: 0.25em;box-sizing: border-box;margin-bottom: 0.5em;}#sk-container-id-3 div.sk-estimator:hover {background-color: #d4ebff;}#sk-container-id-3 div.sk-parallel-item::after {content: \"\";width: 100%;border-bottom: 1px solid gray;flex-grow: 1;}#sk-container-id-3 div.sk-label:hover label.sk-toggleable__label {background-color: #d4ebff;}#sk-container-id-3 div.sk-serial::before {content: \"\";position: absolute;border-left: 1px solid gray;box-sizing: border-box;top: 0;bottom: 0;left: 50%;z-index: 0;}#sk-container-id-3 div.sk-serial {display: flex;flex-direction: column;align-items: center;background-color: white;padding-right: 0.2em;padding-left: 0.2em;position: relative;}#sk-container-id-3 div.sk-item {position: relative;z-index: 1;}#sk-container-id-3 div.sk-parallel {display: flex;align-items: stretch;justify-content: center;background-color: white;position: relative;}#sk-container-id-3 div.sk-item::before, #sk-container-id-3 div.sk-parallel-item::before {content: \"\";position: absolute;border-left: 1px solid gray;box-sizing: border-box;top: 0;bottom: 0;left: 50%;z-index: -1;}#sk-container-id-3 div.sk-parallel-item {display: flex;flex-direction: column;z-index: 1;position: relative;background-color: white;}#sk-container-id-3 div.sk-parallel-item:first-child::after {align-self: flex-end;width: 50%;}#sk-container-id-3 div.sk-parallel-item:last-child::after {align-self: flex-start;width: 50%;}#sk-container-id-3 div.sk-parallel-item:only-child::after {width: 0;}#sk-container-id-3 div.sk-dashed-wrapped {border: 1px dashed gray;margin: 0 0.4em 0.5em 0.4em;box-sizing: border-box;padding-bottom: 0.4em;background-color: white;}#sk-container-id-3 div.sk-label label {font-family: monospace;font-weight: bold;display: inline-block;line-height: 1.2em;}#sk-container-id-3 div.sk-label-container {text-align: center;}#sk-container-id-3 div.sk-container {/* jupyter's `normalize.less` sets `[hidden] { display: none; }` but bootstrap.min.css set `[hidden] { display: none !important; }` so we also need the `!important` here to be able to override the default hidden behavior on the sphinx rendered scikit-learn.org. See: https://github.com/scikit-learn/scikit-learn/issues/21755 */display: inline-block !important;position: relative;}#sk-container-id-3 div.sk-text-repr-fallback {display: none;}</style><div id=\"sk-container-id-3\" class=\"sk-top-container\"><div class=\"sk-text-repr-fallback\"><pre>HistGradientBoostingClassifier(max_depth=5)</pre><b>In a Jupyter environment, please rerun this cell to show the HTML representation or trust the notebook. <br />On GitHub, the HTML representation is unable to render, please try loading this page with nbviewer.org.</b></div><div class=\"sk-container\" hidden><div class=\"sk-item\"><div class=\"sk-estimator sk-toggleable\"><input class=\"sk-toggleable__control sk-hidden--visually\" id=\"sk-estimator-id-3\" type=\"checkbox\" checked><label for=\"sk-estimator-id-3\" class=\"sk-toggleable__label sk-toggleable__label-arrow\">HistGradientBoostingClassifier</label><div class=\"sk-toggleable__content\"><pre>HistGradientBoostingClassifier(max_depth=5)</pre></div></div></div></div></div>"
            ]
          },
          "metadata": {},
          "execution_count": 114
        }
      ]
    },
    {
      "cell_type": "code",
      "source": [
        "train_accuracy = accuracy_score(y_oversampled, HGB_best.predict(x_oversampled))\n",
        "test_accuracy = accuracy_score(y_test , HGB_best.predict(X_test))\n",
        "print('The training accuracy score for the model is', train_accuracy)\n",
        "print('The testing accuracy score for the model is', test_accuracy)"
      ],
      "metadata": {
        "id": "mf94WDl4STYZ",
        "colab": {
          "base_uri": "https://localhost:8080/"
        },
        "outputId": "de1f6dac-c27c-465e-d4f0-99aa8abcea5f"
      },
      "execution_count": null,
      "outputs": [
        {
          "output_type": "stream",
          "name": "stdout",
          "text": [
            "The training accuracy score for the model is 0.9107202124128775\n",
            "The testing accuracy score for the model is 0.8658965344048217\n"
          ]
        }
      ]
    },
    {
      "cell_type": "code",
      "source": [
        "confusion_matrix(y_test,HGB_best.predict(X_test))"
      ],
      "metadata": {
        "colab": {
          "base_uri": "https://localhost:8080/"
        },
        "id": "QcirXMA7cWXT",
        "outputId": "59ce18bd-5377-46e4-c834-1417e5c02a06"
      },
      "execution_count": null,
      "outputs": [
        {
          "output_type": "execute_result",
          "data": {
            "text/plain": [
              "array([[1302,  180],\n",
              "       [  87,  422]])"
            ]
          },
          "metadata": {},
          "execution_count": 116
        }
      ]
    },
    {
      "cell_type": "markdown",
      "metadata": {
        "id": "HAih1iBOpsJ2"
      },
      "source": [
        "##### Which hyperparameter optimization technique have you used and why?"
      ]
    },
    {
      "cell_type": "markdown",
      "metadata": {
        "id": "9kBgjYcdpsJ2"
      },
      "source": [
        "Answer Here."
      ]
    },
    {
      "cell_type": "markdown",
      "metadata": {
        "id": "zVGeBEFhpsJ2"
      },
      "source": [
        "##### Have you seen any improvement? Note down the improvement with updates Evaluation metric Score Chart."
      ]
    },
    {
      "cell_type": "markdown",
      "metadata": {
        "id": "74yRdG6UpsJ3"
      },
      "source": [
        "Answer Here."
      ]
    },
    {
      "cell_type": "markdown",
      "metadata": {
        "id": "bmKjuQ-FpsJ3"
      },
      "source": [
        "#### 3. Explain each evaluation metric's indication towards business and the business impact pf the ML model used."
      ]
    },
    {
      "cell_type": "markdown",
      "metadata": {
        "id": "BDKtOrBQpsJ3"
      },
      "source": [
        "Answer Here."
      ]
    },
    {
      "cell_type": "markdown",
      "metadata": {
        "id": "Fze-IPXLpx6K"
      },
      "source": [
        "### ML Model - 3"
      ]
    },
    {
      "cell_type": "code",
      "execution_count": null,
      "metadata": {
        "id": "FFrSXAtrpx6M",
        "colab": {
          "base_uri": "https://localhost:8080/",
          "height": 708
        },
        "outputId": "672e9e68-74cc-44c9-b80c-afe5db6eb220"
      },
      "outputs": [
        {
          "output_type": "stream",
          "name": "stdout",
          "text": [
            "Training accuracy for the given Model is : 0.9597577165615665\n",
            "Testing accuracy for the given Model is : 0.8729281767955801\n",
            " \n",
            "              precision    recall  f1-score   support\n",
            "\n",
            "           0       0.93      0.90      0.91      1482\n",
            "           1       0.73      0.80      0.76       509\n",
            "\n",
            "    accuracy                           0.87      1991\n",
            "   macro avg       0.83      0.85      0.84      1991\n",
            "weighted avg       0.88      0.87      0.87      1991\n",
            "\n"
          ]
        },
        {
          "output_type": "display_data",
          "data": {
            "text/plain": [
              "<Figure size 600x500 with 2 Axes>"
            ],
            "image/png": "[encoded data removed]"
          },
          "metadata": {}
        }
      ],
      "source": [
        "# ML Model - 3 Implementation\n",
        "\n",
        "ML_model3 = Machine_Learning(XGBClassifier,x_oversampled , X_test ,y_oversampled,y_test)\n",
        "\n",
        "# Fit the Algorithm\n",
        "ML_model3.train_and_evaluate_machine('XGBClassifier' )\n",
        "\n",
        "# Predict on the model"
      ]
    },
    {
      "cell_type": "markdown",
      "metadata": {
        "id": "7AN1z2sKpx6M"
      },
      "source": [
        "#### 1. Explain the ML Model used and it's performance using Evaluation metric Score Chart."
      ]
    },
    {
      "cell_type": "code",
      "execution_count": null,
      "metadata": {
        "id": "xIY4lxxGpx6M"
      },
      "outputs": [],
      "source": [
        "# Visualizing evaluation Metric Score chart"
      ]
    },
    {
      "cell_type": "markdown",
      "metadata": {
        "id": "9PIHJqyupx6M"
      },
      "source": [
        "#### 2. Cross- Validation & Hyperparameter Tuning"
      ]
    },
    {
      "cell_type": "code",
      "execution_count": null,
      "metadata": {
        "id": "eSVXuaSKpx6M",
        "colab": {
          "base_uri": "https://localhost:8080/"
        },
        "outputId": "c4f0dc2a-6d78-4522-8949-c160cddd56f9"
      },
      "outputs": [
        {
          "output_type": "stream",
          "name": "stdout",
          "text": [
            "Fitting 3 folds for each of 10 candidates, totalling 30 fits\n",
            "[CV 1/3] END colsample_bytree=0.8, gamma=1, max_depth=3, min_child_weight=5, subsample=0.8;, score=(train=0.934, test=0.850) total time= 4.4min\n",
            "[CV 2/3] END colsample_bytree=0.8, gamma=1, max_depth=3, min_child_weight=5, subsample=0.8;, score=(train=0.918, test=0.912) total time= 4.3min\n",
            "[CV 3/3] END colsample_bytree=0.8, gamma=1, max_depth=3, min_child_weight=5, subsample=0.8;, score=(train=0.911, test=0.916) total time= 4.2min\n",
            "[CV 1/3] END colsample_bytree=1.0, gamma=0.5, max_depth=3, min_child_weight=10, subsample=0.8;, score=(train=0.926, test=0.845) total time= 5.1min\n",
            "[CV 2/3] END colsample_bytree=1.0, gamma=0.5, max_depth=3, min_child_weight=10, subsample=0.8;, score=(train=0.913, test=0.908) total time= 5.1min\n",
            "[CV 3/3] END colsample_bytree=1.0, gamma=0.5, max_depth=3, min_child_weight=10, subsample=0.8;, score=(train=0.907, test=0.914) total time= 5.1min\n",
            "[CV 1/3] END colsample_bytree=0.8, gamma=2, max_depth=4, min_child_weight=10, subsample=1.0;, score=(train=0.937, test=0.846) total time= 5.1min\n",
            "[CV 2/3] END colsample_bytree=0.8, gamma=2, max_depth=4, min_child_weight=10, subsample=1.0;, score=(train=0.921, test=0.910) total time= 5.1min\n",
            "[CV 3/3] END colsample_bytree=0.8, gamma=2, max_depth=4, min_child_weight=10, subsample=1.0;, score=(train=0.916, test=0.918) total time= 5.1min\n",
            "[CV 1/3] END colsample_bytree=0.6, gamma=1.5, max_depth=3, min_child_weight=1, subsample=1.0;, score=(train=0.941, test=0.855) total time= 3.2min\n",
            "[CV 2/3] END colsample_bytree=0.6, gamma=1.5, max_depth=3, min_child_weight=1, subsample=1.0;, score=(train=0.923, test=0.909) total time= 3.2min\n",
            "[CV 3/3] END colsample_bytree=0.6, gamma=1.5, max_depth=3, min_child_weight=1, subsample=1.0;, score=(train=0.920, test=0.923) total time= 3.2min\n",
            "[CV 1/3] END colsample_bytree=0.6, gamma=0.5, max_depth=4, min_child_weight=5, subsample=0.8;, score=(train=0.944, test=0.853) total time= 4.2min\n",
            "[CV 2/3] END colsample_bytree=0.6, gamma=0.5, max_depth=4, min_child_weight=5, subsample=0.8;, score=(train=0.927, test=0.911) total time= 4.2min\n",
            "[CV 3/3] END colsample_bytree=0.6, gamma=0.5, max_depth=4, min_child_weight=5, subsample=0.8;, score=(train=0.921, test=0.922) total time= 4.2min\n",
            "[CV 1/3] END colsample_bytree=0.6, gamma=1, max_depth=5, min_child_weight=10, subsample=0.6;, score=(train=0.933, test=0.835) total time= 5.5min\n",
            "[CV 2/3] END colsample_bytree=0.6, gamma=1, max_depth=5, min_child_weight=10, subsample=0.6;, score=(train=0.912, test=0.904) total time= 5.5min\n",
            "[CV 3/3] END colsample_bytree=0.6, gamma=1, max_depth=5, min_child_weight=10, subsample=0.6;, score=(train=0.915, test=0.912) total time= 5.5min\n",
            "[CV 1/3] END colsample_bytree=0.6, gamma=0.5, max_depth=3, min_child_weight=10, subsample=0.8;, score=(train=0.927, test=0.847) total time= 3.3min\n",
            "[CV 2/3] END colsample_bytree=0.6, gamma=0.5, max_depth=3, min_child_weight=10, subsample=0.8;, score=(train=0.909, test=0.902) total time= 3.4min\n",
            "[CV 3/3] END colsample_bytree=0.6, gamma=0.5, max_depth=3, min_child_weight=10, subsample=0.8;, score=(train=0.907, test=0.914) total time= 3.3min\n",
            "[CV 1/3] END colsample_bytree=0.8, gamma=0.5, max_depth=5, min_child_weight=5, subsample=1.0;, score=(train=0.954, test=0.861) total time= 6.2min\n",
            "[CV 2/3] END colsample_bytree=0.8, gamma=0.5, max_depth=5, min_child_weight=5, subsample=1.0;, score=(train=0.936, test=0.918) total time= 6.2min\n",
            "[CV 3/3] END colsample_bytree=0.8, gamma=0.5, max_depth=5, min_child_weight=5, subsample=1.0;, score=(train=0.931, test=0.925) total time= 6.2min\n",
            "[CV 1/3] END colsample_bytree=1.0, gamma=1, max_depth=3, min_child_weight=10, subsample=0.8;, score=(train=0.928, test=0.849) total time= 5.1min\n",
            "[CV 2/3] END colsample_bytree=1.0, gamma=1, max_depth=3, min_child_weight=10, subsample=0.8;, score=(train=0.912, test=0.905) total time= 5.1min\n",
            "[CV 3/3] END colsample_bytree=1.0, gamma=1, max_depth=3, min_child_weight=10, subsample=0.8;, score=(train=0.907, test=0.915) total time= 5.1min\n",
            "[CV 1/3] END colsample_bytree=1.0, gamma=0.5, max_depth=4, min_child_weight=10, subsample=1.0;, score=(train=0.941, test=0.854) total time= 6.1min\n",
            "[CV 2/3] END colsample_bytree=1.0, gamma=0.5, max_depth=4, min_child_weight=10, subsample=1.0;, score=(train=0.921, test=0.912) total time= 6.2min\n",
            "[CV 3/3] END colsample_bytree=1.0, gamma=0.5, max_depth=4, min_child_weight=10, subsample=1.0;, score=(train=0.919, test=0.920) total time= 6.2min\n",
            " \n",
            "{'subsample': 1.0, 'min_child_weight': 5, 'max_depth': 5, 'gamma': 0.5, 'colsample_bytree': 0.8}\n"
          ]
        }
      ],
      "source": [
        "# ML Model - 3 Implementation with hyperparameter optimization techniques (i.e., GridSearch CV, RandomSearch CV, Bayesian Optimization etc.)\n",
        "params = {\n",
        "        'min_child_weight': [1, 5, 10],\n",
        "        'gamma': [0.5, 1, 1.5, 2, 5],\n",
        "        'subsample': [0.6, 0.8, 1.0],\n",
        "        'colsample_bytree': [0.6, 0.8, 1.0],\n",
        "        'max_depth': [3, 4, 5]\n",
        "        }\n",
        "# Fit the Algorithm\n",
        "ML_model3.Cross_validation(params)\n",
        "# Predict on the model"
      ]
    },
    {
      "cell_type": "code",
      "source": [
        "{'subsample': 1.0, 'min_child_weight': 5, 'max_depth': 5, 'gamma': 0.5, 'colsample_bytree': 0.8}"
      ],
      "metadata": {
        "id": "_WHjnPLUNQ-3"
      },
      "execution_count": null,
      "outputs": []
    },
    {
      "cell_type": "markdown",
      "metadata": {
        "id": "_-qAgymDpx6N"
      },
      "source": [
        "##### Which hyperparameter optimization technique have you used and why?"
      ]
    },
    {
      "cell_type": "markdown",
      "metadata": {
        "id": "lQMffxkwpx6N"
      },
      "source": [
        "Answer Here."
      ]
    },
    {
      "cell_type": "markdown",
      "metadata": {
        "id": "Z-hykwinpx6N"
      },
      "source": [
        "##### Have you seen any improvement? Note down the improvement with updates Evaluation metric Score Chart."
      ]
    },
    {
      "cell_type": "markdown",
      "metadata": {
        "id": "MzVzZC6opx6N"
      },
      "source": [
        "Answer Here."
      ]
    },
    {
      "cell_type": "markdown",
      "metadata": {
        "id": "eyi_stWsC5TX"
      },
      "source": [
        "### **Content Based Filtering.**"
      ]
    },
    {
      "cell_type": "code",
      "execution_count": null,
      "metadata": {
        "id": "Pnc2pnjyC__b"
      },
      "outputs": [],
      "source": [
        "hotel_bag_tf.shape"
      ]
    },
    {
      "cell_type": "code",
      "execution_count": null,
      "metadata": {
        "id": "Ktb0v0gPXAfy"
      },
      "outputs": [],
      "source": [
        "from sklearn.metrics.pairwise import cosine_similarity\n",
        "similarities = cosine_similarity(hotel_bag_tf)"
      ]
    },
    {
      "cell_type": "code",
      "execution_count": null,
      "metadata": {
        "id": "IW5cPabo7ISO"
      },
      "outputs": [],
      "source": [
        "def hotel_recommendation(hotel_name):\n",
        "\n",
        "  print('Hey!! Gyus, Checkout these Amazing Places')\n",
        "  print(' ')\n",
        "  index = first_df[first_df['Name']== hotel_name].index[0]\n",
        "  similar_content = sorted(list(enumerate(similarities[index])),reverse = True , key = lambda x: x[-1])\n",
        "\n",
        "  recommendation=[]\n",
        "  cuisines = []\n",
        "  rating=[]\n",
        "  review = []\n",
        "\n",
        "  for i,j in similar_content[:10]:\n",
        "    recommendation.append(first_df['Name'][i])\n",
        "    cuisines.append(rec_df[rec_df['Name']== first_df['Name'][i]]['Name'].iloc[0])\n",
        "    rating.append(rec_df[rec_df['Name']== first_df['Name'][i]]['Rating'].iloc[0])\n",
        "    review.append(rec_df[rec_df['Name']== first_df['Name'][i]]['Review'].iloc[0])\n",
        "\n",
        "  return (recommendation , cuisines , rating, review)"
      ]
    },
    {
      "cell_type": "code",
      "source": [
        "text ='atmosphere nice food quite nice Saturday lunch cost effective  topographic_point satiate brunch one besides chill friend parent \\\n",
        "waiter soumen hyrax truly courteous '"
      ],
      "metadata": {
        "id": "UoTuL79-2X2b"
      },
      "execution_count": null,
      "outputs": []
    },
    {
      "cell_type": "code",
      "source": [
        "def processed_text(text):\n",
        "  first = natural_language_processing(text)\n",
        "  vectors = tfidf2.transform([first]).toarray()\n",
        "  result = RFC_best.predict(vectors)\n",
        "  if result[0] == 0:\n",
        "    print('The Review is Good, You can prefer this Hotel.')\n",
        "  else:\n",
        "    print('The Review is Not so Good, there are plenty other options.')\n",
        ""
      ],
      "metadata": {
        "id": "kiu50H-94iAv"
      },
      "execution_count": null,
      "outputs": []
    },
    {
      "cell_type": "code",
      "source": [
        "processed_text(text)"
      ],
      "metadata": {
        "colab": {
          "base_uri": "https://localhost:8080/"
        },
        "id": "rqNH7TQB5721",
        "outputId": "d6ca5673-f0e8-4deb-c107-905c2a569b3c"
      },
      "execution_count": null,
      "outputs": [
        {
          "output_type": "stream",
          "name": "stdout",
          "text": [
            "The Review is Good, You can prefer this Hotel.\n"
          ]
        }
      ]
    },
    {
      "cell_type": "code",
      "execution_count": null,
      "metadata": {
        "id": "d2ibGxvNGUQg"
      },
      "outputs": [],
      "source": [
        "import pickle\n",
        "pickle.dump(RFC_best, open('model_new.pickle', 'wb'))"
      ]
    },
    {
      "cell_type": "markdown",
      "metadata": {
        "id": "gCX9965dhzqZ"
      },
      "source": [
        "# **Conclusion**"
      ]
    }
  ],
  "metadata": {
    "colab": {
      "collapsed_sections": [
        "vncDsAP0Gaoa",
        "FJNUwmbgGyua",
        "w6K7xa23Elo4",
        "yQaldy8SH6Dl",
        "3RnN4peoiCZX",
        "x71ZqKXriCWQ",
        "7hBIi_osiCS2",
        "JlHwYmJAmNHm",
        "35m5QtbWiB9F",
        "PoPl-ycgm1ru",
        "H0kj-8xxnORC",
        "nA9Y7ga8ng1Z",
        "PBTbrJXOngz2",
        "u3PMJOP6ngxN",
        "MSa1f5Uengrz",
        "GF8Ens_Soomf",
        "0wOQAZs5pc--",
        "KSlN3yHqYklG",
        "EM7whBJCYoAo",
        "4Of9eVA-YrdM",
        "bamQiAODYuh1",
        "QHF8YVU7Yuh3",
        "GwzvFGzlYuh3",
        "qYpmQ266Yuh3",
        "OH-pJp9IphqM",
        "bbFf2-_FphqN",
        "_ouA3fa0phqN",
        "Seke61FWphqN",
        "PIIx-8_IphqN",
        "t27r6nlMphqO",
        "r2jJGEOYphqO",
        "b0JNsNcRphqO",
        "BZR9WyysphqO",
        "jj7wYXLtphqO",
        "eZrbJ2SmphqO",
        "rFu4xreNphqO",
        "YJ55k-q6phqO",
        "gCFgpxoyphqP",
        "OVtJsKN_phqQ",
        "lssrdh5qphqQ",
        "U2RJ9gkRphqQ",
        "1M8mcRywphqQ",
        "tgIPom80phqQ",
        "JMzcOPDDphqR",
        "x-EpHcCOp1ci",
        "X_VqEhTip1ck",
        "8zGJKyg5p1ck",
        "PVzmfK_Ep1ck",
        "n3dbpmDWp1ck",
        "ylSl6qgtp1ck",
        "ZWILFDl5p1ck",
        "M7G43BXep1ck",
        "Ag9LCva-p1cl",
        "E6MkPsBcp1cl",
        "2cELzS2fp1cl",
        "3MPXvC8up1cl",
        "NC_X3p0fY2L0",
        "UV0SzAkaZNRQ",
        "YPEH6qLeZNRQ",
        "q29F0dvdveiT",
        "EXh0U9oCveiU",
        "22aHeOlLveiV",
        "g-ATYxFrGrvw",
        "Yfr_Vlr8HBkt",
        "8yEUt7NnHlrM",
        "tEA2Xm5dHt1r",
        "I79__PHVH19G",
        "Ou-I18pAyIpj",
        "fF3858GYyt-u",
        "4_0_7-oCpUZd",
        "hwyV_J3ipUZe",
        "3yB-zSqbpUZe",
        "dEUvejAfpUZe",
        "Fd15vwWVpUZf",
        "bn_IUdTipZyH",
        "49K5P_iCpZyH",
        "Nff-vKELpZyI",
        "kLW572S8pZyI",
        "dWbDXHzopZyI",
        "7wuGOrhz0itI",
        "578E2V7j08f6",
        "67NQN5KX2AMe",
        "Iwf50b-R2tYG",
        "T0VqWOYE6DLQ",
        "qBMux9mC6MCf",
        "rAdphbQ9Bhjc",
        "qjKvONjwE8ra",
        "VfCC591jGiD4",
        "ArJBuiUVfxKd",
        "PiV4Ypx8fxKe",
        "JWYfwnehpsJ1",
        "HAih1iBOpsJ2",
        "zVGeBEFhpsJ2",
        "bmKjuQ-FpsJ3",
        "7AN1z2sKpx6M",
        "_-qAgymDpx6N",
        "Z-hykwinpx6N",
        "gCX9965dhzqZ"
      ],
      "provenance": [],
      "include_colab_link": true
    },
    "gpuClass": "standard",
    "kernelspec": {
      "display_name": "Python 3",
      "name": "python3"
    },
    "language_info": {
      "name": "python"
    }
  },
  "nbformat": 4,
  "nbformat_minor": 0
}